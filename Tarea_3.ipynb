{
  "nbformat": 4,
  "nbformat_minor": 0,
  "metadata": {
    "colab": {
      "name": "Tarea 3.ipynb",
      "provenance": [],
      "authorship_tag": "ABX9TyOxNWOLzfYL8JSFnwQUcMTD",
      "include_colab_link": true
    },
    "kernelspec": {
      "name": "python3",
      "display_name": "Python 3"
    },
    "language_info": {
      "name": "python"
    }
  },
  "cells": [
    {
      "cell_type": "markdown",
      "metadata": {
        "id": "view-in-github",
        "colab_type": "text"
      },
      "source": [
        "<a href=\"https://colab.research.google.com/github/darlaabril/Taller-Python/blob/main/Tarea_3.ipynb\" target=\"_parent\"><img src=\"https://colab.research.google.com/assets/colab-badge.svg\" alt=\"Open In Colab\"/></a>"
      ]
    },
    {
      "cell_type": "markdown",
      "source": [
        "#Tarea 3"
      ],
      "metadata": {
        "id": "6ZMXfaRN_qfP"
      }
    },
    {
      "cell_type": "markdown",
      "source": [
        "###Ejercicio\n",
        "Utilizar una base de datos de ingresos promedio mensual\n",
        "o Seleccionar columnas específicas de bien años pares o años impares\n",
        "o Reemplazar nombres de departamentos en minúsculas por mayúsculas\n",
        "o Realizar merge entre ingresos promedio mensual y superficie\n",
        "\n",
        "Puedes encontrar la información de superficie en:\n",
        "Link: https://github.com/darlaabril/Taller-Python/blob/main/DataPanda%20-%20Hoja%201%20(1).csv\n",
        "\n",
        "Gráfico de Población censada por departamento\n",
        "Los gráficos deben tener las siguientes características:\n",
        "\n",
        "o Deben tener título y fuente.\n",
        "\n",
        "o Los ejes deben tener nombre\n",
        "\n",
        "o Deben tener un tema estético.\n"
      ],
      "metadata": {
        "id": "ZiK1C6g5_t10"
      }
    },
    {
      "cell_type": "code",
      "source": [
        ""
      ],
      "metadata": {
        "id": "AmDt4HxBB1Cb"
      },
      "execution_count": null,
      "outputs": []
    }
  ]
}