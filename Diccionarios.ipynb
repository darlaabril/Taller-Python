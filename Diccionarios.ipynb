{
  "nbformat": 4,
  "nbformat_minor": 0,
  "metadata": {
    "colab": {
      "name": "Diccionarios.ipynb",
      "provenance": [],
      "include_colab_link": true
    },
    "kernelspec": {
      "name": "python3",
      "display_name": "Python 3"
    },
    "language_info": {
      "name": "python"
    }
  },
  "cells": [
    {
      "cell_type": "markdown",
      "metadata": {
        "id": "view-in-github",
        "colab_type": "text"
      },
      "source": [
        "<a href=\"https://colab.research.google.com/github/darlaabril/Taller-Python/blob/main/Diccionarios.ipynb\" target=\"_parent\"><img src=\"https://colab.research.google.com/assets/colab-badge.svg\" alt=\"Open In Colab\"/></a>"
      ]
    },
    {
      "cell_type": "markdown",
      "source": [
        "#Diccionarios\n",
        "Un diccionario es una estructura de datos que almacena pares clave-valor. Cada clave se asociada a un valor y permite acceder a este.\n"
      ],
      "metadata": {
        "id": "_POw3vSimONw"
      }
    },
    {
      "cell_type": "code",
      "execution_count": null,
      "metadata": {
        "id": "4jzmtoH1mJIF"
      },
      "outputs": [],
      "source": [
        "juan = {'altura':1.72, 'peso':68, 'edad':17}"
      ]
    },
    {
      "cell_type": "markdown",
      "source": [
        "##Acceder a un valor\n",
        "Para acceder a un valor asociado a una clave debemos escribir el nombre del diccionario seguido de la clave entre corchetes"
      ],
      "metadata": {
        "id": "-P2RQUyOpS3K"
      }
    },
    {
      "cell_type": "code",
      "source": [
        "print(juan['altura'])\n",
        "print(juan['peso'])\n",
        "print(juan['edad'])"
      ],
      "metadata": {
        "colab": {
          "base_uri": "https://localhost:8080/"
        },
        "id": "ZgwLriCipufd",
        "outputId": "70afb8d1-6bd1-4181-a756-415da3c8ea4d"
      },
      "execution_count": null,
      "outputs": [
        {
          "output_type": "stream",
          "name": "stdout",
          "text": [
            "1.72\n",
            "68\n",
            "17\n"
          ]
        }
      ]
    },
    {
      "cell_type": "markdown",
      "source": [
        "##Añadir nuevos pares clave-valor\n",
        "Podemos añadir nuevos pares clave-valor a un diccionario. Para esto se debe escribir el nombre del diccionario, luego el nombre de la nueva clave entre comillar y definir su valir mediante el signo =."
      ],
      "metadata": {
        "id": "OrkkHR-5p5Dr"
      }
    },
    {
      "cell_type": "code",
      "source": [
        "juan['universidad'] = 'PUCP'\n"
      ],
      "metadata": {
        "id": "9PnD1KEgp2Wz"
      },
      "execution_count": null,
      "outputs": []
    },
    {
      "cell_type": "code",
      "source": [
        "print(juan)"
      ],
      "metadata": {
        "colab": {
          "base_uri": "https://localhost:8080/"
        },
        "id": "Ob9kDdE1qye_",
        "outputId": "ed14396a-7fbd-4dd3-fb93-c908419bf5c2"
      },
      "execution_count": null,
      "outputs": [
        {
          "output_type": "stream",
          "name": "stdout",
          "text": [
            "{'altura': 1.72, 'peso': 68, 'edad': 17, 'universidad': 'PUCP'}\n"
          ]
        }
      ]
    },
    {
      "cell_type": "markdown",
      "source": [
        "##Comenzando un diccionario desde 0\n",
        "En ciertas ocasiones puede ser conveniente usar un diccionario vacío. Por ejemplo, podemos tener un código previo que generará valores automáticamente y queremos almacenarlos. Para empezar un diccionario en blanco debemos poner el nombre del diccionario que crearemos seguido del signo igual y llaves vacías.\n"
      ],
      "metadata": {
        "id": "qPmbDWdmq8cM"
      }
    },
    {
      "cell_type": "code",
      "source": [
        "juan = {}"
      ],
      "metadata": {
        "id": "4bkyI7ayq8Jv"
      },
      "execution_count": null,
      "outputs": []
    },
    {
      "cell_type": "markdown",
      "source": [
        "Luego añadimos valores como ya hemos aprendido."
      ],
      "metadata": {
        "id": "h99Pxaqrrz3J"
      }
    },
    {
      "cell_type": "code",
      "source": [
        "juan['altura'] = 1.72\n",
        "juan['peso'] = 68\n",
        "juan['edad'] = 17\n",
        "juan['universidad'] = 'PUCP'\n",
        "print(juan)"
      ],
      "metadata": {
        "colab": {
          "base_uri": "https://localhost:8080/"
        },
        "id": "_CUSDd-fr4x4",
        "outputId": "1c66de21-7df7-4bbf-944f-0bae92daf9a6"
      },
      "execution_count": null,
      "outputs": [
        {
          "output_type": "stream",
          "name": "stdout",
          "text": [
            "{'altura': 1.72, 'peso': 68, 'edad': 17, 'universidad': 'PUCP'}\n"
          ]
        }
      ]
    },
    {
      "cell_type": "markdown",
      "source": [
        "##Modificando valores en un diccionario\n",
        "Para modificar los valores de un diccionario debemos seguir la misma estructura para ingresar un valor, sin embargo, pondremos un valor diferente para una clave ya existente."
      ],
      "metadata": {
        "id": "4dANk3HlsOyf"
      }
    },
    {
      "cell_type": "code",
      "source": [
        "juan['universidad'] = 'UP'\n",
        "print(juan)"
      ],
      "metadata": {
        "colab": {
          "base_uri": "https://localhost:8080/"
        },
        "id": "s1kvUu1nsz1c",
        "outputId": "ff6aba23-5e3e-4ffe-d662-090e01d5c58f"
      },
      "execution_count": null,
      "outputs": [
        {
          "output_type": "stream",
          "name": "stdout",
          "text": [
            "{'altura': 1.72, 'peso': 68, 'edad': 17, 'universidad': 'UP'}\n"
          ]
        }
      ]
    },
    {
      "cell_type": "markdown",
      "source": [
        "##Remover pares clave-valor\n",
        "Cuando cierta información ya no es requerida, podemos remover todo el par clave-valor. Para esto solo necesitamos el nombre del diccionario y la clave que queremos eliminar."
      ],
      "metadata": {
        "id": "VC79N7Qvs-gq"
      }
    },
    {
      "cell_type": "code",
      "source": [
        "del juan['universidad']\n",
        "print(juan)"
      ],
      "metadata": {
        "colab": {
          "base_uri": "https://localhost:8080/"
        },
        "id": "EqRu3Gdj9pQO",
        "outputId": "d6591736-7db1-4cd3-8eba-49e7488f6a14"
      },
      "execution_count": null,
      "outputs": [
        {
          "output_type": "stream",
          "name": "stdout",
          "text": [
            "{'altura': 1.72, 'peso': 68, 'edad': 17}\n"
          ]
        }
      ]
    },
    {
      "cell_type": "markdown",
      "source": [
        "##Usando get() para acceder a os valores\n",
        "Una forma alternativa de acceder a los valores de un diccionario es mediante el comando get().\n"
      ],
      "metadata": {
        "id": "FzOlffxH-OjE"
      }
    },
    {
      "cell_type": "code",
      "source": [
        "juan.get('edad')"
      ],
      "metadata": {
        "colab": {
          "base_uri": "https://localhost:8080/"
        },
        "id": "aeKab9qj-NFp",
        "outputId": "7697b344-306e-41ae-ee0a-cfd7768f5a8a"
      },
      "execution_count": null,
      "outputs": [
        {
          "output_type": "execute_result",
          "data": {
            "text/plain": [
              "17"
            ]
          },
          "metadata": {},
          "execution_count": 11
        }
      ]
    },
    {
      "cell_type": "markdown",
      "source": [
        "Este método también presenta una característica especial. En caso el valor pueda no existir y queramos evitar un error, se puede expresar un segundo argumento en el cual indiquemos el mensaje o valor por defecto que debe salir en caso la información no exista.\n"
      ],
      "metadata": {
        "id": "C4ksGl62_Ymy"
      }
    },
    {
      "cell_type": "code",
      "source": [
        "juan.get('universidad','no se asigno un valor!')"
      ],
      "metadata": {
        "colab": {
          "base_uri": "https://localhost:8080/",
          "height": 36
        },
        "id": "jxpBb6eX_376",
        "outputId": "2139b3b5-fc50-4cfa-9371-a6623eece3e4"
      },
      "execution_count": null,
      "outputs": [
        {
          "output_type": "execute_result",
          "data": {
            "text/plain": [
              "'no se asigno un valor!'"
            ],
            "application/vnd.google.colaboratory.intrinsic+json": {
              "type": "string"
            }
          },
          "metadata": {},
          "execution_count": 12
        }
      ]
    }
  ]
}