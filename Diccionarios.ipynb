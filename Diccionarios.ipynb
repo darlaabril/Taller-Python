{
  "nbformat": 4,
  "nbformat_minor": 0,
  "metadata": {
    "colab": {
      "name": "Diccionarios.ipynb",
      "provenance": []
    },
    "kernelspec": {
      "name": "python3",
      "display_name": "Python 3"
    },
    "language_info": {
      "name": "python"
    }
  },
  "cells": [
    {
      "cell_type": "markdown",
      "source": [
        "#Diccionarios\n",
        "Un diccionario es una estructura de datos que almacena pares clave-valor. Cada clave se asociada a un valor y permite acceder a este.\n"
      ],
      "metadata": {
        "id": "_POw3vSimONw"
      }
    },
    {
      "cell_type": "code",
      "execution_count": null,
      "metadata": {
        "id": "4jzmtoH1mJIF"
      },
      "outputs": [],
      "source": [
        "juan = {'altura':1.72, 'peso':68, 'edad':17}"
      ]
    },
    {
      "cell_type": "markdown",
      "source": [
        "##Acceder a un valor\n",
        "Para acceder a un valor asociado a una clave debemos escribir el nombre del diccionario seguido de la clave entre corchetes"
      ],
      "metadata": {
        "id": "-P2RQUyOpS3K"
      }
    },
    {
      "cell_type": "code",
      "source": [
        "print(juan['altura'])\n",
        "print(juan['peso'])\n",
        "print(juan['edad'])"
      ],
      "metadata": {
        "colab": {
          "base_uri": "https://localhost:8080/"
        },
        "id": "ZgwLriCipufd",
        "outputId": "70afb8d1-6bd1-4181-a756-415da3c8ea4d"
      },
      "execution_count": null,
      "outputs": [
        {
          "output_type": "stream",
          "name": "stdout",
          "text": [
            "1.72\n",
            "68\n",
            "17\n"
          ]
        }
      ]
    },
    {
      "cell_type": "markdown",
      "source": [
        "##Añadir nuevos pares clave-valor\n",
        "Podemos añadir nuevos pares clave-valor a un diccionario. Para esto se debe escribir el nombre del diccionario, luego el nombre de la nueva clave entre comillar y definir su valir mediante el signo =."
      ],
      "metadata": {
        "id": "OrkkHR-5p5Dr"
      }
    },
    {
      "cell_type": "code",
      "source": [
        "juan['universidad'] = 'PUCP'\n"
      ],
      "metadata": {
        "id": "9PnD1KEgp2Wz"
      },
      "execution_count": null,
      "outputs": []
    },
    {
      "cell_type": "code",
      "source": [
        "print(juan)"
      ],
      "metadata": {
        "colab": {
          "base_uri": "https://localhost:8080/"
        },
        "id": "Ob9kDdE1qye_",
        "outputId": "ed14396a-7fbd-4dd3-fb93-c908419bf5c2"
      },
      "execution_count": null,
      "outputs": [
        {
          "output_type": "stream",
          "name": "stdout",
          "text": [
            "{'altura': 1.72, 'peso': 68, 'edad': 17, 'universidad': 'PUCP'}\n"
          ]
        }
      ]
    },
    {
      "cell_type": "markdown",
      "source": [
        "##Comenzando un diccionario desde 0\n",
        "En ciertas ocasiones puede ser conveniente usar un diccionario vacío. Por ejemplo, podemos tener un código previo que generará valores automáticamente y queremos almacenarlos. Para empezar un diccionario en blanco debemos poner el nombre del diccionario que crearemos seguido del signo igual y llaves vacías.\n"
      ],
      "metadata": {
        "id": "qPmbDWdmq8cM"
      }
    },
    {
      "cell_type": "code",
      "source": [
        "juan = {}"
      ],
      "metadata": {
        "id": "4bkyI7ayq8Jv"
      },
      "execution_count": null,
      "outputs": []
    },
    {
      "cell_type": "markdown",
      "source": [
        "Luego añadimos valores como ya hemos aprendido."
      ],
      "metadata": {
        "id": "h99Pxaqrrz3J"
      }
    },
    {
      "cell_type": "code",
      "source": [
        "juan['altura'] = 1.72\n",
        "juan['peso'] = 68\n",
        "juan['edad'] = 17\n",
        "juan['universidad'] = 'PUCP'\n",
        "print(juan)"
      ],
      "metadata": {
        "colab": {
          "base_uri": "https://localhost:8080/"
        },
        "id": "_CUSDd-fr4x4",
        "outputId": "1c66de21-7df7-4bbf-944f-0bae92daf9a6"
      },
      "execution_count": null,
      "outputs": [
        {
          "output_type": "stream",
          "name": "stdout",
          "text": [
            "{'altura': 1.72, 'peso': 68, 'edad': 17, 'universidad': 'PUCP'}\n"
          ]
        }
      ]
    },
    {
      "cell_type": "markdown",
      "source": [
        "##Modificando valores en un diccionario\n",
        "Para modificar los valores de un diccionario debemos seguir la misma estructura para ingresar un valor, sin embargo, pondremos un valor diferente para una clave ya existente."
      ],
      "metadata": {
        "id": "4dANk3HlsOyf"
      }
    },
    {
      "cell_type": "code",
      "source": [
        "juan['universidad'] = 'UP'\n",
        "print(juan)"
      ],
      "metadata": {
        "colab": {
          "base_uri": "https://localhost:8080/"
        },
        "id": "s1kvUu1nsz1c",
        "outputId": "ff6aba23-5e3e-4ffe-d662-090e01d5c58f"
      },
      "execution_count": null,
      "outputs": [
        {
          "output_type": "stream",
          "name": "stdout",
          "text": [
            "{'altura': 1.72, 'peso': 68, 'edad': 17, 'universidad': 'UP'}\n"
          ]
        }
      ]
    },
    {
      "cell_type": "markdown",
      "source": [
        "##Remover pares clave-valor\n",
        "Cuando cierta información ya no es requerida, podemos remover todo el par clave-valor. Para esto solo necesitamos el nombre del diccionario y la clave que queremos eliminar."
      ],
      "metadata": {
        "id": "VC79N7Qvs-gq"
      }
    },
    {
      "cell_type": "code",
      "source": [
        "del juan['universidad']\n",
        "print(juan)"
      ],
      "metadata": {
        "colab": {
          "base_uri": "https://localhost:8080/"
        },
        "id": "EqRu3Gdj9pQO",
        "outputId": "d6591736-7db1-4cd3-8eba-49e7488f6a14"
      },
      "execution_count": null,
      "outputs": [
        {
          "output_type": "stream",
          "name": "stdout",
          "text": [
            "{'altura': 1.72, 'peso': 68, 'edad': 17}\n"
          ]
        }
      ]
    },
    {
      "cell_type": "markdown",
      "source": [
        "##Usando get() para acceder a os valores\n",
        "Una forma alternativa de acceder a los valores de un diccionario es mediante el comando get().\n"
      ],
      "metadata": {
        "id": "FzOlffxH-OjE"
      }
    },
    {
      "cell_type": "code",
      "source": [
        "juan.get('edad')"
      ],
      "metadata": {
        "colab": {
          "base_uri": "https://localhost:8080/"
        },
        "id": "aeKab9qj-NFp",
        "outputId": "7697b344-306e-41ae-ee0a-cfd7768f5a8a"
      },
      "execution_count": null,
      "outputs": [
        {
          "output_type": "execute_result",
          "data": {
            "text/plain": [
              "17"
            ]
          },
          "metadata": {},
          "execution_count": 11
        }
      ]
    },
    {
      "cell_type": "markdown",
      "source": [
        "Este método también presenta una característica especial. En caso el valor pueda no existir y queramos evitar un error, se puede expresar un segundo argumento en el cual indiquemos el mensaje o valor por defecto que debe salir en caso la información no exista.\n"
      ],
      "metadata": {
        "id": "C4ksGl62_Ymy"
      }
    },
    {
      "cell_type": "code",
      "source": [
        "juan.get('universidad','no se asigno un valor!')"
      ],
      "metadata": {
        "colab": {
          "base_uri": "https://localhost:8080/",
          "height": 36
        },
        "id": "jxpBb6eX_376",
        "outputId": "2139b3b5-fc50-4cfa-9371-a6623eece3e4"
      },
      "execution_count": null,
      "outputs": [
        {
          "output_type": "execute_result",
          "data": {
            "text/plain": [
              "'no se asigno un valor!'"
            ],
            "application/vnd.google.colaboratory.intrinsic+json": {
              "type": "string"
            }
          },
          "metadata": {},
          "execution_count": 12
        }
      ]
    },
    {
      "cell_type": "markdown",
      "source": [
        "##Loopear un diccionario"
      ],
      "metadata": {
        "id": "tGaBsw5fFomj"
      }
    },
    {
      "cell_type": "code",
      "source": [
        "alturaypeso = {'juan':[1.65,65],'javier':[1.72,70]}\n",
        "print(alturaypeso)"
      ],
      "metadata": {
        "colab": {
          "base_uri": "https://localhost:8080/"
        },
        "id": "tOMKL-URFnm7",
        "outputId": "01143daf-a23c-4633-e079-a8a0e7e85556"
      },
      "execution_count": 28,
      "outputs": [
        {
          "output_type": "stream",
          "name": "stdout",
          "text": [
            "{'juan': [1.65, 65], 'javier': [1.72, 70]}\n"
          ]
        }
      ]
    },
    {
      "cell_type": "markdown",
      "source": [
        "Pensamos cómo hacerlo ..."
      ],
      "metadata": {
        "id": "DGcjxF53M0o9"
      }
    },
    {
      "cell_type": "code",
      "source": [
        "listjuan = alturaypeso['juan']\n",
        "print(listjuan[0])\n",
        "print(listjuan[1])"
      ],
      "metadata": {
        "colab": {
          "base_uri": "https://localhost:8080/"
        },
        "id": "onrKIDmBHsMn",
        "outputId": "9324035b-7977-4cd2-e9f6-d39f3e98b906"
      },
      "execution_count": 13,
      "outputs": [
        {
          "output_type": "stream",
          "name": "stdout",
          "text": [
            "1.65\n",
            "65\n"
          ]
        }
      ]
    },
    {
      "cell_type": "code",
      "source": [
        "def imc(peso, estatura):\n",
        "    '''\n",
        "    Esta función devuelve tu indice de masa corporal\n",
        "    inputs: \n",
        "        peso: peso en kg\n",
        "        estatura: estatura en m\n",
        "    outputs:\n",
        "        resultado: tu imc\n",
        "    '''\n",
        "    indice = peso/(estatura)**2\n",
        "    return indice"
      ],
      "metadata": {
        "id": "i-fcXJwNJFN1"
      },
      "execution_count": 14,
      "outputs": []
    },
    {
      "cell_type": "code",
      "source": [
        "imc(listjuan[1],listjuan[0])"
      ],
      "metadata": {
        "colab": {
          "base_uri": "https://localhost:8080/"
        },
        "id": "tWSOcCjjItZd",
        "outputId": "52be5e90-369e-4677-c897-ce27444deab2"
      },
      "execution_count": 15,
      "outputs": [
        {
          "output_type": "execute_result",
          "data": {
            "text/plain": [
              "23.875114784205696"
            ]
          },
          "metadata": {},
          "execution_count": 15
        }
      ]
    },
    {
      "cell_type": "code",
      "source": [
        "alturasypesos = alturaypeso.values()\n",
        "alturasypesos"
      ],
      "metadata": {
        "colab": {
          "base_uri": "https://localhost:8080/"
        },
        "id": "tuzh8RpyJtbj",
        "outputId": "25d7d211-cf24-4b90-b8af-22bff215a925"
      },
      "execution_count": 16,
      "outputs": [
        {
          "output_type": "execute_result",
          "data": {
            "text/plain": [
              "dict_values([[1.65, 65], [1.72, 70]])"
            ]
          },
          "metadata": {},
          "execution_count": 16
        }
      ]
    },
    {
      "cell_type": "code",
      "source": [
        "nombres = alturaypeso.keys()\n",
        "nombres"
      ],
      "metadata": {
        "colab": {
          "base_uri": "https://localhost:8080/"
        },
        "id": "Hb3PqG8eNiqL",
        "outputId": "a522f8ec-0698-491b-e2e8-75995ccfaf90"
      },
      "execution_count": 29,
      "outputs": [
        {
          "output_type": "execute_result",
          "data": {
            "text/plain": [
              "dict_keys(['juan', 'javier'])"
            ]
          },
          "metadata": {},
          "execution_count": 29
        }
      ]
    },
    {
      "cell_type": "markdown",
      "source": [
        "Loop!"
      ],
      "metadata": {
        "id": "g-qKTaA_NFmM"
      }
    },
    {
      "cell_type": "code",
      "source": [
        "lista_imc = []\n",
        " \n",
        "for alturaypeso in alturasypesos:\n",
        "  imc1 = imc(alturaypeso[1],alturaypeso[0])\n",
        "  #print(imc1)\n",
        "  lista_imc.append(imc1)\n",
        "\n",
        "print(lista_imc)"
      ],
      "metadata": {
        "colab": {
          "base_uri": "https://localhost:8080/"
        },
        "id": "pvJNPug1KDSd",
        "outputId": "6d36e7b9-71e5-4a74-8557-27c5d05793d5"
      },
      "execution_count": 20,
      "outputs": [
        {
          "output_type": "stream",
          "name": "stdout",
          "text": [
            "23.875114784205696\n",
            "23.661438615467823\n",
            "[23.875114784205696, 23.661438615467823]\n"
          ]
        }
      ]
    }
  ]
}
