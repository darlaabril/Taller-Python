{
  "nbformat": 4,
  "nbformat_minor": 0,
  "metadata": {
    "colab": {
      "name": "Control de flujo.ipynb",
      "provenance": [],
      "include_colab_link": true
    },
    "kernelspec": {
      "name": "python3",
      "display_name": "Python 3"
    },
    "language_info": {
      "name": "python"
    }
  },
  "cells": [
    {
      "cell_type": "markdown",
      "metadata": {
        "id": "view-in-github",
        "colab_type": "text"
      },
      "source": [
        "<a href=\"https://colab.research.google.com/github/darlaabril/Taller-Python/blob/main/Control_de_flujo.ipynb\" target=\"_parent\"><img src=\"https://colab.research.google.com/assets/colab-badge.svg\" alt=\"Open In Colab\"/></a>"
      ]
    },
    {
      "cell_type": "markdown",
      "source": [
        "#Control de Flujo\n",
        "Hasta ahora hemos elaborado scripts que se ejecutan de arriba hacia abajo y de izquierda a derecha; cuando se ejecuta el la última línea, el programa termina. Sin embargo, existen herramientas en Python que permiten alterar el flujo normal de un programa. El uso de estas herramientas es denominado control de flujo.\n",
        "\n",
        "Las sentencias de Python para control de flujo son de dos tipos: Sentencias condicionales y sentencias de bucle. A continuación se explora cada una de ellas.\n",
        "\n",
        "#Sentencias condicionales: if, else y elif\n",
        "Este tipo de sentencias nos permiten alterar el flujo de un programa mediante el cumplimiento de una condición. \n",
        "\n",
        "##If\n",
        "Este comando permite evaluar si se debe ejecutar una sola acción. A continuación se presenta un ejemplo sencillo:"
      ],
      "metadata": {
        "id": "npQ4TSh7Nedi"
      }
    },
    {
      "cell_type": "code",
      "execution_count": null,
      "metadata": {
        "id": "StRUtLiuNZZQ",
        "colab": {
          "base_uri": "https://localhost:8080/"
        },
        "outputId": "33bd973f-b07d-410a-d067-947be19dcbe1"
      },
      "outputs": [
        {
          "output_type": "stream",
          "name": "stdout",
          "text": [
            "Positivo\n"
          ]
        }
      ],
      "source": [
        "x = 5 \n",
        "if x > 0:\n",
        "  print(\"Positivo\")"
      ]
    },
    {
      "cell_type": "markdown",
      "source": [
        "En el ejemplo anterior se hace uso del comando if, el cual es que verifica si se cumple la condición que le sigue. Esta condición debe ser de tipo boleano y debe seguirse de dos puntos. En caso sea verdadera, Python ejecutará el bloque indentado que sigue.\n",
        "Si no se cumple la condición, el programa anterior simplemente no ejecutará nada:"
      ],
      "metadata": {
        "id": "2ARW7g-EXwBA"
      }
    },
    {
      "cell_type": "code",
      "source": [
        "x = -1\n",
        "if x > 0:\n",
        "  print(\"Positivo\")"
      ],
      "metadata": {
        "id": "aUCCf25zbZu6"
      },
      "execution_count": null,
      "outputs": []
    },
    {
      "cell_type": "markdown",
      "source": [
        "Sin embargo, Python nos permite también ejecutar una sentencia en caso la condición no se verifique, es decir, sea falsa. Para esto, usamos el comando else:"
      ],
      "metadata": {
        "id": "yIA23yPRbemT"
      }
    },
    {
      "cell_type": "code",
      "source": [
        "x = -1\n",
        "if x > 0:\n",
        "  print(\"Positivo\")\n",
        "else:\n",
        "  print(\"Negativo\")"
      ],
      "metadata": {
        "id": "mteXvWdpb8F9"
      },
      "execution_count": null,
      "outputs": []
    },
    {
      "cell_type": "markdown",
      "source": [
        "El comando else va seguido de dos puntos y, en la línea siguiente, se coloca la sentencia que debe ser ejecutada en caso no se cumpla la condición. Esta sentencia también debe estar indentada.\n"
      ],
      "metadata": {
        "id": "fjPkkiK9cIGo"
      }
    }
  ]
}