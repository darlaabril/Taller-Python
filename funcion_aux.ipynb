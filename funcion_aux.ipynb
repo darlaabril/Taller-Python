{
  "nbformat": 4,
  "nbformat_minor": 0,
  "metadata": {
    "colab": {
      "name": "funcion_aux.ipynb",
      "provenance": [],
      "collapsed_sections": [],
      "include_colab_link": true
    },
    "kernelspec": {
      "name": "python3",
      "display_name": "Python 3"
    },
    "language_info": {
      "name": "python"
    }
  },
  "cells": [
    {
      "cell_type": "markdown",
      "metadata": {
        "id": "view-in-github",
        "colab_type": "text"
      },
      "source": [
        "<a href=\"https://colab.research.google.com/github/darlaabril/Taller-Python/blob/main/funcion_aux.ipynb\" target=\"_parent\"><img src=\"https://colab.research.google.com/assets/colab-badge.svg\" alt=\"Open In Colab\"/></a>"
      ]
    },
    {
      "cell_type": "code",
      "execution_count": null,
      "metadata": {
        "colab": {
          "base_uri": "https://localhost:8080/"
        },
        "id": "m2IRuFSC1Zo1",
        "outputId": "51f31bf6-7f66-4205-9ee5-145d67865a3a"
      },
      "outputs": [
        {
          "output_type": "execute_result",
          "data": {
            "text/plain": [
              "True"
            ]
          },
          "metadata": {},
          "execution_count": 3
        }
      ],
      "source": [
        "def es_pobre_f (personas, habitaciones, agua_potable, desague, niños_s_escuela, ingreso):\n",
        "    '''\n",
        "    Esta función te indica si un hogar es pobre según NBI's\n",
        "    inputs: \n",
        "        personas:número de personas\n",
        "        habitaciones: número de habitaciones\n",
        "        agua_potable: la vivienda tiene agua potable, si=1, no=0\n",
        "        desague: la vivienda tiene desague\n",
        "        niños_s_escuela: cuantos niños no asisten a la escuela?\n",
        "        ingreso: en soles\n",
        "    outputs:\n",
        "        resultado: la persona es pobre según NBI's?\n",
        "    '''\n",
        "\n",
        "    no_hacinamiento = 0\n",
        "    agua_potable = 0\n",
        "    desague = 0\n",
        "    educacion = 0\n",
        "    b_monetario = 0\n",
        "\n",
        "    if personas/habitaciones < 2.4:\n",
        "        no_hacinamiento = True\n",
        "    if niños_s_escuela > 0:\n",
        "        educacion = True\n",
        "    if ingreso/personas > 360:\n",
        "        b_monetario = True\n",
        "    es_pobre = not(no_hacinamiento and agua_potable and educacion and desague and b_monetario)\n",
        "    \n",
        "    return(es_pobre)"
      ]
    }
  ]
}