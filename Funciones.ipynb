{
  "nbformat": 4,
  "nbformat_minor": 0,
  "metadata": {
    "colab": {
      "name": "Funciones.ipynb",
      "provenance": [],
      "collapsed_sections": [],
      "include_colab_link": true
    },
    "kernelspec": {
      "name": "python3",
      "display_name": "Python 3"
    },
    "language_info": {
      "name": "python"
    }
  },
  "cells": [
    {
      "cell_type": "markdown",
      "metadata": {
        "id": "view-in-github",
        "colab_type": "text"
      },
      "source": [
        "<a href=\"https://colab.research.google.com/github/darlaabril/Taller-Python/blob/main/Funciones.ipynb\" target=\"_parent\"><img src=\"https://colab.research.google.com/assets/colab-badge.svg\" alt=\"Open In Colab\"/></a>"
      ]
    },
    {
      "cell_type": "markdown",
      "source": [
        "#Funciones\n",
        "Las funciones son una serie de sentencias que pueden ser referenciadas mediante un solo nombre. Se usan para acortar el código que estemos ejecutando y evitar repetir una serie de comandos muchas veces. \n",
        "Existen 2 clases de funciones, las predefinidas por Python como print(), type(), entre otras; y las definidas por el usuario.\n",
        "\n",
        "##Estructura de una función\n",
        "Toda función tiene la siguiente forma:"
      ],
      "metadata": {
        "id": "SRFhv5DBTneG"
      }
    },
    {
      "cell_type": "code",
      "execution_count": null,
      "metadata": {
        "id": "Xb1_yuMmTghs"
      },
      "outputs": [],
      "source": [
        "def promedio(a, b):\n",
        "    '''\n",
        "    Esta función devuelve el promedio de dos números\n",
        "    Inputs: \n",
        "        a: número\n",
        "        b: número\n",
        "    Outputs:\n",
        "        resultado: un número\n",
        "    '''\n",
        "    resultado = (a + b)/2\n",
        "    return resultado"
      ]
    },
    {
      "cell_type": "markdown",
      "source": [
        "En primer lugar, se usa el comando def, el cual sirve para ordenar a Python que queremos ingresar una nueva función. Luego, se pone el nombre de la función seguido de los argumentos entre paréntesis y separados por comas. No debemos olvidar los dos puntos al final de la línea.\n",
        "Posteriormente, se añaden las siguientes líneas indentadas:\n",
        "-  La documentación de la función. Esta comienza y termina con tres comillas.\n",
        "-  Las sentencias que se van a ejecutar\n",
        "-  El comando return seguido del output de la función.\n",
        "Si ejecutamos el resultado de la función anterior obtendremos el siguiente resultado:"
      ],
      "metadata": {
        "id": "hG6Berz0AO2t"
      }
    },
    {
      "cell_type": "code",
      "source": [
        "promedio(1, 3)"
      ],
      "metadata": {
        "colab": {
          "base_uri": "https://localhost:8080/"
        },
        "id": "4gZzew5iBo5v",
        "outputId": "e781e757-35d8-4323-c024-22059a3c9bf8"
      },
      "execution_count": null,
      "outputs": [
        {
          "output_type": "execute_result",
          "data": {
            "text/plain": [
              "2.0"
            ]
          },
          "metadata": {},
          "execution_count": 3
        }
      ]
    },
    {
      "cell_type": "markdown",
      "source": [
        "##¿return o print?\n",
        "También podemos obtener el resultado de una función mediante el comando print(). Sin embargo, el resultado que devuelva esta sintaxis será de tipo 'NoneType', mientras que en una función númerica, return nos devolverá una variable de tipo int. Esto puede ser importante si la función forma parte de un programa más grande.\n",
        "\n",
        "##Funciones sin parámetros\n",
        "Estas funciones no requieren ingresar parámetros."
      ],
      "metadata": {
        "id": "qM6IJAobBn66"
      }
    },
    {
      "cell_type": "code",
      "source": [
        "def definicion_función():\n",
        "    print(\"Las funciones son una serie de sentencias que pueden ser referenciadas mediante un solo nombre\")"
      ],
      "metadata": {
        "id": "ZkxSe_C3DVXf"
      },
      "execution_count": null,
      "outputs": []
    },
    {
      "cell_type": "code",
      "source": [
        "definicion_función()"
      ],
      "metadata": {
        "colab": {
          "base_uri": "https://localhost:8080/"
        },
        "id": "4rf4XKtoD98T",
        "outputId": "e7c930f2-1b82-4498-cf4a-b82389d67df0"
      },
      "execution_count": null,
      "outputs": [
        {
          "output_type": "stream",
          "name": "stdout",
          "text": [
            "Las funciones son una serie de sentencias que pueden ser referenciadas mediante un solo nombre\n"
          ]
        }
      ]
    },
    {
      "cell_type": "markdown",
      "source": [
        "##Argumentos posicionales y con palabras clave\n",
        "Python entenderá que los argumentos se ingresan en el orden en el que se ha definido la función. "
      ],
      "metadata": {
        "id": "zj2VxWxzEA_3"
      }
    },
    {
      "cell_type": "code",
      "source": [
        "def imc(peso, estatura):\n",
        "    '''\n",
        "    Esta función devuelve tu indice de masa corporal\n",
        "    inputs: \n",
        "        peso: peso en kg\n",
        "        estatura: estatura en cm\n",
        "    outputs:\n",
        "        resultado: tu imc\n",
        "    '''\n",
        "    indice = peso/(estatura/100)**2\n",
        "    return indice"
      ],
      "metadata": {
        "id": "iYmzwYqMEh0M"
      },
      "execution_count": null,
      "outputs": []
    },
    {
      "cell_type": "code",
      "source": [
        "imc(60, 165)"
      ],
      "metadata": {
        "colab": {
          "base_uri": "https://localhost:8080/"
        },
        "id": "oG6WpI17Fp29",
        "outputId": "1ca6f145-b760-4d09-fea7-6d60d8e5ca4e"
      },
      "execution_count": null,
      "outputs": [
        {
          "output_type": "execute_result",
          "data": {
            "text/plain": [
              "22.03856749311295"
            ]
          },
          "metadata": {},
          "execution_count": 7
        }
      ]
    },
    {
      "cell_type": "code",
      "source": [
        "imc(165, 60)"
      ],
      "metadata": {
        "colab": {
          "base_uri": "https://localhost:8080/"
        },
        "id": "PunF1DJMFy6q",
        "outputId": "674e0fbe-ced0-40f0-e271-9bee0decafd6"
      },
      "execution_count": null,
      "outputs": [
        {
          "output_type": "execute_result",
          "data": {
            "text/plain": [
              "458.33333333333337"
            ]
          },
          "metadata": {},
          "execution_count": 8
        }
      ]
    },
    {
      "cell_type": "markdown",
      "source": [
        "Sin embargo, podemos utilizar palabras clave para ingresar los argumentos en un orden distinto al que se ha expresado al definir una función."
      ],
      "metadata": {
        "id": "4OJ_0br4F7E5"
      }
    },
    {
      "cell_type": "code",
      "source": [
        "imc(estatura = 165, peso = 60)"
      ],
      "metadata": {
        "colab": {
          "base_uri": "https://localhost:8080/"
        },
        "id": "FO21npMhF6mU",
        "outputId": "64dfffb8-763d-4a5b-ab86-2a5a2a368a2f"
      },
      "execution_count": null,
      "outputs": [
        {
          "output_type": "execute_result",
          "data": {
            "text/plain": [
              "22.03856749311295"
            ]
          },
          "metadata": {},
          "execution_count": 10
        }
      ]
    },
    {
      "cell_type": "markdown",
      "source": [
        "##Alcance de las variables\n",
        "Las varibles que definimos adetro de una función solo se podran usar dentro de esta. Esto quiere decir, que si invocamos una variable utilizada en la sintaxis de la función fuera de ella, Python nos dirá que esta no esta definida."
      ],
      "metadata": {
        "id": "UUiVzfRRGpsC"
      }
    },
    {
      "cell_type": "code",
      "source": [
        "def imc2(peso, estatura):\n",
        "    '''\n",
        "    Esta función devuelve tu indice de masa corporal\n",
        "    inputs: \n",
        "        peso: peso en kg\n",
        "        estatura: estatura en cm\n",
        "    outputs:\n",
        "        resultado: tu imc\n",
        "    '''\n",
        "    est_cm = estatura/100\n",
        "    indice = peso/(est_cm)**2\n",
        "    return indice"
      ],
      "metadata": {
        "id": "JvvhWQE6Go0C"
      },
      "execution_count": null,
      "outputs": []
    },
    {
      "cell_type": "code",
      "source": [
        "p = 60\n",
        "est = 165\n",
        "imc2(p, est)"
      ],
      "metadata": {
        "colab": {
          "base_uri": "https://localhost:8080/"
        },
        "id": "y0XjHehRIA68",
        "outputId": "a359c4a1-d0c3-46e8-f38c-e80d3b2d2429"
      },
      "execution_count": null,
      "outputs": [
        {
          "output_type": "execute_result",
          "data": {
            "text/plain": [
              "22.03856749311295"
            ]
          },
          "metadata": {},
          "execution_count": 13
        }
      ]
    },
    {
      "cell_type": "code",
      "source": [
        "est_cm"
      ],
      "metadata": {
        "colab": {
          "base_uri": "https://localhost:8080/",
          "height": 166
        },
        "id": "4DqWHP8fIT-u",
        "outputId": "2579829a-6792-4c99-d8fb-7218693d7454"
      },
      "execution_count": null,
      "outputs": [
        {
          "output_type": "error",
          "ename": "NameError",
          "evalue": "ignored",
          "traceback": [
            "\u001b[0;31m---------------------------------------------------------------------------\u001b[0m",
            "\u001b[0;31mNameError\u001b[0m                                 Traceback (most recent call last)",
            "\u001b[0;32m<ipython-input-14-95aa3d21d432>\u001b[0m in \u001b[0;36m<module>\u001b[0;34m()\u001b[0m\n\u001b[0;32m----> 1\u001b[0;31m \u001b[0mest_cm\u001b[0m\u001b[0;34m\u001b[0m\u001b[0;34m\u001b[0m\u001b[0m\n\u001b[0m",
            "\u001b[0;31mNameError\u001b[0m: name 'est_cm' is not defined"
          ]
        }
      ]
    },
    {
      "cell_type": "markdown",
      "source": [
        "Python no reconoce la variable est_cm por que esta tiene un alcance local, es decir, solo es valida dentro de la función. En cambio, variables definidas en el script principal tienen un alcance global, esto significa que pueden ser utilizadas en el script principal pero también dentro de la función. "
      ],
      "metadata": {
        "id": "gjgHXTxdIhDx"
      }
    },
    {
      "cell_type": "code",
      "source": [
        "para_dividir = 100\n",
        "\n",
        "def imc3(peso, estatura):\n",
        "    '''\n",
        "    Esta función devuelve tu indice de masa corporal\n",
        "    inputs: \n",
        "        peso: peso en kg\n",
        "        estatura: estatura en cm\n",
        "    outputs:\n",
        "        resultado: tu imc\n",
        "    '''\n",
        "    est_cm = estatura/para_dividir\n",
        "    indice = peso/(est_cm)**2\n",
        "    return indice\n",
        "\n",
        "imc3(p, est)"
      ],
      "metadata": {
        "colab": {
          "base_uri": "https://localhost:8080/"
        },
        "id": "d2gugxQJJG7f",
        "outputId": "3b40f61e-a262-48bf-e9e4-ae1d7c229bb2"
      },
      "execution_count": null,
      "outputs": [
        {
          "output_type": "execute_result",
          "data": {
            "text/plain": [
              "22.03856749311295"
            ]
          },
          "metadata": {},
          "execution_count": 15
        }
      ]
    }
  ]
}