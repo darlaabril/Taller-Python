{
  "nbformat": 4,
  "nbformat_minor": 0,
  "metadata": {
    "colab": {
      "name": "Funciones.ipynb",
      "provenance": [],
      "collapsed_sections": []
    },
    "kernelspec": {
      "name": "python3",
      "display_name": "Python 3"
    },
    "language_info": {
      "name": "python"
    }
  },
  "cells": [
    {
      "cell_type": "markdown",
      "source": [
        "#Funciones\n",
        "Las funciones son una **serie de sentencias** que pueden ser referenciadas mediante un solo nombre. Se usan para acortar el código que estemos ejecutando y evitar repetir una serie de comandos muchas veces. \n",
        "Existen 2 clases de funciones, las predefinidas por Python como `print()`, `type()`; y las definidas por el usuario.\n",
        "\n",
        "##Estructura de una función\n",
        "Toda función tiene la siguiente forma:"
      ],
      "metadata": {
        "id": "SRFhv5DBTneG"
      }
    },
    {
      "cell_type": "code",
      "execution_count": null,
      "metadata": {
        "id": "Xb1_yuMmTghs"
      },
      "outputs": [],
      "source": [
        "def promedio(a, b):\n",
        "    '''\n",
        "    Esta función devuelve el promedio de dos números\n",
        "    Inputs: \n",
        "        a: número\n",
        "        b: número\n",
        "    Outputs:\n",
        "        resultado: un número\n",
        "    '''\n",
        "    resultado = (a + b)/2\n",
        "    return resultado"
      ]
    },
    {
      "cell_type": "markdown",
      "source": [
        " \n",
        "\n",
        "1. En primer lugar, se usa el comando def, el cual sirve para ordenar a Python que queremos ingresar una nueva función. \n",
        "2. Luego, se pone el nombre de la función seguido de los argumentos entre paréntesis y separados por comas. *No debemos olvidar los dos puntos al final de la línea.*\n",
        "3. Posteriormente, se añaden las siguientes líneas indentadas:\n",
        "    *  La documentación de la función. Esta comienza y termina con tres comillas.\n",
        "    * Las sentencias que se van a ejecutar\n",
        "    * El comando return seguido del output de la función.\n",
        "\n",
        "Si ejecutamos el resultado de la función anterior obtendremos el siguiente resultado:"
      ],
      "metadata": {
        "id": "hG6Berz0AO2t"
      }
    },
    {
      "cell_type": "code",
      "source": [
        "promedio(1, 3)"
      ],
      "metadata": {
        "colab": {
          "base_uri": "https://localhost:8080/"
        },
        "id": "4gZzew5iBo5v",
        "outputId": "e781e757-35d8-4323-c024-22059a3c9bf8"
      },
      "execution_count": null,
      "outputs": [
        {
          "output_type": "execute_result",
          "data": {
            "text/plain": [
              "2.0"
            ]
          },
          "metadata": {},
          "execution_count": 3
        }
      ]
    },
    {
      "cell_type": "markdown",
      "source": [
        "¿Dos outputs?"
      ],
      "metadata": {
        "id": "gCj17Tuq-6Xh"
      }
    },
    {
      "cell_type": "code",
      "source": [
        "def promedioysuma(a, b):\n",
        "    '''\n",
        "    Esta función devuelve el promedio de dos números\n",
        "    Inputs: \n",
        "        a: número\n",
        "        b: número\n",
        "    Outputs:\n",
        "        resultado: un número\n",
        "    '''\n",
        "    resultado = (a + b)/2\n",
        "    suma = a + b\n",
        "    return [resultado, suma]\n",
        "\n",
        "promedioysuma(1, 3)"
      ],
      "metadata": {
        "colab": {
          "base_uri": "https://localhost:8080/"
        },
        "id": "QWFEKcwC-amw",
        "outputId": "8d16f60c-45a9-4e94-9f7e-5cff9e57d10a"
      },
      "execution_count": null,
      "outputs": [
        {
          "output_type": "execute_result",
          "data": {
            "text/plain": [
              "[2.0, 4]"
            ]
          },
          "metadata": {},
          "execution_count": 4
        }
      ]
    },
    {
      "cell_type": "markdown",
      "source": [
        "##¿return o print?\n",
        "También podemos obtener el resultado de una función mediante el comando print(). Sin embargo, el resultado que devuelva esta sintaxis será de tipo 'NoneType', mientras que en una función númerica, return nos devolverá una variable de tipo int. Esto puede ser importante si la función forma parte de un programa más grande.\n",
        "\n"
      ],
      "metadata": {
        "id": "qM6IJAobBn66"
      }
    },
    {
      "cell_type": "code",
      "source": [
        "def promedio(a, b):\n",
        "    '''\n",
        "    Esta función devuelve el promedio de dos números\n",
        "    Inputs: \n",
        "        a: número\n",
        "        b: número\n",
        "    Outputs:\n",
        "        resultado: un número\n",
        "    '''\n",
        "    resultado = (a + b)/2\n",
        "    print(resultado)\n",
        "\n",
        "promedio1 = promedio(1, 3)\n",
        "type(promedio1)"
      ],
      "metadata": {
        "colab": {
          "base_uri": "https://localhost:8080/"
        },
        "id": "zbsyZguRCZFe",
        "outputId": "57366da3-0adc-4e43-84ae-bce45ccc1a45"
      },
      "execution_count": 11,
      "outputs": [
        {
          "output_type": "stream",
          "name": "stdout",
          "text": [
            "2.0\n"
          ]
        },
        {
          "output_type": "execute_result",
          "data": {
            "text/plain": [
              "NoneType"
            ]
          },
          "metadata": {},
          "execution_count": 11
        }
      ]
    },
    {
      "cell_type": "code",
      "source": [
        "1+promedio1"
      ],
      "metadata": {
        "colab": {
          "base_uri": "https://localhost:8080/",
          "height": 166
        },
        "id": "oE0GW_8yC5h9",
        "outputId": "11b07ea9-e93c-48ef-b055-57243300cd89"
      },
      "execution_count": 10,
      "outputs": [
        {
          "output_type": "error",
          "ename": "TypeError",
          "evalue": "ignored",
          "traceback": [
            "\u001b[0;31m---------------------------------------------------------------------------\u001b[0m",
            "\u001b[0;31mTypeError\u001b[0m                                 Traceback (most recent call last)",
            "\u001b[0;32m<ipython-input-10-7855c711381c>\u001b[0m in \u001b[0;36m<module>\u001b[0;34m()\u001b[0m\n\u001b[0;32m----> 1\u001b[0;31m \u001b[0;36m1\u001b[0m\u001b[0;34m+\u001b[0m\u001b[0mpromedio1\u001b[0m\u001b[0;34m\u001b[0m\u001b[0;34m\u001b[0m\u001b[0m\n\u001b[0m",
            "\u001b[0;31mTypeError\u001b[0m: unsupported operand type(s) for +: 'int' and 'NoneType'"
          ]
        }
      ]
    },
    {
      "cell_type": "markdown",
      "source": [
        "##Funciones sin parámetros\n",
        "Estas funciones no requieren ingresar parámetros."
      ],
      "metadata": {
        "id": "kowYZ6OgaZ7H"
      }
    },
    {
      "cell_type": "code",
      "source": [
        "def definicion_función():\n",
        "    print(\"Las funciones son una serie de sentencias que pueden ser referenciadas mediante un solo nombre\")\n",
        "\n",
        "definicion_función()"
      ],
      "metadata": {
        "id": "ZkxSe_C3DVXf",
        "outputId": "6d7f37b1-b936-4809-95d6-980aa9b8676b",
        "colab": {
          "base_uri": "https://localhost:8080/"
        }
      },
      "execution_count": null,
      "outputs": [
        {
          "output_type": "stream",
          "name": "stdout",
          "text": [
            "Las funciones son una serie de sentencias que pueden ser referenciadas mediante un solo nombre\n"
          ]
        }
      ]
    },
    {
      "cell_type": "markdown",
      "source": [
        "##Argumentos posicionales y con palabras clave\n",
        "Python entenderá que los argumentos se ingresan en el orden en el que se ha definido la función. "
      ],
      "metadata": {
        "id": "zj2VxWxzEA_3"
      }
    },
    {
      "cell_type": "code",
      "source": [
        "def imc(peso, estatura):\n",
        "    '''\n",
        "    Esta función devuelve tu indice de masa corporal\n",
        "    inputs: \n",
        "        peso: peso en kg\n",
        "        estatura: estatura en cm\n",
        "    outputs:\n",
        "        resultado: tu imc\n",
        "    '''\n",
        "    indice = peso/(estatura/100)**2\n",
        "    return indice"
      ],
      "metadata": {
        "id": "iYmzwYqMEh0M"
      },
      "execution_count": null,
      "outputs": []
    },
    {
      "cell_type": "code",
      "source": [
        "imc(60, 165)"
      ],
      "metadata": {
        "colab": {
          "base_uri": "https://localhost:8080/"
        },
        "id": "oG6WpI17Fp29",
        "outputId": "beff9c90-8704-4178-df8e-89854cfda180"
      },
      "execution_count": null,
      "outputs": [
        {
          "output_type": "execute_result",
          "data": {
            "text/plain": [
              "22.03856749311295"
            ]
          },
          "metadata": {},
          "execution_count": 15
        }
      ]
    },
    {
      "cell_type": "code",
      "source": [
        "imc(165, 60)"
      ],
      "metadata": {
        "colab": {
          "base_uri": "https://localhost:8080/"
        },
        "id": "PunF1DJMFy6q",
        "outputId": "47f00da0-2d5d-4649-a007-48845f03dbc4"
      },
      "execution_count": null,
      "outputs": [
        {
          "output_type": "execute_result",
          "data": {
            "text/plain": [
              "458.33333333333337"
            ]
          },
          "metadata": {},
          "execution_count": 16
        }
      ]
    },
    {
      "cell_type": "markdown",
      "source": [
        "Sin embargo, podemos utilizar palabras clave para ingresar los argumentos en un orden distinto al que se ha expresado al definir una función."
      ],
      "metadata": {
        "id": "4OJ_0br4F7E5"
      }
    },
    {
      "cell_type": "code",
      "source": [
        "imc(estatura = 165, peso = 60)"
      ],
      "metadata": {
        "colab": {
          "base_uri": "https://localhost:8080/"
        },
        "id": "FO21npMhF6mU",
        "outputId": "a789c26e-04a2-42a3-e450-d8150d9eae96"
      },
      "execution_count": null,
      "outputs": [
        {
          "output_type": "execute_result",
          "data": {
            "text/plain": [
              "22.03856749311295"
            ]
          },
          "metadata": {},
          "execution_count": 17
        }
      ]
    },
    {
      "cell_type": "markdown",
      "source": [
        "##Alcance de las variables\n",
        "Las varibles que definimos adetro de una función solo se podran usar dentro de esta. Si llamamos a una variable creada adentro de la función fuera de ella, Python nos dirá que no esta definida."
      ],
      "metadata": {
        "id": "UUiVzfRRGpsC"
      }
    },
    {
      "cell_type": "code",
      "source": [
        "def imc(peso, estatura):\n",
        "    '''\n",
        "    Esta función devuelve tu indice de masa corporal\n",
        "    inputs: \n",
        "        peso: peso en kg\n",
        "        estatura: estatura en cm\n",
        "    outputs:\n",
        "        resultado: tu imc\n",
        "    '''\n",
        "    est_cm = estatura/100\n",
        "    indice = peso/(est_cm)**2\n",
        "    return indice"
      ],
      "metadata": {
        "id": "JvvhWQE6Go0C"
      },
      "execution_count": null,
      "outputs": []
    },
    {
      "cell_type": "code",
      "source": [
        "p = 60\n",
        "est = 165\n",
        "imc(p, est)"
      ],
      "metadata": {
        "colab": {
          "base_uri": "https://localhost:8080/"
        },
        "id": "y0XjHehRIA68",
        "outputId": "9facaeb3-25a6-4ec6-ab70-3edca7bb0742"
      },
      "execution_count": null,
      "outputs": [
        {
          "output_type": "execute_result",
          "data": {
            "text/plain": [
              "22.03856749311295"
            ]
          },
          "metadata": {},
          "execution_count": 20
        }
      ]
    },
    {
      "cell_type": "code",
      "source": [
        "est_cm"
      ],
      "metadata": {
        "colab": {
          "base_uri": "https://localhost:8080/",
          "height": 166
        },
        "id": "4DqWHP8fIT-u",
        "outputId": "1fa0b7ea-6aba-4395-f405-716f99b9e2c2"
      },
      "execution_count": null,
      "outputs": [
        {
          "output_type": "error",
          "ename": "NameError",
          "evalue": "ignored",
          "traceback": [
            "\u001b[0;31m---------------------------------------------------------------------------\u001b[0m",
            "\u001b[0;31mNameError\u001b[0m                                 Traceback (most recent call last)",
            "\u001b[0;32m<ipython-input-21-95aa3d21d432>\u001b[0m in \u001b[0;36m<module>\u001b[0;34m()\u001b[0m\n\u001b[0;32m----> 1\u001b[0;31m \u001b[0mest_cm\u001b[0m\u001b[0;34m\u001b[0m\u001b[0;34m\u001b[0m\u001b[0m\n\u001b[0m",
            "\u001b[0;31mNameError\u001b[0m: name 'est_cm' is not defined"
          ]
        }
      ]
    },
    {
      "cell_type": "markdown",
      "source": [
        "* Python no reconoce la variable est_cm por que esta tiene un **alcance local**, solo es valida dentro de la función. \n",
        "* En cambio, las variables definidas en el script principal tienen un **alcance global**, pueden ser utilizadas en el script principal y adentro de las funciones. "
      ],
      "metadata": {
        "id": "gjgHXTxdIhDx"
      }
    },
    {
      "cell_type": "code",
      "source": [
        "para_dividir = 100\n",
        "\n",
        "def imc3(peso, estatura):\n",
        "    '''\n",
        "    Esta función devuelve tu indice de masa corporal\n",
        "    inputs: \n",
        "        peso: peso en kg\n",
        "        estatura: estatura en cm\n",
        "    outputs:\n",
        "        resultado: tu imc\n",
        "    '''\n",
        "    est_cm = estatura/para_dividir\n",
        "    indice = peso/(est_cm)**2\n",
        "    return indice\n",
        "\n",
        "imc3(p, est)"
      ],
      "metadata": {
        "colab": {
          "base_uri": "https://localhost:8080/"
        },
        "id": "d2gugxQJJG7f",
        "outputId": "3b40f61e-a262-48bf-e9e4-ae1d7c229bb2"
      },
      "execution_count": null,
      "outputs": [
        {
          "output_type": "execute_result",
          "data": {
            "text/plain": [
              "22.03856749311295"
            ]
          },
          "metadata": {},
          "execution_count": 15
        }
      ]
    },
    {
      "cell_type": "markdown",
      "source": [
        "##Importar funciones\n",
        "Podemos importar funciones de otros scripts. De hecho, lo que nosotros llamamos módulos o paquetes son otros scripts de Python de los cuales importamos determinadas funciones."
      ],
      "metadata": {
        "id": "D80pWSLKKpME"
      }
    },
    {
      "cell_type": "code",
      "source": [
        "#Este codigo nos permite importar scripts desde nuestro mismo drive\n",
        "#El script actual y el que contiene la función que importaremos deben estar en la misma carpeta\n",
        "\n",
        "from google.colab import drive\n",
        "drive.mount('/content/drive')\n",
        "\n",
        "!pip install kora -q\n",
        "from kora import drive\n",
        "drive.link_nbs()"
      ],
      "metadata": {
        "id": "O19pm_q1LD8h",
        "colab": {
          "base_uri": "https://localhost:8080/"
        },
        "outputId": "5e41565a-4462-44ee-beeb-8917a3f75085"
      },
      "execution_count": 12,
      "outputs": [
        {
          "output_type": "stream",
          "name": "stdout",
          "text": [
            "Mounted at /content/drive\n",
            "\u001b[K     |████████████████████████████████| 57 kB 2.9 MB/s \n",
            "\u001b[?25h"
          ]
        }
      ]
    },
    {
      "cell_type": "markdown",
      "source": [
        "Hemos creado un script llamado *funcion_aux*. Esta contiene una sola función llamada *es_pobre_f*. A continuación, imoortaremos esta función de tres maneras diferentes."
      ],
      "metadata": {
        "id": "wdYqtkIQfLV4"
      }
    },
    {
      "cell_type": "code",
      "source": [
        "personas = 3\n",
        "habitaciones  = 1\n",
        "agua_potable  = 1\n",
        "desague = 1\n",
        "niños_s_escuela  = 0\n",
        "ingreso  = 4000\n",
        "\n",
        "#Las diferentes formas de importar una función:\n",
        "\n",
        "#Por prefijo: Nos permite acceder a todas las funciones utilizando un prefijo\n",
        "import funcion_aux as aux\n",
        "print(aux.es_pobre_f(personas, habitaciones, agua_potable, desague, niños_s_escuela, ingreso))\n",
        "\n",
        "#Con *: Podemos accerder a todas las funciones sin utilizar un prefijo\n",
        "from funcion_aux import * \n",
        "print(es_pobre_f(personas, habitaciones, agua_potable, desague, niños_s_escuela, ingreso))\n",
        "\n",
        "#Solo una funcion: Podremos acceder solo a la funcion que importemos\n",
        "from funcion_aux import es_pobre_f\n",
        "print(es_pobre_f(personas, habitaciones, agua_potable, desague, niños_s_escuela, ingreso))"
      ],
      "metadata": {
        "colab": {
          "base_uri": "https://localhost:8080/"
        },
        "id": "Rp9zCYmC4Uo3",
        "outputId": "beaa00f2-8327-4948-af30-127b37e85cc8"
      },
      "execution_count": 13,
      "outputs": [
        {
          "output_type": "stream",
          "name": "stdout",
          "text": [
            "importing Jupyter notebook from /nbs/funcion_aux.ipynb\n",
            "True\n",
            "True\n",
            "True\n"
          ]
        }
      ]
    }
  ]
}
