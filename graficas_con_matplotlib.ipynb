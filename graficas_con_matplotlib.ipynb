{
  "cells": [
    {
      "cell_type": "markdown",
      "metadata": {
        "id": "view-in-github",
        "colab_type": "text"
      },
      "source": [
        "<a href=\"https://colab.research.google.com/github/darlaabril/Taller-Python/blob/main/graficas_con_matplotlib.ipynb\" target=\"_parent\"><img src=\"https://colab.research.google.com/assets/colab-badge.svg\" alt=\"Open In Colab\"/></a>"
      ]
    },
    {
      "cell_type": "markdown",
      "metadata": {
        "id": "TRYFFIF0ID5P"
      },
      "source": [
        "\n",
        "## Creación de Gráficas de Líneas (plot)"
      ]
    },
    {
      "cell_type": "code",
      "execution_count": null,
      "metadata": {
        "id": "PS7NLoVOID5V"
      },
      "outputs": [],
      "source": [
        "import matplotlib.pyplot as plt\n",
        "\n",
        "eje_x = [\"a\",\"b\",\"c\",\"d\",\"e\"]\n",
        "datos1 = [10, 20, 30, 40, 50]\n",
        "datos2 = [20, 30, 40, 50, 60]\n",
        "\n",
        "plt.plot(eje_x, datos1)\n",
        "plt.show()"
      ]
    },
    {
      "cell_type": "code",
      "source": [
        "plt.plot(eje_x, datos1)\n",
        "plt.plot(eje_x, datos2)\n",
        "plt.show()"
      ],
      "metadata": {
        "id": "pLHj9zkuJOiU"
      },
      "execution_count": null,
      "outputs": []
    },
    {
      "cell_type": "code",
      "source": [
        "plt.plot(eje_x, datos1)\n",
        "plt.show()\n",
        "\n",
        "plt.plot(eje_x, datos2)\n",
        "plt.show()\n"
      ],
      "metadata": {
        "id": "VGsUnrJ0JJ0m"
      },
      "execution_count": null,
      "outputs": []
    },
    {
      "cell_type": "markdown",
      "metadata": {
        "id": "o5eIw-JVID5Z"
      },
      "source": [
        "## Generar Datos a Graficar\n",
        "### Examen de Certificación para Estudiantes de 5 niveles"
      ]
    },
    {
      "cell_type": "code",
      "execution_count": null,
      "metadata": {
        "id": "OB5AuvbxID5a"
      },
      "outputs": [],
      "source": [
        "import numpy as np\n",
        "\n",
        "años = [\"2011\", \"2012\", \"2013\", \"2014\", \"2015\",\n",
        "        \"2016\", \"2017\", \"2018\", \"2019\", \"2020\"]\n",
        "\n",
        "np.random.rand(10)*12\n"
      ]
    },
    {
      "cell_type": "code",
      "source": [
        "nivel1 = np.random.rand(10)*5 + 4\n",
        "nivel2 = np.random.rand(10)*5 + 7\n",
        "nivel3 = np.random.rand(10)*5 + 11\n",
        "nivel4 = np.random.rand(10)*5 + 13\n",
        "nivel5 = np.random.rand(10)*5 + 15"
      ],
      "metadata": {
        "id": "D_S6uxSgJtBj"
      },
      "execution_count": null,
      "outputs": []
    },
    {
      "cell_type": "markdown",
      "metadata": {
        "id": "-CoGi6hAID5b"
      },
      "source": [
        "## Personalización de Gráficas"
      ]
    },
    {
      "cell_type": "code",
      "source": [
        "plt.plot(años, nivel1)\n",
        "plt.plot(años, nivel2)\n",
        "plt.plot(años, nivel3)\n",
        "plt.plot(años, nivel4)\n",
        "plt.plot(años, nivel5)\n",
        "plt.show()"
      ],
      "metadata": {
        "id": "ar-6EK1-K7xF"
      },
      "execution_count": null,
      "outputs": []
    },
    {
      "cell_type": "code",
      "source": [
        "plt.plot(años, nivel1)\n",
        "plt.show()\n"
      ],
      "metadata": {
        "id": "f05p_d_LOfcT"
      },
      "execution_count": null,
      "outputs": []
    },
    {
      "cell_type": "code",
      "execution_count": null,
      "metadata": {
        "id": "ujxd_o2UID5b"
      },
      "outputs": [],
      "source": [
        "# Introducir series de datos con color, marcador, etiqueta y estilo\n",
        "\n",
        "plt.plot(años, nivel1, label=\"Nivel 1\", color=\"purple\", marker=\"<\", linestyle=\"-\")\n",
        "plt.plot(años, nivel2, label=\"Nivel 2\", color=\"red\", marker=\"*\", linestyle=\"--\")\n",
        "plt.plot(años, nivel3, label=\"Nivel 3\", color=\"blue\", marker=\"^\", linestyle=\":\")\n",
        "plt.plot(años, nivel4, label=\"Nivel 4\", color=\"black\", marker=\".\", linestyle=\"-.\")\n",
        "plt.plot(años, nivel5, label=\"Nivel 5\", color=\"green\", marker=\"+\", linestyle=\" \")\n",
        "\n",
        "# Activar leyendas\n",
        "plt.legend()\n",
        "\n",
        "# Título de Gráfica\n",
        "plt.title(\"Examen de Certificación\")\n",
        "\n",
        "# Etiquetas de los ejes\n",
        "plt.xlabel(\"Años que se ha realizado el examen\")\n",
        "plt.ylabel(\"Puntaje\")\n",
        "\n",
        "# Personalizar Eje de Puntaje de 0 a 1000 en incrementos de 50 \n",
        "\n",
        "plt.yticks(np.arange(0, 21, 1))\n",
        "\n",
        "# Activar cuadrícula \n",
        "\n",
        "plt.grid()\n",
        "\n",
        "# Activar marcas menores\n",
        "plt.minorticks_on()\n",
        "\n",
        "plt.show()\n"
      ]
    },
    {
      "cell_type": "markdown",
      "metadata": {
        "id": "_A0CHVTeID5d"
      },
      "source": [
        "## Gráfica de Barras Verticales (bar)"
      ]
    },
    {
      "cell_type": "code",
      "source": [
        "eje_x = np.arange(0, 10)\n",
        "\n",
        "plt.bar(eje_x, nivel5)\n",
        "plt.bar(eje_x, nivel4)\n",
        "plt.bar(eje_x, nivel3)\n",
        "plt.bar(eje_x, nivel2)\n",
        "plt.bar(eje_x, nivel1)\n",
        "\n",
        "plt.show()"
      ],
      "metadata": {
        "id": "55EhZ4BXO2Pa"
      },
      "execution_count": null,
      "outputs": []
    },
    {
      "cell_type": "code",
      "source": [
        "eje_x = np.arange(0, 10)\n",
        "\n",
        "plt.bar(eje_x, nivel5)\n",
        "plt.bar(eje_x+0.2, nivel4)\n",
        "plt.bar(eje_x+0.4, nivel3)\n",
        "plt.bar(eje_x+0.6, nivel2)\n",
        "plt.bar(eje_x+0.8, nivel1)\n",
        "\n",
        "plt.show()"
      ],
      "metadata": {
        "id": "tJuT7SjVPg5Z"
      },
      "execution_count": null,
      "outputs": []
    },
    {
      "cell_type": "code",
      "execution_count": null,
      "metadata": {
        "id": "ydoT6i02ID5d"
      },
      "outputs": [],
      "source": [
        "eje_x = np.arange(0, 10)\n",
        "\n",
        "plt.bar(eje_x, nivel5, width=1/5)\n",
        "plt.bar(eje_x+0.2, nivel4, width=1/5)\n",
        "plt.bar(eje_x+0.4, nivel3, width=1/5)\n",
        "plt.bar(eje_x+0.6, nivel2, width=1/5)\n",
        "plt.bar(eje_x+0.8, nivel1, width=1/5)\n",
        "\n",
        "plt.show()"
      ]
    },
    {
      "cell_type": "markdown",
      "metadata": {
        "id": "3iZIi5H4ID5e"
      },
      "source": [
        "## Gráfica de Barras Horizontales (barh)"
      ]
    },
    {
      "cell_type": "code",
      "execution_count": null,
      "metadata": {
        "id": "0ryD_H9-ID5f"
      },
      "outputs": [],
      "source": [
        "plt.barh(eje_x+0.8, nivel5, height = 1/5)\n",
        "plt.barh(eje_x+0.6, nivel4, height = 1/5)\n",
        "plt.barh(eje_x+0.4, nivel3, height = 1/5)\n",
        "plt.barh(eje_x+0.2, nivel2, height = 1/5)\n",
        "plt.barh(eje_x,     nivel1, height = 1/5)\n",
        "\n",
        "plt.show()"
      ]
    },
    {
      "cell_type": "markdown",
      "metadata": {
        "id": "cctHjJ6lID5g"
      },
      "source": [
        "## Gráfica de Barras Verticales Apiladas"
      ]
    },
    {
      "cell_type": "code",
      "execution_count": null,
      "metadata": {
        "id": "AZ5pjm1XID5g"
      },
      "outputs": [],
      "source": [
        "\n",
        "plt.bar(eje_x, nivel5)\n",
        "plt.bar(eje_x, nivel4, bottom=nivel5)\n",
        "plt.bar(eje_x, nivel3, bottom=nivel4+nivel5)\n",
        "plt.bar(eje_x, nivel2, bottom=nivel3+nivel4+nivel5)\n",
        "plt.bar(eje_x, nivel1, bottom=nivel2+nivel3+nivel4+nivel5)\n",
        "\n",
        "plt.show()"
      ]
    },
    {
      "cell_type": "markdown",
      "metadata": {
        "id": "62g7EnI4ID5h"
      },
      "source": [
        "## Gráfica de Dispersión (scatter)"
      ]
    },
    {
      "cell_type": "code",
      "execution_count": null,
      "metadata": {
        "id": "n-9Ld9rkID5i"
      },
      "outputs": [],
      "source": [
        "plt.scatter(eje_x, nivel1, marker=\"*\")\n",
        "plt.scatter(eje_x, nivel2)\n",
        "plt.scatter(eje_x, nivel3)\n",
        "plt.scatter(eje_x, nivel4)\n",
        "plt.scatter(eje_x, nivel5)\n",
        "\n",
        "plt.show()"
      ]
    },
    {
      "cell_type": "markdown",
      "metadata": {
        "id": "PdicXOHfID5i"
      },
      "source": [
        "## Gráfica de Pie"
      ]
    },
    {
      "cell_type": "code",
      "execution_count": null,
      "metadata": {
        "id": "_4a1hfs-ID5i"
      },
      "outputs": [],
      "source": [
        "plt.pie(nivel1, \n",
        "        labels=[\"México\",\"Colombia\", \"España\", \"Estados Unidos\", \"Ecuador\",\n",
        "                \"Argentina\", \"Venezuela\", \"Puerto Rico\", \"Honduras\", \"Uruguay\"])\n",
        "\n",
        "plt.show()"
      ]
    },
    {
      "cell_type": "markdown",
      "metadata": {
        "id": "Jdit_0kMID5j"
      },
      "source": [
        "## Combinar Gráficas"
      ]
    },
    {
      "cell_type": "code",
      "execution_count": null,
      "metadata": {
        "id": "eT9_j5JBID5j"
      },
      "outputs": [],
      "source": [
        "plt.bar(eje_x,     nivel1,  width = 1/5)\n",
        "plt.bar(eje_x+0.2, nivel2,  width = 1/5)\n",
        "\n",
        "plt.plot(años, nivel3)\n",
        "\n",
        "plt.scatter(eje_x, nivel4)\n",
        "plt.scatter(eje_x, nivel5)\n",
        "\n",
        "plt.show()"
      ]
    }
  ],
  "metadata": {
    "kernelspec": {
      "display_name": "Python 3",
      "language": "python",
      "name": "python3"
    },
    "language_info": {
      "codemirror_mode": {
        "name": "ipython",
        "version": 3
      },
      "file_extension": ".py",
      "mimetype": "text/x-python",
      "name": "python",
      "nbconvert_exporter": "python",
      "pygments_lexer": "ipython3",
      "version": "3.8.5"
    },
    "colab": {
      "provenance": [],
      "collapsed_sections": [
        "TRYFFIF0ID5P",
        "o5eIw-JVID5Z",
        "-CoGi6hAID5b",
        "PdicXOHfID5i",
        "Jdit_0kMID5j"
      ],
      "include_colab_link": true
    }
  },
  "nbformat": 4,
  "nbformat_minor": 0
}