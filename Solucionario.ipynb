{
  "nbformat": 4,
  "nbformat_minor": 0,
  "metadata": {
    "colab": {
      "name": "Solucionario.ipynb",
      "provenance": [],
      "authorship_tag": "ABX9TyNh9VE6KrtinyIgOo2dGCxq",
      "include_colab_link": true
    },
    "kernelspec": {
      "name": "python3",
      "display_name": "Python 3"
    },
    "language_info": {
      "name": "python"
    }
  },
  "cells": [
    {
      "cell_type": "markdown",
      "metadata": {
        "id": "view-in-github",
        "colab_type": "text"
      },
      "source": [
        "<a href=\"https://colab.research.google.com/github/darlaabril/Taller-Python/blob/main/Solucionario.ipynb\" target=\"_parent\"><img src=\"https://colab.research.google.com/assets/colab-badge.svg\" alt=\"Open In Colab\"/></a>"
      ]
    },
    {
      "cell_type": "markdown",
      "source": [
        "#Solucionario\n",
        "\n"
      ],
      "metadata": {
        "id": "76aahSrJweAK"
      }
    },
    {
      "cell_type": "markdown",
      "source": [
        "#Tarea 1"
      ],
      "metadata": {
        "id": "0G6QwOm5788N"
      }
    },
    {
      "cell_type": "markdown",
      "source": [
        "##Ejercicio 1 \n",
        "Escribir un programa que almacene sus platos favoritos (por ejemplo tallarines, ceviche, lomo, frijol y cabrito) en una lista y la muestre por pantalla."
      ],
      "metadata": {
        "id": "jLxvK7puwilm"
      }
    },
    {
      "cell_type": "code",
      "source": [
        "platos = [\"tallarines\", \"lomo\", \"frijol\", \"cabrito\"]\n",
        "print(platos)"
      ],
      "metadata": {
        "id": "gmbpVE0HwrjW",
        "colab": {
          "base_uri": "https://localhost:8080/"
        },
        "outputId": "86ba3967-98a1-490a-9168-6a5e1723f956"
      },
      "execution_count": null,
      "outputs": [
        {
          "output_type": "stream",
          "name": "stdout",
          "text": [
            "['tallarines', 'lomo', 'frijol', 'cabrito']\n"
          ]
        }
      ]
    },
    {
      "cell_type": "markdown",
      "source": [
        "##Ejercicio 2\n",
        "Escribir un programa que almacene las asignaturas de un curso sus platos favoritos (por ejemplo tallarines, ceviche, lomo, frijol y cabrito)  en una lista y la muestre por pantalla el mensaje “ A mi me gusta comer <*plato*> “, donde <*plato*> es cada una de sus platos de comida favoritos"
      ],
      "metadata": {
        "id": "nydh-ayRwtsu"
      }
    },
    {
      "cell_type": "code",
      "source": [
        "platos = [\"tallarines\", \"lomo\", \"frijol\", \"cabrito\"]\n",
        "for subject in platos:\n",
        "  print(\"A mi me gusta comer \" + subject)"
      ],
      "metadata": {
        "id": "ChrtlwdEwxOH",
        "colab": {
          "base_uri": "https://localhost:8080/"
        },
        "outputId": "af87689c-1aba-493c-f45f-1cd27feccc40"
      },
      "execution_count": null,
      "outputs": [
        {
          "output_type": "stream",
          "name": "stdout",
          "text": [
            "A mi me gusta comer tallarines\n",
            "A mi me gusta comer lomo\n",
            "A mi me gusta comer frijol\n",
            "A mi me gusta comer cabrito\n"
          ]
        }
      ]
    },
    {
      "cell_type": "markdown",
      "source": [
        "##Ejercicio 3\n",
        "Escribir un programa que almacene las asignaturas de un curso (por ejemplo Matemáticas, Física, Química, Historia y Lengua) en una lista, pregunte al usuario la nota que ha sacado en cada asignatura, y después las muestre por pantalla con el mensaje En <*asignatura*> has sacado <*nota*> donde <*asignatura*> es cada una des las asignaturas de la lista y <*nota*> cada una de las correspondientes notas introducidas por el usuario.\n"
      ],
      "metadata": {
        "id": "Ys4ezVTxwxz-"
      }
    },
    {
      "cell_type": "code",
      "source": [
        "cursos = [\"Matemáticas\", \"Física\", \"Química\", \"Historia\", \"Lengua\"]\n",
        "scores = []\n",
        "for asignatura in cursos:\n",
        "    score = input(\"¿Qué nota has sacado en \" + asignatura + \"? \")\n",
        "    scores.append(score)\n",
        "for i in range(len(cursos)):\n",
        "    print(\"En \" + cursos[i] + \" has sacado \" + scores[i])"
      ],
      "metadata": {
        "id": "Uo-VaBh5w1hu",
        "colab": {
          "base_uri": "https://localhost:8080/"
        },
        "outputId": "86bb4307-6b2d-484a-da78-a617829ff7b2"
      },
      "execution_count": null,
      "outputs": [
        {
          "output_type": "stream",
          "name": "stdout",
          "text": [
            "¿Qué nota has sacado en Matemáticas? 12\n",
            "¿Qué nota has sacado en Física? 13\n",
            "¿Qué nota has sacado en Química? 15\n",
            "¿Qué nota has sacado en Historia? 10\n",
            "¿Qué nota has sacado en Lengua? 17\n",
            "En Matemáticas has sacado 12\n",
            "En Física has sacado 13\n",
            "En Química has sacado 15\n",
            "En Historia has sacado 10\n",
            "En Lengua has sacado 17\n"
          ]
        }
      ]
    },
    {
      "cell_type": "markdown",
      "source": [
        "##Ejercicio 4\n",
        "Escribir un programa que almacene en una lista los números del 1 al 10 y los muestre por pantalla en orden inverso separados por comas.\n"
      ],
      "metadata": {
        "id": "-u6SF-7Gw2CG"
      }
    },
    {
      "cell_type": "code",
      "source": [
        "num = [1, 2, 3, 4, 5, 6, 7, 8, 9, 10]\n",
        "num[::-1]"
      ],
      "metadata": {
        "id": "JFs8Ead1w_yP",
        "colab": {
          "base_uri": "https://localhost:8080/"
        },
        "outputId": "6e86d08e-9911-423f-eb19-50519ee07ba8"
      },
      "execution_count": null,
      "outputs": [
        {
          "output_type": "execute_result",
          "data": {
            "text/plain": [
              "[10, 9, 8, 7, 6, 5, 4, 3, 2, 1]"
            ]
          },
          "metadata": {},
          "execution_count": 19
        }
      ]
    },
    {
      "cell_type": "markdown",
      "source": [
        "otra forma:\n"
      ],
      "metadata": {
        "id": "o_5y8aDN_gS0"
      }
    },
    {
      "cell_type": "code",
      "source": [
        "num.reverse()\n",
        "num"
      ],
      "metadata": {
        "colab": {
          "base_uri": "https://localhost:8080/"
        },
        "id": "5g5VRsMO_eck",
        "outputId": "13e27798-d7ce-4642-b143-aa7318c5686b"
      },
      "execution_count": null,
      "outputs": [
        {
          "output_type": "execute_result",
          "data": {
            "text/plain": [
              "[1, 2, 3, 4, 5, 6, 7, 8, 9, 10]"
            ]
          },
          "metadata": {},
          "execution_count": 27
        }
      ]
    },
    {
      "cell_type": "markdown",
      "source": [
        "##Ejercicio 5\n",
        "Definir una variable y escribir un código que te muestre un rango de variables."
      ],
      "metadata": {
        "id": "9M4w3YflD6rU"
      }
    },
    {
      "cell_type": "code",
      "source": [
        "x = range(10)\n",
        "print (x)\n",
        "list(x)"
      ],
      "metadata": {
        "colab": {
          "base_uri": "https://localhost:8080/"
        },
        "id": "3M7-ndf1D7kg",
        "outputId": "55946b5b-7a6d-46b8-d93c-acbe55f7c3db"
      },
      "execution_count": null,
      "outputs": [
        {
          "output_type": "stream",
          "name": "stdout",
          "text": [
            "range(0, 10)\n"
          ]
        },
        {
          "output_type": "execute_result",
          "data": {
            "text/plain": [
              "[0, 1, 2, 3, 4, 5, 6, 7, 8, 9]"
            ]
          },
          "metadata": {},
          "execution_count": 28
        }
      ]
    },
    {
      "cell_type": "markdown",
      "source": [
        "##Ejercicio 6\n",
        "Escribir un programa que almacene en una lista los siguientes precios, 50, 75, 46, 22, 80, 65, 8, y muestre por pantalla una lista del menor y al mayor de los precios.\n"
      ],
      "metadata": {
        "id": "e34jgTHvxCJ-"
      }
    },
    {
      "cell_type": "code",
      "source": [
        "precios = [50, 75, 46, 22, 80, 65, 8]\n",
        "precios.sort()\n",
        "precios\n"
      ],
      "metadata": {
        "id": "Tmie-o5kxCjv",
        "colab": {
          "base_uri": "https://localhost:8080/"
        },
        "outputId": "0850c25a-cdc6-4f5c-bae1-1a4ac7b30722"
      },
      "execution_count": null,
      "outputs": [
        {
          "output_type": "execute_result",
          "data": {
            "text/plain": [
              "[8, 22, 46, 50, 65, 75, 80]"
            ]
          },
          "metadata": {},
          "execution_count": 22
        }
      ]
    },
    {
      "cell_type": "markdown",
      "source": [
        "##Ejercicios 7\n",
        "Escribir un programa que almacene los vectores (1,2,3) y (-1,0,2) en dos listas y juntarlos en un solo vector.\n"
      ],
      "metadata": {
        "id": "EWEeCFqnxCw4"
      }
    },
    {
      "cell_type": "code",
      "source": [
        "Vector_1 = [1,2,3]\n",
        "Vector_2 = [-1,0,2]\n",
        "Vector= Vector_1 + Vector_2\n",
        "Vector"
      ],
      "metadata": {
        "id": "u8BALFjzxEXu",
        "colab": {
          "base_uri": "https://localhost:8080/"
        },
        "outputId": "baf8b57d-db86-428e-80eb-d00cf6cf0a4f"
      },
      "execution_count": null,
      "outputs": [
        {
          "output_type": "execute_result",
          "data": {
            "text/plain": [
              "[1, 2, 3, -1, 0, 2]"
            ]
          },
          "metadata": {},
          "execution_count": 24
        }
      ]
    },
    {
      "cell_type": "markdown",
      "source": [
        "##Ejercicio 8\n",
        "El vector creado anteriormente júntelo con el vector de sus platos favoritos. Es decir: [1,2,3,-1,0,2, (tallarines, ceviche, lomo, frijol y cabrito)]\n"
      ],
      "metadata": {
        "id": "f5uLuQmExEfv"
      }
    },
    {
      "cell_type": "code",
      "source": [
        "Vector_copy = Vector[:] \n",
        "Vector_copy.append(platos)\n",
        "Vector_copy"
      ],
      "metadata": {
        "id": "ql81uCIQxGEO",
        "colab": {
          "base_uri": "https://localhost:8080/"
        },
        "outputId": "062b77a3-6e25-40dd-981b-126294d9e503"
      },
      "execution_count": null,
      "outputs": [
        {
          "output_type": "execute_result",
          "data": {
            "text/plain": [
              "[1, 2, 3, -1, 0, 2, ['tallarines', 'lomo', 'frijol', 'cabrito']]"
            ]
          },
          "metadata": {},
          "execution_count": 25
        }
      ]
    },
    {
      "cell_type": "markdown",
      "source": [
        "#Tarea 2 \n",
        "\n"
      ],
      "metadata": {
        "id": "kK9abGfT8BOT"
      }
    },
    {
      "cell_type": "markdown",
      "source": [
        "###Ejercicio 5\n",
        "\n",
        "Escribir un programa que pregunte al usuario su edad y muestre por pantalla si mayor de edad o no. (usar if o else)\n"
      ],
      "metadata": {
        "id": "LHP2lQar8Mjj"
      }
    },
    {
      "cell_type": "code",
      "source": [
        "age = int(input(\"¿Cuál es tu edad? \"))\n",
        "if age < 18: \n",
        "    print (\"Eres menor de edad.\")\n",
        "else:\n",
        "    print(\"Eres mayor de edad.\")"
      ],
      "metadata": {
        "colab": {
          "base_uri": "https://localhost:8080/"
        },
        "id": "bkux1mLa8N2r",
        "outputId": "abb6106d-6ad1-4ade-d257-37da90c0d598"
      },
      "execution_count": null,
      "outputs": [
        {
          "output_type": "stream",
          "name": "stdout",
          "text": [
            "¿Cuál es tu edad? 2\n",
            "Eres menor de edad.\n"
          ]
        }
      ]
    },
    {
      "cell_type": "markdown",
      "source": [
        "##Ejercicio 6\n",
        "Escribir un programa que pida al usuario un número entero y muestre por pantalla si es par o impar.\n"
      ],
      "metadata": {
        "id": "FnnYyzUE8OUI"
      }
    },
    {
      "cell_type": "code",
      "source": [
        "n = int(input(\"Introduce un número entero: \"))\n",
        "if n % 2 == 0:\n",
        "    print(\"El número \" + str(n) + \" es par\")\n",
        "else:\n",
        "    print(\"El número \" + str(n) + \" es impar\")"
      ],
      "metadata": {
        "colab": {
          "base_uri": "https://localhost:8080/"
        },
        "id": "Z5Dnbt648Rjb",
        "outputId": "48ebc2f0-ca66-4850-878e-9c029a2d0aa5"
      },
      "execution_count": null,
      "outputs": [
        {
          "output_type": "stream",
          "name": "stdout",
          "text": [
            "Introduce un número entero: 4\n",
            "El número 4 es par\n"
          ]
        }
      ]
    },
    {
      "cell_type": "markdown",
      "source": [
        "##Ejercicio 7\n",
        "Con un ciclo for que haga sus iteraciones en sentido inverso, es decir, disminuyendo el valor del paso, desde el 100 hasta el 0."
      ],
      "metadata": {
        "id": "u3VO5v0J8R-J"
      }
    },
    {
      "cell_type": "code",
      "source": [
        "for i in range(100, -1, -1):\n",
        "    print(i)"
      ],
      "metadata": {
        "colab": {
          "base_uri": "https://localhost:8080/"
        },
        "id": "tIQdsApJ8VlQ",
        "outputId": "91e7e8a1-e07f-4a42-ab6a-77c8656f79ee"
      },
      "execution_count": null,
      "outputs": [
        {
          "output_type": "stream",
          "name": "stdout",
          "text": [
            "100\n",
            "99\n",
            "98\n",
            "97\n",
            "96\n",
            "95\n",
            "94\n",
            "93\n",
            "92\n",
            "91\n",
            "90\n",
            "89\n",
            "88\n",
            "87\n",
            "86\n",
            "85\n",
            "84\n",
            "83\n",
            "82\n",
            "81\n",
            "80\n",
            "79\n",
            "78\n",
            "77\n",
            "76\n",
            "75\n",
            "74\n",
            "73\n",
            "72\n",
            "71\n",
            "70\n",
            "69\n",
            "68\n",
            "67\n",
            "66\n",
            "65\n",
            "64\n",
            "63\n",
            "62\n",
            "61\n",
            "60\n",
            "59\n",
            "58\n",
            "57\n",
            "56\n",
            "55\n",
            "54\n",
            "53\n",
            "52\n",
            "51\n",
            "50\n",
            "49\n",
            "48\n",
            "47\n",
            "46\n",
            "45\n",
            "44\n",
            "43\n",
            "42\n",
            "41\n",
            "40\n",
            "39\n",
            "38\n",
            "37\n",
            "36\n",
            "35\n",
            "34\n",
            "33\n",
            "32\n",
            "31\n",
            "30\n",
            "29\n",
            "28\n",
            "27\n",
            "26\n",
            "25\n",
            "24\n",
            "23\n",
            "22\n",
            "21\n",
            "20\n",
            "19\n",
            "18\n",
            "17\n",
            "16\n",
            "15\n",
            "14\n",
            "13\n",
            "12\n",
            "11\n",
            "10\n",
            "9\n",
            "8\n",
            "7\n",
            "6\n",
            "5\n",
            "4\n",
            "3\n",
            "2\n",
            "1\n",
            "0\n"
          ]
        }
      ]
    }
  ]
}