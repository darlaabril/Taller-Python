{
  "cells": [
    {
      "cell_type": "markdown",
      "metadata": {
        "id": "view-in-github",
        "colab_type": "text"
      },
      "source": [
        "<a href=\"https://colab.research.google.com/github/darlaabril/Taller-Python/blob/main/Tipos_operadores.ipynb\" target=\"_parent\"><img src=\"https://colab.research.google.com/assets/colab-badge.svg\" alt=\"Open In Colab\"/></a>"
      ]
    },
    {
      "cell_type": "markdown",
      "metadata": {
        "id": "FdxTz8WC-YDK"
      },
      "source": [
        "# Variables, tipos de datos, operadores y expresiones"
      ]
    },
    {
      "cell_type": "markdown",
      "metadata": {
        "id": "cyxphefH-YDO"
      },
      "source": [
        "<a class=\"anchor\" id=\"principio\"></a>\n",
        "\n",
        "## Introducción"
      ]
    },
    {
      "cell_type": "markdown",
      "metadata": {
        "id": "tHd1HO_6-YDP"
      },
      "source": [
        "En esta primera sesión revisaremos las piezas más pequeñas que conforman un programa. En esencia un programa es una serie de instrucciones que escribimos en un lenguaje determinado para que la máquina nos entienda. \n",
        "Veremos 4 elementos iniciales importantes para poder escribir programas:\n",
        "\n",
        "[1. Variables](#variables)   \n",
        "[2. Tipos de datos](#tipos-de-datos)  \n",
        "[3. Operadores](#operadores)  \n",
        "[4. Expresiones](#expresiones)  "
      ]
    },
    {
      "cell_type": "markdown",
      "metadata": {
        "id": "41ZQvlfq-YDQ"
      },
      "source": [
        "<a class=\"anchor\" id=\"variables\"></a>\n",
        "## 1. Variables"
      ]
    },
    {
      "cell_type": "markdown",
      "metadata": {
        "id": "F2fcbIP_-YDQ"
      },
      "source": [
        "Las variables son todo aquello que definiremos con un nombre, y a lo que nos referiremos después si queremos usarlo. Las variables pueden ser datos, texto, números, pero también cosas más complicadas como funciones, o incluso otros programas. \n",
        "\n",
        "Las variables son, también, un nombre simbólico que representa la ubicación en la memoria de una computadora. "
      ]
    },
    {
      "cell_type": "markdown",
      "metadata": {
        "id": "ujcsqDMd-YDR"
      },
      "source": [
        "Se utiliza el operador = para asignarle el valor a la variable"
      ]
    },
    {
      "cell_type": "code",
      "execution_count": null,
      "metadata": {
        "id": "B3PRWbsP-YDR",
        "colab": {
          "base_uri": "https://localhost:8080/",
          "height": 35
        },
        "outputId": "174dc1a3-657b-4cb9-bdc2-2d3d203bf712"
      },
      "outputs": [
        {
          "output_type": "execute_result",
          "data": {
            "text/plain": [
              "'nombre'"
            ],
            "application/vnd.google.colaboratory.intrinsic+json": {
              "type": "string"
            }
          },
          "metadata": {},
          "execution_count": 47
        }
      ],
      "source": [
        "name = \"nombre\" #es un \n",
        "name"
      ]
    },
    {
      "cell_type": "code",
      "execution_count": null,
      "metadata": {
        "id": "miQPlPhI-YDT"
      },
      "outputs": [],
      "source": [
        "operacion = 7 + (4 + 5) * 4   #int"
      ]
    },
    {
      "cell_type": "code",
      "source": [
        "print(name)\n",
        "print(operacion)"
      ],
      "metadata": {
        "colab": {
          "base_uri": "https://localhost:8080/"
        },
        "id": "u_lzDiilbmct",
        "outputId": "05373296-2ec1-4ea3-ec70-937c81ccc9bc"
      },
      "execution_count": null,
      "outputs": [
        {
          "output_type": "stream",
          "name": "stdout",
          "text": [
            "nombre\n",
            "43\n"
          ]
        }
      ]
    },
    {
      "cell_type": "markdown",
      "metadata": {
        "id": "UiyT_GNc-YDU"
      },
      "source": [
        "Se puede reasignar el valor de una variable: "
      ]
    },
    {
      "cell_type": "code",
      "execution_count": null,
      "metadata": {
        "id": "BfN6E5s9-YDU",
        "colab": {
          "base_uri": "https://localhost:8080/"
        },
        "outputId": "85732577-7162-49cb-a28a-c88fce92925b"
      },
      "outputs": [
        {
          "output_type": "stream",
          "name": "stdout",
          "text": [
            "8.25\n"
          ]
        }
      ],
      "source": [
        "operacion = 3 + (15 + 6) /4   #float\n",
        "print(operacion)"
      ]
    },
    {
      "cell_type": "markdown",
      "metadata": {
        "id": "rL-bMvM4-YDV"
      },
      "source": [
        "No se puede llamar a una variable no definida!"
      ]
    },
    {
      "cell_type": "code",
      "execution_count": null,
      "metadata": {
        "id": "9tWQzsbp-YDV",
        "colab": {
          "base_uri": "https://localhost:8080/",
          "height": 166
        },
        "outputId": "bbfc9c03-f475-4b86-dabe-cb9218c19f8d"
      },
      "outputs": [
        {
          "output_type": "error",
          "ename": "NameError",
          "evalue": "ignored",
          "traceback": [
            "\u001b[0;31m---------------------------------------------------------------------------\u001b[0m",
            "\u001b[0;31mNameError\u001b[0m                                 Traceback (most recent call last)",
            "\u001b[0;32m<ipython-input-54-f2a851930a89>\u001b[0m in \u001b[0;36m<module>\u001b[0;34m\u001b[0m\n\u001b[0;32m----> 1\u001b[0;31m \u001b[0mnueva_operacion\u001b[0m\u001b[0;34m\u001b[0m\u001b[0;34m\u001b[0m\u001b[0m\n\u001b[0m",
            "\u001b[0;31mNameError\u001b[0m: name 'nueva_operacion' is not defined"
          ]
        }
      ],
      "source": [
        "nueva_operacion"
      ]
    },
    {
      "cell_type": "markdown",
      "metadata": {
        "id": "h6IEEZ7t-YDV"
      },
      "source": [
        "[Volver a inicio](#principio)"
      ]
    },
    {
      "cell_type": "markdown",
      "metadata": {
        "id": "gsy0OPYz-YDW"
      },
      "source": [
        "## 2. Tipos de datos"
      ]
    },
    {
      "cell_type": "markdown",
      "metadata": {
        "id": "UVfHdtkt-YDW"
      },
      "source": [
        "Todas las variables de python son de algún (y único) tipo. De los ejemplos anteriores tenemos: "
      ]
    },
    {
      "cell_type": "code",
      "execution_count": null,
      "metadata": {
        "id": "tvXFL5ev-YDW",
        "colab": {
          "base_uri": "https://localhost:8080/"
        },
        "outputId": "413cc3f3-72c9-43e0-e34b-b3b42d26077f"
      },
      "outputs": [
        {
          "output_type": "execute_result",
          "data": {
            "text/plain": [
              "str"
            ]
          },
          "metadata": {},
          "execution_count": 55
        }
      ],
      "source": [
        "type(name)"
      ]
    },
    {
      "cell_type": "code",
      "execution_count": null,
      "metadata": {
        "id": "CosDeRJo-YDW",
        "colab": {
          "base_uri": "https://localhost:8080/"
        },
        "outputId": "3f82297e-51d6-4fc6-a722-d7ee522dbfba"
      },
      "outputs": [
        {
          "output_type": "execute_result",
          "data": {
            "text/plain": [
              "float"
            ]
          },
          "metadata": {},
          "execution_count": 56
        }
      ],
      "source": [
        "type(operacion)"
      ]
    },
    {
      "cell_type": "markdown",
      "metadata": {
        "id": "lFnvGHGU-YDW"
      },
      "source": [
        "Los tipos más básicos son: \n",
        "- integers/floats(números)\n",
        "- strings\n",
        "- booleans"
      ]
    },
    {
      "cell_type": "markdown",
      "metadata": {
        "id": "-ezcy-AB-YDX"
      },
      "source": [
        "Los tipos de datos son:  \n",
        "\n",
        "\n",
        "\n",
        "\n",
        "| Tipo              | Nombre                                                  |\n",
        "|------------------------|-------------------------------------------------------|\n",
        "| Texto                   | str                                        |\n",
        "| Números       | integers(int), floats(float), complejos(complex) |\n",
        "| Secuencias                 | listas(list) ,tuplas (tuple), rango(range)                             |\n",
        "| Mapeo | diccionarios (dict)                                  |\n",
        "| Conjuntos                  | conjuntos(set), frozenset                                          |\n",
        "| Booleans                   | bool                                        |\n",
        "| Binarios                   | bytes, bytearray, memoryview                                        |\n",
        "\n"
      ]
    },
    {
      "cell_type": "markdown",
      "metadata": {
        "id": "ChAxPer3-YDX"
      },
      "source": [
        "### Números (Integers y floats)"
      ]
    },
    {
      "cell_type": "code",
      "execution_count": null,
      "metadata": {
        "id": "FxwPkLV9-YDX",
        "colab": {
          "base_uri": "https://localhost:8080/"
        },
        "outputId": "fd254bfc-c6d6-4ef4-996f-db0529d325fc"
      },
      "outputs": [
        {
          "output_type": "execute_result",
          "data": {
            "text/plain": [
              "int"
            ]
          },
          "metadata": {},
          "execution_count": 57
        }
      ],
      "source": [
        "num = 20    #números enteros\n",
        "type(num)"
      ]
    },
    {
      "cell_type": "code",
      "execution_count": null,
      "metadata": {
        "id": "VxRDp7kJ-YDX",
        "colab": {
          "base_uri": "https://localhost:8080/"
        },
        "outputId": "9c0856ae-9322-428a-d123-e1ec40924cfd"
      },
      "outputs": [
        {
          "output_type": "execute_result",
          "data": {
            "text/plain": [
              "float"
            ]
          },
          "metadata": {},
          "execution_count": 58
        }
      ],
      "source": [
        "num = 20.1   #son aproximaciones, es un punto flotante.\n",
        "type(num)"
      ]
    },
    {
      "cell_type": "code",
      "source": [
        "num = 3.0\n",
        "type (num)"
      ],
      "metadata": {
        "id": "ed3prQAQAC7w",
        "colab": {
          "base_uri": "https://localhost:8080/"
        },
        "outputId": "c2df8fc8-bfac-406c-ee50-e8fdf5e1f00b"
      },
      "execution_count": null,
      "outputs": [
        {
          "output_type": "execute_result",
          "data": {
            "text/plain": [
              "float"
            ]
          },
          "metadata": {},
          "execution_count": 59
        }
      ]
    },
    {
      "cell_type": "markdown",
      "metadata": {
        "id": "r2Z65R0d-YDY"
      },
      "source": [
        "Python tiene palabras reservadas. No llamar a una variable como un tipo de dato _int_, _str_, _float_. Estos son ejemplos de palabras reservadas en Python que no se deben utilizar como nombres. "
      ]
    },
    {
      "cell_type": "code",
      "execution_count": null,
      "metadata": {
        "id": "CkNbtDCS-YDY",
        "colab": {
          "base_uri": "https://localhost:8080/"
        },
        "outputId": "6715f30b-005c-4689-a064-f4dc73f68a78"
      },
      "outputs": [
        {
          "output_type": "stream",
          "name": "stdout",
          "text": [
            "['False', 'None', 'True', 'and', 'as', 'assert', 'async', 'await', 'break', 'class', 'continue', 'def', 'del', 'elif', 'else', 'except', 'finally', 'for', 'from', 'global', 'if', 'import', 'in', 'is', 'lambda', 'nonlocal', 'not', 'or', 'pass', 'raise', 'return', 'try', 'while', 'with', 'yield']\n"
          ]
        }
      ],
      "source": [
        "import keyword   #Importamos una librería\n",
        "print(keyword.kwlist)"
      ]
    },
    {
      "cell_type": "code",
      "execution_count": null,
      "metadata": {
        "id": "4kPMrqiK-YDY"
      },
      "outputs": [],
      "source": [
        "import builtins  #Son comandos que no podemos reasignar\n",
        "dir(builtins)"
      ]
    },
    {
      "cell_type": "markdown",
      "metadata": {
        "id": "22v2G-Ht-YDZ"
      },
      "source": [
        "### Strings"
      ]
    },
    {
      "cell_type": "markdown",
      "metadata": {
        "id": "a7wlE4Jd-YDZ"
      },
      "source": [
        "Hay diferentes formas de crear strings, por ejemplo:"
      ]
    },
    {
      "cell_type": "code",
      "execution_count": null,
      "metadata": {
        "id": "MnD_e9rf-YDZ",
        "colab": {
          "base_uri": "https://localhost:8080/"
        },
        "outputId": "fc77a073-eac2-4e7c-b3b0-b797e49f40cf"
      },
      "outputs": [
        {
          "output_type": "stream",
          "name": "stdout",
          "text": [
            "Yo estudio economía\n"
          ]
        }
      ],
      "source": [
        "mensaje = \"Yo estudio economía\"\n",
        "print(mensaje)"
      ]
    },
    {
      "cell_type": "code",
      "execution_count": null,
      "metadata": {
        "id": "LItL8Yjy-YDZ",
        "colab": {
          "base_uri": "https://localhost:8080/"
        },
        "outputId": "e4e6b91e-a808-451a-9a73-642bca3bc8d1"
      },
      "outputs": [
        {
          "output_type": "stream",
          "name": "stdout",
          "text": [
            "Yo estudio economía\n"
          ]
        }
      ],
      "source": [
        "mensaje = 'Yo estudio economía'\n",
        "print(mensaje)"
      ]
    },
    {
      "cell_type": "code",
      "execution_count": null,
      "metadata": {
        "id": "izxWwtbl-YDZ",
        "colab": {
          "base_uri": "https://localhost:8080/"
        },
        "outputId": "506e20e2-cddf-48b4-fc7d-c5ca9fb49595"
      },
      "outputs": [
        {
          "output_type": "stream",
          "name": "stdout",
          "text": [
            "¿Prefieres \n",
            "usar Python o \n",
            "Stata?\n"
          ]
        }
      ],
      "source": [
        "pregunta = '''¿Prefieres \n",
        "usar Python o \n",
        "Stata?'''\n",
        "print(pregunta)"
      ]
    },
    {
      "cell_type": "code",
      "source": [
        "pregunta\n"
      ],
      "metadata": {
        "colab": {
          "base_uri": "https://localhost:8080/",
          "height": 35
        },
        "id": "nygzIepCn_1k",
        "outputId": "31a90e99-462d-4492-dc5a-7296ba8afc8f"
      },
      "execution_count": null,
      "outputs": [
        {
          "output_type": "execute_result",
          "data": {
            "text/plain": [
              "'¿Prefieres \\nusar Python o \\nStata?'"
            ],
            "application/vnd.google.colaboratory.intrinsic+json": {
              "type": "string"
            }
          },
          "metadata": {},
          "execution_count": 66
        }
      ]
    },
    {
      "cell_type": "markdown",
      "metadata": {
        "id": "sqaqPo_Z-YDa"
      },
      "source": [
        "### Booleans"
      ]
    },
    {
      "cell_type": "markdown",
      "metadata": {
        "id": "LXxMlSfQ-YDa"
      },
      "source": [
        "Los booleans son variables que simplemente indican Verdadero (True) o Falso (False)"
      ]
    },
    {
      "cell_type": "code",
      "execution_count": null,
      "metadata": {
        "id": "PFHGkzdH-YDa"
      },
      "outputs": [],
      "source": [
        "verdadero = True\n",
        "falso = False"
      ]
    },
    {
      "cell_type": "code",
      "execution_count": null,
      "metadata": {
        "id": "0RYyD_TE-YDa",
        "colab": {
          "base_uri": "https://localhost:8080/"
        },
        "outputId": "d10aef02-57b8-4783-d1d2-a7af52a47794"
      },
      "outputs": [
        {
          "output_type": "stream",
          "name": "stdout",
          "text": [
            "True\n",
            "False\n"
          ]
        }
      ],
      "source": [
        "print(verdadero)\n",
        "print(falso)"
      ]
    },
    {
      "cell_type": "markdown",
      "metadata": {
        "id": "r7m_zu8i-YDa"
      },
      "source": [
        "Los booleans se evalúan como 1 (True) y 0 (False), por ello: "
      ]
    },
    {
      "cell_type": "code",
      "execution_count": null,
      "metadata": {
        "id": "RSESxbVp-YDa",
        "colab": {
          "base_uri": "https://localhost:8080/"
        },
        "outputId": "cdda5efb-0b09-4209-c353-277d1926526c"
      },
      "outputs": [
        {
          "output_type": "execute_result",
          "data": {
            "text/plain": [
              "False"
            ]
          },
          "metadata": {},
          "execution_count": 69
        }
      ],
      "source": [
        "verdadero < falso"
      ]
    },
    {
      "cell_type": "code",
      "source": [
        "print(False + True)"
      ],
      "metadata": {
        "id": "_RbxbhgKFHGR",
        "colab": {
          "base_uri": "https://localhost:8080/"
        },
        "outputId": "91a5f7b4-c46f-4231-a0f8-262e98901f31"
      },
      "execution_count": null,
      "outputs": [
        {
          "output_type": "stream",
          "name": "stdout",
          "text": [
            "1\n"
          ]
        }
      ]
    },
    {
      "cell_type": "markdown",
      "metadata": {
        "id": "lQc_tB7C-YDa"
      },
      "source": [
        "### el valor `None`"
      ]
    },
    {
      "cell_type": "markdown",
      "metadata": {
        "id": "pjZvJIEf-YDb"
      },
      "source": [
        "Este es un valor especial que se usa cuando queremos definir una variable que aún no tiene un valor, y que usualmente será actualizada luego. Es como una variable vacía"
      ]
    },
    {
      "cell_type": "code",
      "execution_count": null,
      "metadata": {
        "id": "ckpjwd-o-YDb",
        "colab": {
          "base_uri": "https://localhost:8080/"
        },
        "outputId": "b2ff5e99-9646-4253-c467-cedf676dd11d"
      },
      "outputs": [
        {
          "output_type": "stream",
          "name": "stdout",
          "text": [
            "True\n"
          ]
        }
      ],
      "source": [
        "almuerzo  = None\n",
        "if almuerzo is None:\n",
        "    comer_almuerzo = True\n",
        "print(comer_almuerzo)"
      ]
    },
    {
      "cell_type": "code",
      "source": [
        "type(almuerzo)"
      ],
      "metadata": {
        "colab": {
          "base_uri": "https://localhost:8080/"
        },
        "id": "GO2AwjHOCv7R",
        "outputId": "d1dff6fe-cc34-4bd9-8884-53d9e3881627"
      },
      "execution_count": null,
      "outputs": [
        {
          "output_type": "execute_result",
          "data": {
            "text/plain": [
              "NoneType"
            ]
          },
          "metadata": {},
          "execution_count": 72
        }
      ]
    },
    {
      "cell_type": "markdown",
      "metadata": {
        "id": "7JuJJb7n-YDb"
      },
      "source": [
        "#### Consideraciones a tener en cuenta\n",
        "\n",
        "1) Python es sensible a mayúsculas y minúsculas, tengan esto en cuenta cuando nombren a sus variables"
      ]
    },
    {
      "cell_type": "code",
      "execution_count": null,
      "metadata": {
        "id": "DoLiPfmu-YDb",
        "colab": {
          "base_uri": "https://localhost:8080/"
        },
        "outputId": "6cb8c9a9-5c45-43d8-bbd9-5da11c3f5d70"
      },
      "outputs": [
        {
          "output_type": "stream",
          "name": "stdout",
          "text": [
            "72\n"
          ]
        }
      ],
      "source": [
        "ab = 12\n",
        "AB = 24\n",
        "Ab = 36\n",
        "print(ab + AB + Ab)"
      ]
    },
    {
      "cell_type": "markdown",
      "metadata": {
        "id": "SdoECe39-YDb"
      },
      "source": [
        "2) Hay convenciones para nombrar variables en python. \n",
        "\n",
        "\n"
      ]
    },
    {
      "cell_type": "code",
      "source": [
        "variable_1 = 12\n",
        "variable_1"
      ],
      "metadata": {
        "id": "i4aOB-8VFxjT",
        "colab": {
          "base_uri": "https://localhost:8080/"
        },
        "outputId": "d06a01a5-ffe9-41ac-f7bb-474bd06488b1"
      },
      "execution_count": null,
      "outputs": [
        {
          "output_type": "execute_result",
          "data": {
            "text/plain": [
              "12"
            ]
          },
          "metadata": {},
          "execution_count": 75
        }
      ]
    },
    {
      "cell_type": "markdown",
      "metadata": {
        "id": "zJYImdDy-YDb"
      },
      "source": [
        "#### 3) Dynamic Typing\n",
        "\n",
        "El lenguaje python es lo que se conoce como tipeado dinámicamente. Es decir, cuando creamos una variable, no hace falta definir de qué tipo es ya que Python _adivina_ a qué tipo corresponde la variable. Asimismo, cuando reemplazamos la variable por otra, este reemplazo puede ser _de otro tipo_. \n",
        "\n",
        "Esto es bueno pero puede crear inconvenientes: \n",
        "\n"
      ]
    },
    {
      "cell_type": "code",
      "execution_count": null,
      "metadata": {
        "id": "D487oKGD-YDb",
        "colab": {
          "base_uri": "https://localhost:8080/"
        },
        "outputId": "fdf117ef-a7c9-4208-b504-d69ec15f8f5e"
      },
      "outputs": [
        {
          "output_type": "stream",
          "name": "stdout",
          "text": [
            "El valor de c es  35\n"
          ]
        }
      ],
      "source": [
        "num_a = 15\n",
        "num_b = 20\n",
        "num_c = num_a + num_b \n",
        "print(\"El valor de c es \", num_c)"
      ]
    },
    {
      "cell_type": "code",
      "source": [
        "num_a = \"ah\"  # cambié el tipo y sale error\n",
        "num_d = num_a + num_b \n",
        "print(\"num_d:\", num_d)"
      ],
      "metadata": {
        "colab": {
          "base_uri": "https://localhost:8080/",
          "height": 201
        },
        "id": "l97ser0Ko-q0",
        "outputId": "18b7e7f3-8510-43be-9abe-24506126a8a0"
      },
      "execution_count": null,
      "outputs": [
        {
          "output_type": "error",
          "ename": "TypeError",
          "evalue": "ignored",
          "traceback": [
            "\u001b[0;31m---------------------------------------------------------------------------\u001b[0m",
            "\u001b[0;31mTypeError\u001b[0m                                 Traceback (most recent call last)",
            "\u001b[0;32m<ipython-input-78-d6c65b79d909>\u001b[0m in \u001b[0;36m<module>\u001b[0;34m\u001b[0m\n\u001b[1;32m      1\u001b[0m \u001b[0mnum_a\u001b[0m \u001b[0;34m=\u001b[0m \u001b[0;34m\"ah\"\u001b[0m  \u001b[0;31m# cambié el tipo y sale error\u001b[0m\u001b[0;34m\u001b[0m\u001b[0;34m\u001b[0m\u001b[0m\n\u001b[0;32m----> 2\u001b[0;31m \u001b[0mnum_d\u001b[0m \u001b[0;34m=\u001b[0m \u001b[0mnum_a\u001b[0m \u001b[0;34m+\u001b[0m \u001b[0mnum_b\u001b[0m\u001b[0;34m\u001b[0m\u001b[0;34m\u001b[0m\u001b[0m\n\u001b[0m\u001b[1;32m      3\u001b[0m \u001b[0mprint\u001b[0m\u001b[0;34m(\u001b[0m\u001b[0;34m\"num_d:\"\u001b[0m\u001b[0;34m,\u001b[0m \u001b[0mnum_d\u001b[0m\u001b[0;34m)\u001b[0m\u001b[0;34m\u001b[0m\u001b[0;34m\u001b[0m\u001b[0m\n",
            "\u001b[0;31mTypeError\u001b[0m: can only concatenate str (not \"int\") to str"
          ]
        }
      ]
    },
    {
      "cell_type": "code",
      "source": [
        "num_a = 15\n",
        "num_b = 20\n",
        "num_c = num_a + num_b \n",
        "print(\"c=\", num_c)\n"
      ],
      "metadata": {
        "id": "xpZS43AeGUwj",
        "colab": {
          "base_uri": "https://localhost:8080/"
        },
        "outputId": "9eefb01f-2f89-4383-dacd-fb48fde426ad"
      },
      "execution_count": null,
      "outputs": [
        {
          "output_type": "stream",
          "name": "stdout",
          "text": [
            "c= 35\n"
          ]
        }
      ]
    },
    {
      "cell_type": "code",
      "source": [
        "num_a = 24  # variable numérica\n",
        "num_d = num_a + num_b \n",
        "print(\"num_d:\", num_d)"
      ],
      "metadata": {
        "colab": {
          "base_uri": "https://localhost:8080/"
        },
        "id": "lZwA4-Y5pFgE",
        "outputId": "70658b25-8a74-403b-c414-1c11a92ac528"
      },
      "execution_count": null,
      "outputs": [
        {
          "output_type": "stream",
          "name": "stdout",
          "text": [
            "num_d: 44\n"
          ]
        }
      ]
    },
    {
      "cell_type": "markdown",
      "metadata": {
        "id": "k47ss3DZ-YDc"
      },
      "source": [
        "4) Los strings vienen con métodos adicionales. Por ejemplo los strings vienen con métodos para volverlos mayúscula."
      ]
    },
    {
      "cell_type": "code",
      "execution_count": null,
      "metadata": {
        "id": "hU6FkA4Q-YDc"
      },
      "outputs": [],
      "source": [
        "name = \"nombre\" \n",
        "name.upper()  #string en mayuscula"
      ]
    },
    {
      "cell_type": "markdown",
      "metadata": {
        "id": "rXk4Y_Fr-YDc"
      },
      "source": [
        "[Volver a inicio](#principio)"
      ]
    },
    {
      "cell_type": "markdown",
      "metadata": {
        "id": "WQ7a4sH8-YDc"
      },
      "source": [
        "En general, los _strings_ vendrán con estos _métodos_ adicionales con los que valen la pena familarizarse"
      ]
    },
    {
      "cell_type": "markdown",
      "metadata": {
        "id": "xA_CB_Y--YDc"
      },
      "source": [
        "<a class=\"anchor\" id=\"operadores\"></a>\n",
        "\n",
        "## 3. Operadores"
      ]
    },
    {
      "cell_type": "markdown",
      "metadata": {
        "id": "-v3jTTY0-YDc"
      },
      "source": [
        "Los operadores nos permitirán hacer justo eso: Operaciones!. Vamos a ver los más importantes:"
      ]
    },
    {
      "cell_type": "markdown",
      "metadata": {
        "id": "sEpsxsAz-YDc"
      },
      "source": [
        "### Operadores aritméticos"
      ]
    },
    {
      "cell_type": "code",
      "execution_count": null,
      "metadata": {
        "id": "Kwrt4RNd-YDc",
        "colab": {
          "base_uri": "https://localhost:8080/"
        },
        "outputId": "69ea645b-0240-45df-be86-bc9df99039c0"
      },
      "outputs": [
        {
          "output_type": "execute_result",
          "data": {
            "text/plain": [
              "37"
            ]
          },
          "metadata": {},
          "execution_count": 82
        }
      ],
      "source": [
        "# Suma\n",
        "a = 12 + 15 + 10\n",
        "a"
      ]
    },
    {
      "cell_type": "code",
      "execution_count": null,
      "metadata": {
        "id": "T_hDKSXa-YDc",
        "colab": {
          "base_uri": "https://localhost:8080/"
        },
        "outputId": "d7eac4cd-a4aa-40bf-ccc0-43104b0628ba"
      },
      "outputs": [
        {
          "output_type": "execute_result",
          "data": {
            "text/plain": [
              "-2"
            ]
          },
          "metadata": {},
          "execution_count": 83
        }
      ],
      "source": [
        "# Resta\n",
        "3-5"
      ]
    },
    {
      "cell_type": "code",
      "execution_count": null,
      "metadata": {
        "id": "lXyywKiU-YDc",
        "colab": {
          "base_uri": "https://localhost:8080/"
        },
        "outputId": "50937ac1-3782-4fe1-9a89-6f5fb9e1e6d2"
      },
      "outputs": [
        {
          "output_type": "execute_result",
          "data": {
            "text/plain": [
              "144"
            ]
          },
          "metadata": {},
          "execution_count": 84
        }
      ],
      "source": [
        "# Multiplicación \n",
        "4*3*12"
      ]
    },
    {
      "cell_type": "code",
      "execution_count": null,
      "metadata": {
        "id": "OjZDhE5Y-YDd",
        "colab": {
          "base_uri": "https://localhost:8080/"
        },
        "outputId": "e0f5e920-0d7a-40fa-964a-c4d45d9ba7a0"
      },
      "outputs": [
        {
          "output_type": "execute_result",
          "data": {
            "text/plain": [
              "10"
            ]
          },
          "metadata": {},
          "execution_count": 85
        }
      ],
      "source": [
        "# División \n",
        "50/5"
      ]
    },
    {
      "cell_type": "code",
      "execution_count": null,
      "metadata": {
        "id": "JBbu1R_i-YDd",
        "colab": {
          "base_uri": "https://localhost:8080/"
        },
        "outputId": "7f090120-69c2-49ae-9684-90f986f025c6"
      },
      "outputs": [
        {
          "output_type": "execute_result",
          "data": {
            "text/plain": [
              "8"
            ]
          },
          "metadata": {},
          "execution_count": 88
        }
      ],
      "source": [
        "# Exponencial\n",
        "2**3"
      ]
    },
    {
      "cell_type": "code",
      "source": [
        "type(8)"
      ],
      "metadata": {
        "id": "0oT8IlhD3LcG",
        "colab": {
          "base_uri": "https://localhost:8080/"
        },
        "outputId": "9a3c823e-3561-40c9-bb61-a1839e639028"
      },
      "execution_count": null,
      "outputs": [
        {
          "output_type": "execute_result",
          "data": {
            "text/plain": [
              "int"
            ]
          },
          "metadata": {},
          "execution_count": 89
        }
      ]
    },
    {
      "cell_type": "code",
      "execution_count": null,
      "metadata": {
        "id": "5DiiEIZa-YDd",
        "colab": {
          "base_uri": "https://localhost:8080/"
        },
        "outputId": "a38a182d-257c-4735-bd1d-b53cae47c35b"
      },
      "outputs": [
        {
          "output_type": "execute_result",
          "data": {
            "text/plain": [
              "25.0"
            ]
          },
          "metadata": {},
          "execution_count": 87
        }
      ],
      "source": [
        "# Piso (la parte entera de la división)\n",
        "250 // 10"
      ]
    },
    {
      "cell_type": "code",
      "execution_count": null,
      "metadata": {
        "id": "IqGUu5yM-YDd",
        "colab": {
          "base_uri": "https://localhost:8080/"
        },
        "outputId": "d9695e54-1402-4a57-fb57-1ebadc1c55af"
      },
      "outputs": [
        {
          "output_type": "execute_result",
          "data": {
            "text/plain": [
              "4"
            ]
          },
          "metadata": {},
          "execution_count": 90
        }
      ],
      "source": [
        "# Módulo (el residuo de la división)\n",
        "250 % 6"
      ]
    },
    {
      "cell_type": "code",
      "execution_count": null,
      "metadata": {
        "id": "hfsh3Abi-YDd",
        "colab": {
          "base_uri": "https://localhost:8080/"
        },
        "outputId": "4d95f8cf-b753-488d-b58e-ffb7834c586b"
      },
      "outputs": [
        {
          "output_type": "execute_result",
          "data": {
            "text/plain": [
              "1"
            ]
          },
          "metadata": {},
          "execution_count": 91
        }
      ],
      "source": [
        "11 % 2"
      ]
    },
    {
      "cell_type": "markdown",
      "metadata": {
        "id": "1XlvVT7n-YDd"
      },
      "source": [
        "En Python puede hacer operaciones combinadas\n"
      ]
    },
    {
      "cell_type": "code",
      "execution_count": null,
      "metadata": {
        "id": "7zzvYMAo-YDd",
        "colab": {
          "base_uri": "https://localhost:8080/"
        },
        "outputId": "1cfe3121-7638-42e6-f7b8-a184de7c7611"
      },
      "outputs": [
        {
          "output_type": "execute_result",
          "data": {
            "text/plain": [
              "10.194444444444445"
            ]
          },
          "metadata": {},
          "execution_count": 92
        }
      ],
      "source": [
        "(11 + 5)//2 + 7 / 6 **2 + 250 % 8"
      ]
    },
    {
      "cell_type": "markdown",
      "metadata": {
        "id": "49w_Ml2D-YDd"
      },
      "source": [
        "Sin embargo, ten en cuenta que existe un orden de evaluación de estos operadores, que corresponden a las reglas matemáticas convencionales. El orden en el que los operadores serán evaluados son:"
      ]
    },
    {
      "cell_type": "markdown",
      "metadata": {
        "id": "OPXlIRDR-YDd"
      },
      "source": [
        "| Operador              | Nombre                                                  |\n",
        "|------------------------|-------------------------------------------------------|\n",
        "| `**`                   | Exponencial                                        |\n",
        "| `*, /, //, %, @`       | multiplicación, división, piso, módulo, at |\n",
        "| `+, -`                 | más, menos                            |\n",
        "| `<, <=, >, >=, !=, ==` | Operadores de comparación                                  |\n",
        "| `not`                   | Booleano NOT                                        |\n",
        "| `and`                   | Booleano AND                                        |\n",
        "| `or`                   | Booleano OR                                        |\n"
      ]
    },
    {
      "cell_type": "code",
      "execution_count": null,
      "metadata": {
        "id": "eN-P0jKf-YDd"
      },
      "outputs": [],
      "source": [
        "(1 + 5//2 + 7) / 6 **2 + 250 % 8"
      ]
    },
    {
      "cell_type": "markdown",
      "metadata": {
        "id": "NS3CamDy-YDe"
      },
      "source": [
        "### Operadores de comparación\n",
        "\n",
        "Los siguientes operadores realizan comparaciones entre valores/variables\n",
        "\n",
        "* `>`     Mayor que\n",
        "* `<`     Menor que\n",
        "* `>=`  Mayor o igual que\n",
        "* `<=`  Menor o igual que\n",
        "* `==`  Igual a\n",
        "* `!=`  No igual a\n",
        "\n",
        "Cuando se comparan estos valores, el resultado será True o False. "
      ]
    },
    {
      "cell_type": "code",
      "execution_count": null,
      "metadata": {
        "id": "sCJUNZg9-YDe",
        "colab": {
          "base_uri": "https://localhost:8080/"
        },
        "outputId": "a6cdf67d-ea5a-4081-d027-c7f56edcfba0"
      },
      "outputs": [
        {
          "output_type": "execute_result",
          "data": {
            "text/plain": [
              "False"
            ]
          },
          "metadata": {},
          "execution_count": 93
        }
      ],
      "source": [
        "23 > 43"
      ]
    },
    {
      "cell_type": "code",
      "execution_count": null,
      "metadata": {
        "id": "0p9wdBcZ-YDe",
        "colab": {
          "base_uri": "https://localhost:8080/"
        },
        "outputId": "e0c330ec-1a3b-4628-a867-7841ce0c615c"
      },
      "outputs": [
        {
          "output_type": "execute_result",
          "data": {
            "text/plain": [
              "True"
            ]
          },
          "metadata": {},
          "execution_count": 94
        }
      ],
      "source": [
        "2 < 4"
      ]
    },
    {
      "cell_type": "code",
      "execution_count": null,
      "metadata": {
        "id": "8dMdY3g5-YDe",
        "colab": {
          "base_uri": "https://localhost:8080/"
        },
        "outputId": "614e701e-11d5-4135-e9b4-8c99c6352f15"
      },
      "outputs": [
        {
          "output_type": "execute_result",
          "data": {
            "text/plain": [
              "True"
            ]
          },
          "metadata": {},
          "execution_count": 95
        }
      ],
      "source": [
        "11 >= 11"
      ]
    },
    {
      "cell_type": "code",
      "execution_count": null,
      "metadata": {
        "id": "ccfaPjZU-YDe",
        "colab": {
          "base_uri": "https://localhost:8080/"
        },
        "outputId": "2c543354-96e9-4646-83b1-2b489b69e7e7"
      },
      "outputs": [
        {
          "output_type": "execute_result",
          "data": {
            "text/plain": [
              "False"
            ]
          },
          "metadata": {},
          "execution_count": 96
        }
      ],
      "source": [
        "32 == 23"
      ]
    },
    {
      "cell_type": "code",
      "execution_count": null,
      "metadata": {
        "id": "JZXQiMZP-YDe",
        "colab": {
          "base_uri": "https://localhost:8080/"
        },
        "outputId": "8ad17cd9-a9e2-4b86-f616-ca51d378318e"
      },
      "outputs": [
        {
          "output_type": "execute_result",
          "data": {
            "text/plain": [
              "False"
            ]
          },
          "metadata": {},
          "execution_count": 97
        }
      ],
      "source": [
        "3.14 == 3.1416"
      ]
    },
    {
      "cell_type": "markdown",
      "metadata": {
        "id": "V3VLLiME-YDe"
      },
      "source": [
        "Los operadores aritméticos y de comparación se pueden mezclar!"
      ]
    },
    {
      "cell_type": "code",
      "execution_count": null,
      "metadata": {
        "id": "-UrnVc5G-YDe",
        "colab": {
          "base_uri": "https://localhost:8080/"
        },
        "outputId": "8a3495c0-1921-4fc9-c0cc-be63180f878a"
      },
      "outputs": [
        {
          "output_type": "execute_result",
          "data": {
            "text/plain": [
              "False"
            ]
          },
          "metadata": {},
          "execution_count": 98
        }
      ],
      "source": [
        "5 * 3//2 > 3 **2 - 1"
      ]
    },
    {
      "cell_type": "markdown",
      "metadata": {
        "id": "Vqj0nz5W-YDe"
      },
      "source": [
        "### Operadores lógicos/ booleanos\n",
        "\n",
        "Python usa los siguientes 3 operadores booleanos:\n",
        "* `and`\n",
        "* `or`\n",
        "* `not`\n",
        "\n",
        "Estos operadores evalúan dos expresiones que tienen que devolver True o False"
      ]
    },
    {
      "cell_type": "code",
      "execution_count": null,
      "metadata": {
        "id": "LgY6SK-6-YDf",
        "colab": {
          "base_uri": "https://localhost:8080/"
        },
        "outputId": "e450bdcf-c678-4f67-a7a9-5efced520b93"
      },
      "outputs": [
        {
          "output_type": "execute_result",
          "data": {
            "text/plain": [
              "True"
            ]
          },
          "metadata": {},
          "execution_count": 99
        }
      ],
      "source": [
        "(5 > 4) and (8 > 6)"
      ]
    },
    {
      "cell_type": "code",
      "execution_count": null,
      "metadata": {
        "id": "9J0_Nq08-YDf",
        "colab": {
          "base_uri": "https://localhost:8080/"
        },
        "outputId": "fd9e3d06-a184-4f7b-a80e-f03bfd775f0f"
      },
      "outputs": [
        {
          "output_type": "execute_result",
          "data": {
            "text/plain": [
              "False"
            ]
          },
          "metadata": {},
          "execution_count": 100
        }
      ],
      "source": [
        "(8 * 5) < 64 and (10 < 7)"
      ]
    },
    {
      "cell_type": "code",
      "execution_count": null,
      "metadata": {
        "id": "lP38bUGE-YDf",
        "colab": {
          "base_uri": "https://localhost:8080/"
        },
        "outputId": "a6829999-f605-4c50-dd30-2808c2b9f7d3"
      },
      "outputs": [
        {
          "output_type": "execute_result",
          "data": {
            "text/plain": [
              "True"
            ]
          },
          "metadata": {},
          "execution_count": 101
        }
      ],
      "source": [
        "(5 > 4) or (8 < 6)"
      ]
    },
    {
      "cell_type": "code",
      "execution_count": null,
      "metadata": {
        "id": "2U_CRew0-YDf",
        "colab": {
          "base_uri": "https://localhost:8080/"
        },
        "outputId": "59abb5a2-7220-4c8b-cdeb-492f49b9b7bf"
      },
      "outputs": [
        {
          "output_type": "execute_result",
          "data": {
            "text/plain": [
              "True"
            ]
          },
          "metadata": {},
          "execution_count": 102
        }
      ],
      "source": [
        "not (8 < 6)"
      ]
    },
    {
      "cell_type": "markdown",
      "metadata": {
        "id": "JsYjjYth-YDf"
      },
      "source": [
        "### Operadores de asignación aumentada\n",
        "\n",
        "Estos operadores se vale del `=` y los operadores aritméticos para reasignar un valor, en base a un valor base. Estos son: \n",
        "\n",
        "- `+=`\n",
        "- `-=`\n",
        "- `*=`\n",
        "- `/=`\n",
        "- `//=`\n",
        "- `%=`\n",
        "- `**=`  \n",
        "\n",
        "Veremos cómo funcionan"
      ]
    },
    {
      "cell_type": "code",
      "execution_count": null,
      "metadata": {
        "id": "vAwRnJ46-YDf"
      },
      "outputs": [],
      "source": [
        "x = 1"
      ]
    },
    {
      "cell_type": "code",
      "execution_count": null,
      "metadata": {
        "id": "1p7purby-YDf",
        "colab": {
          "base_uri": "https://localhost:8080/"
        },
        "outputId": "cf7917a0-2def-40cb-b428-7270160b2a22"
      },
      "outputs": [
        {
          "output_type": "execute_result",
          "data": {
            "text/plain": [
              "10"
            ]
          },
          "metadata": {},
          "execution_count": 120
        }
      ],
      "source": [
        "x += 9 #x = x +9 #ya no redefinimos la variable x para evitar poner x=1+9\n",
        "x"
      ]
    },
    {
      "cell_type": "code",
      "execution_count": null,
      "metadata": {
        "id": "II92XiP9-YDf",
        "colab": {
          "base_uri": "https://localhost:8080/"
        },
        "outputId": "e5ff7212-939c-432a-90df-0fd05062e83b"
      },
      "outputs": [
        {
          "output_type": "execute_result",
          "data": {
            "text/plain": [
              "1"
            ]
          },
          "metadata": {},
          "execution_count": 121
        }
      ],
      "source": [
        "x -= 9 #x = x -9\n",
        "x"
      ]
    },
    {
      "cell_type": "code",
      "execution_count": null,
      "metadata": {
        "id": "9TgrhOew-YDf",
        "colab": {
          "base_uri": "https://localhost:8080/"
        },
        "outputId": "972542f4-ea38-4d25-84f7-22cb11bbe71d"
      },
      "outputs": [
        {
          "output_type": "execute_result",
          "data": {
            "text/plain": [
              "5.0"
            ]
          },
          "metadata": {},
          "execution_count": 116
        }
      ],
      "source": [
        "x /= 0.2 #x = x/0.2\n",
        "x"
      ]
    },
    {
      "cell_type": "code",
      "execution_count": null,
      "metadata": {
        "id": "LjUMhDTr-YDf"
      },
      "outputs": [],
      "source": [
        "x = x/0.2"
      ]
    },
    {
      "cell_type": "code",
      "execution_count": null,
      "metadata": {
        "id": "Izx933-8-YDf",
        "colab": {
          "base_uri": "https://localhost:8080/"
        },
        "outputId": "d1329e00-ba69-401d-9628-17aaa402b892"
      },
      "outputs": [
        {
          "output_type": "execute_result",
          "data": {
            "text/plain": [
              "12.0"
            ]
          },
          "metadata": {},
          "execution_count": 118
        }
      ],
      "source": [
        "x //= 2\n",
        "x"
      ]
    },
    {
      "cell_type": "markdown",
      "metadata": {
        "id": "euToH67x-YDg"
      },
      "source": [
        "[Volver a inicio](#principio)"
      ]
    }
  ],
  "metadata": {
    "kernelspec": {
      "display_name": "Python 3",
      "language": "python",
      "name": "python3"
    },
    "language_info": {
      "codemirror_mode": {
        "name": "ipython",
        "version": 3
      },
      "file_extension": ".py",
      "mimetype": "text/x-python",
      "name": "python",
      "nbconvert_exporter": "python",
      "pygments_lexer": "ipython3",
      "version": "3.8.5"
    },
    "colab": {
      "provenance": [],
      "include_colab_link": true
    }
  },
  "nbformat": 4,
  "nbformat_minor": 0
}