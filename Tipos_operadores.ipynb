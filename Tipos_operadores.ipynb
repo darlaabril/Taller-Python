{
  "cells": [
    {
      "cell_type": "markdown",
      "metadata": {
        "id": "view-in-github",
        "colab_type": "text"
      },
      "source": [
        "<a href=\"https://colab.research.google.com/github/darlaabril/Taller-Python/blob/main/Tipos_operadores.ipynb\" target=\"_parent\"><img src=\"https://colab.research.google.com/assets/colab-badge.svg\" alt=\"Open In Colab\"/></a>"
      ]
    },
    {
      "cell_type": "markdown",
      "metadata": {
        "id": "FdxTz8WC-YDK"
      },
      "source": [
        "# Variables, tipos de datos, operadores y expresiones"
      ]
    },
    {
      "cell_type": "markdown",
      "metadata": {
        "id": "cyxphefH-YDO"
      },
      "source": [
        "<a class=\"anchor\" id=\"principio\"></a>\n",
        "\n",
        "## Introducción"
      ]
    },
    {
      "cell_type": "markdown",
      "metadata": {
        "id": "tHd1HO_6-YDP"
      },
      "source": [
        "En esta primera sesión revisaremos las piezas más pequeñas que conforman un programa. En esencia un programa es una serie de instrucciones que escribimos en un lenguaje determinado para que la máquina nos entienda. \n",
        "Veremos 4 elementos iniciales importantes para poder escribir programas:\n",
        "\n",
        "[1. Variables](#variables)   \n",
        "[2. Tipos de datos](#tipos-de-datos)  \n",
        "[3. Operadores](#operadores)  \n",
        "[4. Expresiones](#expresiones)  "
      ]
    },
    {
      "cell_type": "markdown",
      "metadata": {
        "id": "41ZQvlfq-YDQ"
      },
      "source": [
        "<a class=\"anchor\" id=\"variables\"></a>\n",
        "## 1. Variables"
      ]
    },
    {
      "cell_type": "markdown",
      "metadata": {
        "id": "F2fcbIP_-YDQ"
      },
      "source": [
        "Las variables son todo aquello que definiremos con un nombre, y a lo que nos referiremos después si queremos usarlo. Las variables pueden ser datos, texto, números, pero también cosas más complicadas como funciones, o incluso otros programas. \n",
        "\n",
        "Las variables son, también, un nombre simbólico que representa la ubicación en la memoria de una computadora. "
      ]
    },
    {
      "cell_type": "markdown",
      "metadata": {
        "id": "ujcsqDMd-YDR"
      },
      "source": [
        "Se utiliza el operador = para asignarle el valor a la variable"
      ]
    },
    {
      "cell_type": "code",
      "execution_count": null,
      "metadata": {
        "id": "B3PRWbsP-YDR"
      },
      "outputs": [],
      "source": [
        "name = \"nombre\" #es un string\n",
        "print(name)\n",
        "name"
      ]
    },
    {
      "cell_type": "code",
      "execution_count": null,
      "metadata": {
        "id": "miQPlPhI-YDT"
      },
      "outputs": [],
      "source": [
        "operacion = 7 + (4 + 5) * 4   #int\n",
        "print(name)\n",
        "print(operacion)\n"
      ]
    },
    {
      "cell_type": "markdown",
      "metadata": {
        "id": "UiyT_GNc-YDU"
      },
      "source": [
        "Se puede reasignar el valor de una variable: "
      ]
    },
    {
      "cell_type": "code",
      "execution_count": null,
      "metadata": {
        "id": "BfN6E5s9-YDU"
      },
      "outputs": [],
      "source": [
        "operacion = 3 + (15 + 6) /4   #float\n",
        "print(operacion)"
      ]
    },
    {
      "cell_type": "markdown",
      "metadata": {
        "id": "rL-bMvM4-YDV"
      },
      "source": [
        "No se puede llamar a una variable no definida!"
      ]
    },
    {
      "cell_type": "code",
      "execution_count": null,
      "metadata": {
        "id": "9tWQzsbp-YDV"
      },
      "outputs": [],
      "source": [
        "nueva_operacion"
      ]
    },
    {
      "cell_type": "markdown",
      "metadata": {
        "id": "h6IEEZ7t-YDV"
      },
      "source": [
        "[Volver a inicio](#principio)"
      ]
    },
    {
      "cell_type": "markdown",
      "metadata": {
        "id": "gsy0OPYz-YDW"
      },
      "source": [
        "## 2. Tipos de datos"
      ]
    },
    {
      "cell_type": "markdown",
      "metadata": {
        "id": "UVfHdtkt-YDW"
      },
      "source": [
        "Todas las variables de python son de algún (y único) tipo. De los ejemplos anteriores tenemos: "
      ]
    },
    {
      "cell_type": "code",
      "execution_count": null,
      "metadata": {
        "id": "tvXFL5ev-YDW"
      },
      "outputs": [],
      "source": [
        "type(name)"
      ]
    },
    {
      "cell_type": "code",
      "execution_count": null,
      "metadata": {
        "id": "CosDeRJo-YDW"
      },
      "outputs": [],
      "source": [
        "type(operacion)"
      ]
    },
    {
      "cell_type": "markdown",
      "metadata": {
        "id": "lFnvGHGU-YDW"
      },
      "source": [
        "Los tipos más básicos son: \n",
        "- integers/floats(números)\n",
        "- strings\n",
        "- booleans"
      ]
    },
    {
      "cell_type": "markdown",
      "metadata": {
        "id": "-ezcy-AB-YDX"
      },
      "source": [
        "Los tipos de datos son:  \n",
        "\n",
        "\n",
        "\n",
        "\n",
        "| Tipo              | Nombre                                                  |\n",
        "|------------------------|-------------------------------------------------------|\n",
        "| Texto                   | str                                        |\n",
        "| Números       | integers(int), floats(float), complejos(complex) |\n",
        "| Secuencias                 | listas(list) ,tuplas (tuple), rango(range)                             |\n",
        "| Mapeo | diccionarios (dict)                                  |\n",
        "| Conjuntos                  | conjuntos(set), frozenset                                          |\n",
        "| Booleans                   | bool                                        |\n",
        "| Binarios                   | bytes, bytearray, memoryview                                        |\n",
        "\n"
      ]
    },
    {
      "cell_type": "markdown",
      "metadata": {
        "id": "ChAxPer3-YDX"
      },
      "source": [
        "### Números (Integers y floats)"
      ]
    },
    {
      "cell_type": "code",
      "execution_count": null,
      "metadata": {
        "id": "FxwPkLV9-YDX"
      },
      "outputs": [],
      "source": [
        "num = 20    #números enteros\n",
        "type(num)"
      ]
    },
    {
      "cell_type": "code",
      "execution_count": null,
      "metadata": {
        "id": "VxRDp7kJ-YDX"
      },
      "outputs": [],
      "source": [
        "num = 20.1   #son aproximaciones, es un punto flotante.\n",
        "type(num)"
      ]
    },
    {
      "cell_type": "code",
      "source": [
        "num = 3.0\n",
        "type (num)"
      ],
      "metadata": {
        "id": "ed3prQAQAC7w"
      },
      "execution_count": null,
      "outputs": []
    },
    {
      "cell_type": "markdown",
      "metadata": {
        "id": "r2Z65R0d-YDY"
      },
      "source": [
        "Python tiene palabras reservadas. No llamar a una variable como un tipo de dato _int_, _str_, _float_. Estos son ejemplos de palabras reservadas en Python que no se deben utilizar como nombres. "
      ]
    },
    {
      "cell_type": "code",
      "execution_count": null,
      "metadata": {
        "id": "CkNbtDCS-YDY"
      },
      "outputs": [],
      "source": [
        "import keyword   #Importamos una librería\n",
        "print(keyword.kwlist)"
      ]
    },
    {
      "cell_type": "code",
      "execution_count": null,
      "metadata": {
        "id": "4kPMrqiK-YDY"
      },
      "outputs": [],
      "source": [
        "import builtins  #Son comandos que no podemos reasignar\n",
        "dir(builtins)"
      ]
    },
    {
      "cell_type": "markdown",
      "metadata": {
        "id": "22v2G-Ht-YDZ"
      },
      "source": [
        "### Strings"
      ]
    },
    {
      "cell_type": "markdown",
      "metadata": {
        "id": "a7wlE4Jd-YDZ"
      },
      "source": [
        "Hay diferentes formas de crear strings, por ejemplo:"
      ]
    },
    {
      "cell_type": "code",
      "execution_count": null,
      "metadata": {
        "id": "MnD_e9rf-YDZ"
      },
      "outputs": [],
      "source": [
        "mensaje = \"Yo estudio economía\"\n",
        "print(mensaje)"
      ]
    },
    {
      "cell_type": "code",
      "execution_count": null,
      "metadata": {
        "id": "LItL8Yjy-YDZ"
      },
      "outputs": [],
      "source": [
        "mensaje = 'Yo estudio economía'\n",
        "print(mensaje)"
      ]
    },
    {
      "cell_type": "code",
      "execution_count": null,
      "metadata": {
        "id": "izxWwtbl-YDZ"
      },
      "outputs": [],
      "source": [
        "pregunta = '''¿Prefieres \n",
        "usar Python \n",
        "o Stata?'''\n",
        "print(pregunta)"
      ]
    },
    {
      "cell_type": "code",
      "source": [
        "pregunta\n"
      ],
      "metadata": {
        "id": "nygzIepCn_1k"
      },
      "execution_count": null,
      "outputs": []
    },
    {
      "cell_type": "markdown",
      "metadata": {
        "id": "sqaqPo_Z-YDa"
      },
      "source": [
        "### Booleans"
      ]
    },
    {
      "cell_type": "markdown",
      "metadata": {
        "id": "LXxMlSfQ-YDa"
      },
      "source": [
        "Los booleans son variables que simplemente indican Verdadero (True) o Falso (False)"
      ]
    },
    {
      "cell_type": "code",
      "execution_count": 6,
      "metadata": {
        "id": "PFHGkzdH-YDa"
      },
      "outputs": [],
      "source": [
        "verdadero = True\n",
        "falso = False"
      ]
    },
    {
      "cell_type": "code",
      "execution_count": null,
      "metadata": {
        "id": "0RYyD_TE-YDa"
      },
      "outputs": [],
      "source": [
        "verdadero\n",
        "print(falso)"
      ]
    },
    {
      "cell_type": "markdown",
      "metadata": {
        "id": "r7m_zu8i-YDa"
      },
      "source": [
        "Los booleans se evalúan como 1 (True) y 0 (False), por ello: "
      ]
    },
    {
      "cell_type": "code",
      "execution_count": null,
      "metadata": {
        "id": "RSESxbVp-YDa"
      },
      "outputs": [],
      "source": [
        "verdadero > falso"
      ]
    },
    {
      "cell_type": "code",
      "source": [
        "print(False + True)\n",
        "True + True"
      ],
      "metadata": {
        "id": "_RbxbhgKFHGR"
      },
      "execution_count": null,
      "outputs": []
    },
    {
      "cell_type": "markdown",
      "metadata": {
        "id": "lQc_tB7C-YDa"
      },
      "source": [
        "### el valor `None`"
      ]
    },
    {
      "cell_type": "markdown",
      "metadata": {
        "id": "pjZvJIEf-YDb"
      },
      "source": [
        "Este es un valor especial que se usa cuando queremos definir una variable que aún no tiene un valor, y que usualmente será actualizada luego. Es como una variable vacía"
      ]
    },
    {
      "cell_type": "code",
      "execution_count": null,
      "metadata": {
        "id": "ckpjwd-o-YDb"
      },
      "outputs": [],
      "source": [
        "almuerzo  = None\n",
        "if almuerzo is None:\n",
        "    comer_almuerzo = True\n",
        "print(comer_almuerzo)"
      ]
    },
    {
      "cell_type": "markdown",
      "metadata": {
        "id": "7JuJJb7n-YDb"
      },
      "source": [
        "#### Consideraciones a tener en cuenta\n",
        "\n",
        "1) Python es sensible a mayúsculas y minúsculas, tengan esto en cuenta cuando nombren a sus variables"
      ]
    },
    {
      "cell_type": "code",
      "execution_count": null,
      "metadata": {
        "id": "DoLiPfmu-YDb"
      },
      "outputs": [],
      "source": [
        "ab = 12\n",
        "AB = 24\n",
        "Ab = 36\n",
        "print(ab + AB + Ab)"
      ]
    },
    {
      "cell_type": "markdown",
      "metadata": {
        "id": "SdoECe39-YDb"
      },
      "source": [
        "2) Hay convenciones para nombrar variables en python. \n",
        "\n",
        "\n"
      ]
    },
    {
      "cell_type": "code",
      "source": [
        "variable_1 = 12\n",
        "variable_1"
      ],
      "metadata": {
        "id": "i4aOB-8VFxjT"
      },
      "execution_count": null,
      "outputs": []
    },
    {
      "cell_type": "markdown",
      "metadata": {
        "id": "zJYImdDy-YDb"
      },
      "source": [
        "#### 3) Dynamic Typing\n",
        "\n",
        "El lenguaje python es lo que se conoce como tipeado dinámicamente. Es decir, cuando creamos una variable, no hace falta definir de qué tipo es ya que Python _adivina_ a qué tipo corresponde la variable. Asimismo, cuando reemplazamos la variable por otra, este reemplazo puede ser _de otro tipo_. \n",
        "\n",
        "Esto es bueno pero puede crear inconvenientes: \n",
        "\n"
      ]
    },
    {
      "cell_type": "code",
      "execution_count": null,
      "metadata": {
        "id": "D487oKGD-YDb"
      },
      "outputs": [],
      "source": [
        "num_a = 15\n",
        "num_b = 20\n",
        "num_c = num_a + num_b \n",
        "print(\"num_c:\", num_c)\n",
        "\n"
      ]
    },
    {
      "cell_type": "code",
      "source": [
        "num_a = \"ah\"  # cambié el tipo y sale error\n",
        "num_d = num_a + num_b \n",
        "print(\"num_d:\", num_d)"
      ],
      "metadata": {
        "id": "l97ser0Ko-q0"
      },
      "execution_count": null,
      "outputs": []
    },
    {
      "cell_type": "code",
      "source": [
        "num_a = 15\n",
        "num_b = 20\n",
        "num_c = num_a + num_b \n",
        "print(\"c:\", num_c)\n"
      ],
      "metadata": {
        "id": "xpZS43AeGUwj"
      },
      "execution_count": null,
      "outputs": []
    },
    {
      "cell_type": "code",
      "source": [
        "num_a = 24  # variable numérica\n",
        "num_d = num_a + num_b \n",
        "print(\"num_d:\", num_d)"
      ],
      "metadata": {
        "id": "lZwA4-Y5pFgE"
      },
      "execution_count": null,
      "outputs": []
    },
    {
      "cell_type": "markdown",
      "metadata": {
        "id": "k47ss3DZ-YDc"
      },
      "source": [
        "4) Los strings vienen con métodos adicionales. Por ejemplo los strings vienen con métodos para volverlos mayúscula."
      ]
    },
    {
      "cell_type": "code",
      "execution_count": null,
      "metadata": {
        "id": "hU6FkA4Q-YDc"
      },
      "outputs": [],
      "source": [
        "name = \"nombre\" \n",
        "name.upper()  #string en mayuscula"
      ]
    },
    {
      "cell_type": "markdown",
      "metadata": {
        "id": "rXk4Y_Fr-YDc"
      },
      "source": [
        "[Volver a inicio](#principio)"
      ]
    },
    {
      "cell_type": "markdown",
      "metadata": {
        "id": "WQ7a4sH8-YDc"
      },
      "source": [
        "En general, los _strings_ vendrán con estos _métodos_ adicionales con los que valen la pena familarizarse"
      ]
    },
    {
      "cell_type": "markdown",
      "metadata": {
        "id": "xA_CB_Y--YDc"
      },
      "source": [
        "<a class=\"anchor\" id=\"operadores\"></a>\n",
        "\n",
        "## 3. Operadores"
      ]
    },
    {
      "cell_type": "markdown",
      "metadata": {
        "id": "-v3jTTY0-YDc"
      },
      "source": [
        "Los operadores nos permitirán hacer justo eso: Operaciones!. Vamos a ver los más importantes:"
      ]
    },
    {
      "cell_type": "markdown",
      "metadata": {
        "id": "sEpsxsAz-YDc"
      },
      "source": [
        "### Operadores aritméticos"
      ]
    },
    {
      "cell_type": "code",
      "execution_count": null,
      "metadata": {
        "id": "Kwrt4RNd-YDc"
      },
      "outputs": [],
      "source": [
        "# Suma\n",
        "a = 12 + 15 + 10\n",
        "a"
      ]
    },
    {
      "cell_type": "code",
      "execution_count": null,
      "metadata": {
        "id": "T_hDKSXa-YDc"
      },
      "outputs": [],
      "source": [
        "# Resta\n",
        "3-5"
      ]
    },
    {
      "cell_type": "code",
      "execution_count": null,
      "metadata": {
        "id": "lXyywKiU-YDc"
      },
      "outputs": [],
      "source": [
        "# Multiplicación \n",
        "4*3*12"
      ]
    },
    {
      "cell_type": "code",
      "execution_count": null,
      "metadata": {
        "id": "OjZDhE5Y-YDd"
      },
      "outputs": [],
      "source": [
        "# División \n",
        "50/5"
      ]
    },
    {
      "cell_type": "code",
      "execution_count": null,
      "metadata": {
        "id": "JBbu1R_i-YDd"
      },
      "outputs": [],
      "source": [
        "# Exponencial\n",
        "2**3"
      ]
    },
    {
      "cell_type": "code",
      "source": [
        "type(8)"
      ],
      "metadata": {
        "id": "0oT8IlhD3LcG"
      },
      "execution_count": null,
      "outputs": []
    },
    {
      "cell_type": "code",
      "execution_count": null,
      "metadata": {
        "id": "5DiiEIZa-YDd"
      },
      "outputs": [],
      "source": [
        "# Piso (la parte entera de la división)\n",
        "250 // 6"
      ]
    },
    {
      "cell_type": "code",
      "execution_count": null,
      "metadata": {
        "id": "IqGUu5yM-YDd"
      },
      "outputs": [],
      "source": [
        "# Módulo (el residuo de la división)\n",
        "250 % 6"
      ]
    },
    {
      "cell_type": "code",
      "execution_count": null,
      "metadata": {
        "id": "hfsh3Abi-YDd"
      },
      "outputs": [],
      "source": [
        "11 % 2"
      ]
    },
    {
      "cell_type": "markdown",
      "metadata": {
        "id": "1XlvVT7n-YDd"
      },
      "source": [
        "En Python puede hacer operaciones combinadas\n"
      ]
    },
    {
      "cell_type": "code",
      "execution_count": null,
      "metadata": {
        "id": "7zzvYMAo-YDd"
      },
      "outputs": [],
      "source": [
        "(11 + 5)//2 + 7 / 6 **2 + 250 % 8"
      ]
    },
    {
      "cell_type": "markdown",
      "metadata": {
        "id": "49w_Ml2D-YDd"
      },
      "source": [
        "Sin embargo, ten en cuenta que existe un orden de evaluación de estos operadores, que corresponden a las reglas matemáticas convencionales. El orden en el que los operadores serán evaluados son:"
      ]
    },
    {
      "cell_type": "markdown",
      "metadata": {
        "id": "OPXlIRDR-YDd"
      },
      "source": [
        "| Operador              | Nombre                                                  |\n",
        "|------------------------|-------------------------------------------------------|\n",
        "| `**`                   | Exponencial                                        |\n",
        "| `*, /, //, %, @`       | multiplicación, división, piso, módulo, at |\n",
        "| `+, -`                 | más, menos                            |\n",
        "| `<, <=, >, >=, !=, ==` | Operadores de comparación                                  |\n",
        "| `not`                   | Booleano NOT                                        |\n",
        "| `and`                   | Booleano AND                                        |\n",
        "| `or`                   | Booleano OR                                        |\n"
      ]
    },
    {
      "cell_type": "code",
      "execution_count": null,
      "metadata": {
        "id": "eN-P0jKf-YDd"
      },
      "outputs": [],
      "source": [
        "(1 + 5//2 + 7) / 6 **2 + 250 % 8"
      ]
    },
    {
      "cell_type": "markdown",
      "metadata": {
        "id": "NS3CamDy-YDe"
      },
      "source": [
        "### Operadores de comparación\n",
        "\n",
        "Los siguientes operadores realizan comparaciones entre valores/variables\n",
        "\n",
        "* `>`     Mayor que\n",
        "* `<`     Menor que\n",
        "* `>=`  Mayor o igual que\n",
        "* `<=`  Menor o igual que\n",
        "* `==`  Igual a\n",
        "* `!=`  No igual a\n",
        "\n",
        "Cuando se comparan estos valores, el resultado será True o False. "
      ]
    },
    {
      "cell_type": "code",
      "execution_count": null,
      "metadata": {
        "id": "sCJUNZg9-YDe"
      },
      "outputs": [],
      "source": [
        "23 > 43"
      ]
    },
    {
      "cell_type": "code",
      "execution_count": null,
      "metadata": {
        "id": "0p9wdBcZ-YDe"
      },
      "outputs": [],
      "source": [
        "2 < 4"
      ]
    },
    {
      "cell_type": "code",
      "execution_count": null,
      "metadata": {
        "id": "8dMdY3g5-YDe"
      },
      "outputs": [],
      "source": [
        "11 >= 11"
      ]
    },
    {
      "cell_type": "code",
      "execution_count": null,
      "metadata": {
        "id": "ccfaPjZU-YDe"
      },
      "outputs": [],
      "source": [
        "32 == 23"
      ]
    },
    {
      "cell_type": "code",
      "execution_count": null,
      "metadata": {
        "id": "JZXQiMZP-YDe"
      },
      "outputs": [],
      "source": [
        "3.14 == 3.1416"
      ]
    },
    {
      "cell_type": "markdown",
      "metadata": {
        "id": "V3VLLiME-YDe"
      },
      "source": [
        "Los operadores aritméticos y de comparación se pueden mezclar!"
      ]
    },
    {
      "cell_type": "code",
      "execution_count": null,
      "metadata": {
        "id": "-UrnVc5G-YDe"
      },
      "outputs": [],
      "source": [
        "5 * 3//2 > 3 **2 - 1"
      ]
    },
    {
      "cell_type": "markdown",
      "metadata": {
        "id": "Vqj0nz5W-YDe"
      },
      "source": [
        "### Operadores lógicos/ booleanos\n",
        "\n",
        "Python usa los siguientes 3 operadores booleanos:\n",
        "* `and`\n",
        "* `or`\n",
        "* `not`\n",
        "\n",
        "Estos operadores evalúan dos expresiones que tienen que devolver True o False"
      ]
    },
    {
      "cell_type": "code",
      "execution_count": null,
      "metadata": {
        "id": "LgY6SK-6-YDf"
      },
      "outputs": [],
      "source": [
        "(5 > 4) and (8 > 6)"
      ]
    },
    {
      "cell_type": "code",
      "execution_count": null,
      "metadata": {
        "id": "9J0_Nq08-YDf"
      },
      "outputs": [],
      "source": [
        "(8 * 5) < 64 and (10 < 7)"
      ]
    },
    {
      "cell_type": "code",
      "execution_count": null,
      "metadata": {
        "id": "lP38bUGE-YDf"
      },
      "outputs": [],
      "source": [
        "(5 > 4) or (8 < 6)"
      ]
    },
    {
      "cell_type": "code",
      "execution_count": null,
      "metadata": {
        "id": "2U_CRew0-YDf"
      },
      "outputs": [],
      "source": [
        "not (8 < 6)"
      ]
    },
    {
      "cell_type": "markdown",
      "metadata": {
        "id": "JsYjjYth-YDf"
      },
      "source": [
        "### Operadores de asignación aumentada\n",
        "\n",
        "Estos operadores se vale del `=` y los operadores aritméticos para reasignar un valor, en base a un valor base. Estos son: \n",
        "\n",
        "- `+=`\n",
        "- `-=`\n",
        "- `*=`\n",
        "- `/=`\n",
        "- `//=`\n",
        "- `%=`\n",
        "- `**=`  \n",
        "\n",
        "Veremos cómo funcionan"
      ]
    },
    {
      "cell_type": "code",
      "execution_count": 13,
      "metadata": {
        "id": "vAwRnJ46-YDf"
      },
      "outputs": [],
      "source": [
        "x = 1"
      ]
    },
    {
      "cell_type": "code",
      "execution_count": null,
      "metadata": {
        "id": "1p7purby-YDf"
      },
      "outputs": [],
      "source": [
        "x += 9 #ya no redefinimos la variable x para evitar poner x=1+9\n",
        "x"
      ]
    },
    {
      "cell_type": "code",
      "execution_count": null,
      "metadata": {
        "id": "II92XiP9-YDf"
      },
      "outputs": [],
      "source": [
        "x -= 9\n",
        "x"
      ]
    },
    {
      "cell_type": "code",
      "execution_count": null,
      "metadata": {
        "id": "9TgrhOew-YDf"
      },
      "outputs": [],
      "source": [
        "x /= 0.2\n",
        "x"
      ]
    },
    {
      "cell_type": "code",
      "execution_count": 14,
      "metadata": {
        "id": "LjUMhDTr-YDf"
      },
      "outputs": [],
      "source": [
        "x = x/0.2"
      ]
    },
    {
      "cell_type": "code",
      "execution_count": null,
      "metadata": {
        "id": "Izx933-8-YDf"
      },
      "outputs": [],
      "source": [
        "x //= 2\n",
        "x"
      ]
    },
    {
      "cell_type": "markdown",
      "metadata": {
        "id": "euToH67x-YDg"
      },
      "source": [
        "[Volver a inicio](#principio)"
      ]
    }
  ],
  "metadata": {
    "kernelspec": {
      "display_name": "Python 3",
      "language": "python",
      "name": "python3"
    },
    "language_info": {
      "codemirror_mode": {
        "name": "ipython",
        "version": 3
      },
      "file_extension": ".py",
      "mimetype": "text/x-python",
      "name": "python",
      "nbconvert_exporter": "python",
      "pygments_lexer": "ipython3",
      "version": "3.8.5"
    },
    "colab": {
      "name": "Tipos_operadores.ipynb",
      "provenance": [],
      "include_colab_link": true
    }
  },
  "nbformat": 4,
  "nbformat_minor": 0
}