{
  "cells": [
    {
      "cell_type": "markdown",
      "metadata": {
        "id": "FdxTz8WC-YDK"
      },
      "source": [
        "# Clase 1: Variables, tipos de datos, operadores y expresiones"
      ]
    },
    {
      "cell_type": "markdown",
      "metadata": {
        "id": "cyxphefH-YDO"
      },
      "source": [
        "<a class=\"anchor\" id=\"principio\"></a>\n",
        "\n",
        "## Introducción"
      ]
    },
    {
      "cell_type": "markdown",
      "metadata": {
        "id": "tHd1HO_6-YDP"
      },
      "source": [
        "En esta primera sesión revisaremos las piezas más pequeñas que conforman un programa. En esencia un programa es una serie de instrucciones que escribimos en un lenguaje determinado para que la máquina nos entienda. \n",
        "Veremos 4 elementos iniciales importantes para poder escribir programas:\n",
        "\n",
        "[1. Variables](#variables)   \n",
        "[2. Tipos de datos](#tipos-de-datos)  \n",
        "[3. Operadores](#operadores)  \n",
        "[4. Expresiones](#expresiones)  "
      ]
    },
    {
      "cell_type": "markdown",
      "metadata": {
        "id": "41ZQvlfq-YDQ"
      },
      "source": [
        "<a class=\"anchor\" id=\"variables\"></a>\n",
        "## 1. Variables"
      ]
    },
    {
      "cell_type": "markdown",
      "metadata": {
        "id": "F2fcbIP_-YDQ"
      },
      "source": [
        "Las variables son todo aquello que definiremos con un nombre, y a lo que nos referiremos después si queremos usarlo. Las variables pueden ser datos, texto, números, pero también cosas más complicadas como funciones, o incluso otros programas. \n",
        "\n",
        "Las variables son, también, un nombre simbólico que representa la ubicación en la memoria de una computadora. "
      ]
    },
    {
      "cell_type": "markdown",
      "metadata": {
        "id": "ujcsqDMd-YDR"
      },
      "source": [
        "Se utiliza el operador = para asignarle el valor a la variable"
      ]
    },
    {
      "cell_type": "code",
      "execution_count": 3,
      "metadata": {
        "id": "B3PRWbsP-YDR",
        "outputId": "64118c9b-96b8-497d-d744-46a05b362fe9",
        "colab": {
          "base_uri": "https://localhost:8080/"
        }
      },
      "outputs": [
        {
          "output_type": "stream",
          "name": "stdout",
          "text": [
            "Buenos días\n"
          ]
        }
      ],
      "source": [
        "bienvenida = \"Buenos días\"\n",
        "print(bienvenida)"
      ]
    },
    {
      "cell_type": "code",
      "execution_count": 7,
      "metadata": {
        "id": "miQPlPhI-YDT",
        "outputId": "f51e2ef8-99d7-4683-d3b6-30b943b959d5",
        "colab": {
          "base_uri": "https://localhost:8080/"
        }
      },
      "outputs": [
        {
          "output_type": "stream",
          "name": "stdout",
          "text": [
            "43\n"
          ]
        }
      ],
      "source": [
        "operacion = 7 + (4 + 5) * 4\n",
        "print(operacion)"
      ]
    },
    {
      "cell_type": "markdown",
      "metadata": {
        "id": "UiyT_GNc-YDU"
      },
      "source": [
        "Se puede reasignar el valor de una variable: "
      ]
    },
    {
      "cell_type": "code",
      "execution_count": 8,
      "metadata": {
        "id": "BfN6E5s9-YDU",
        "outputId": "b765e213-58cc-48ff-8d4d-83f374311568",
        "colab": {
          "base_uri": "https://localhost:8080/"
        }
      },
      "outputs": [
        {
          "output_type": "stream",
          "name": "stdout",
          "text": [
            "8.25\n"
          ]
        }
      ],
      "source": [
        "operacion = 3 + (15 + 6) /4\n",
        "print(operacion)"
      ]
    },
    {
      "cell_type": "markdown",
      "metadata": {
        "id": "rL-bMvM4-YDV"
      },
      "source": [
        "No se puede llamar a una variable no definida!"
      ]
    },
    {
      "cell_type": "code",
      "execution_count": 9,
      "metadata": {
        "id": "9tWQzsbp-YDV",
        "outputId": "0f19a6b9-7609-4be3-c9cb-3eda334498a6",
        "colab": {
          "base_uri": "https://localhost:8080/",
          "height": 166
        }
      },
      "outputs": [
        {
          "output_type": "error",
          "ename": "NameError",
          "evalue": "ignored",
          "traceback": [
            "\u001b[0;31m---------------------------------------------------------------------------\u001b[0m",
            "\u001b[0;31mNameError\u001b[0m                                 Traceback (most recent call last)",
            "\u001b[0;32m<ipython-input-9-f2a851930a89>\u001b[0m in \u001b[0;36m<module>\u001b[0;34m()\u001b[0m\n\u001b[0;32m----> 1\u001b[0;31m \u001b[0mnueva_operacion\u001b[0m\u001b[0;34m\u001b[0m\u001b[0;34m\u001b[0m\u001b[0m\n\u001b[0m",
            "\u001b[0;31mNameError\u001b[0m: name 'nueva_operacion' is not defined"
          ]
        }
      ],
      "source": [
        "nueva_operacion"
      ]
    },
    {
      "cell_type": "markdown",
      "metadata": {
        "id": "h6IEEZ7t-YDV"
      },
      "source": [
        "[Volver a inicio](#principio)"
      ]
    },
    {
      "cell_type": "markdown",
      "metadata": {
        "id": "gsy0OPYz-YDW"
      },
      "source": [
        "<a class=\"anchor\" id=\"tipos-de-datos\"></a>\n",
        "\n",
        "## 2. Tipos de datos"
      ]
    },
    {
      "cell_type": "markdown",
      "metadata": {
        "id": "UVfHdtkt-YDW"
      },
      "source": [
        "Todas las variables de python son de algún (y único) tipo. De los ejemplos anteriores tenemos: "
      ]
    },
    {
      "cell_type": "code",
      "execution_count": 13,
      "metadata": {
        "id": "tvXFL5ev-YDW",
        "outputId": "af54f5ae-6b3d-42b5-f71e-50910ef0ec94",
        "colab": {
          "base_uri": "https://localhost:8080/"
        }
      },
      "outputs": [
        {
          "output_type": "execute_result",
          "data": {
            "text/plain": [
              "str"
            ]
          },
          "metadata": {},
          "execution_count": 13
        }
      ],
      "source": [
        "type(bienvenida)"
      ]
    },
    {
      "cell_type": "code",
      "execution_count": 11,
      "metadata": {
        "id": "CosDeRJo-YDW",
        "outputId": "a72b5988-e2b8-4050-eaa2-a1ee57e4b230",
        "colab": {
          "base_uri": "https://localhost:8080/"
        }
      },
      "outputs": [
        {
          "output_type": "execute_result",
          "data": {
            "text/plain": [
              "float"
            ]
          },
          "metadata": {},
          "execution_count": 11
        }
      ],
      "source": [
        "type(operacion)"
      ]
    },
    {
      "cell_type": "markdown",
      "metadata": {
        "id": "lFnvGHGU-YDW"
      },
      "source": [
        "Los tipos más básicos son: \n",
        "- integers/floats(números)\n",
        "- strings\n",
        "- booleans"
      ]
    },
    {
      "cell_type": "markdown",
      "metadata": {
        "id": "-ezcy-AB-YDX"
      },
      "source": [
        "Los tipos de datos son:  \n",
        "\n",
        "\n",
        "\n",
        "\n",
        "| Tipo              | Nombre                                                  |\n",
        "|------------------------|-------------------------------------------------------|\n",
        "| Texto                   | str                                        |\n",
        "| Números       | integers(int), floats(float), complejos(complex) |\n",
        "| Secuencias                 | listas(list) ,tuplas (tuple), rango(range)                             |\n",
        "| Mapeo | diccionarios (dict)                                  |\n",
        "| Conjuntos                  | conjuntos(set), frozenset                                          |\n",
        "| Booleans                   | bool                                        |\n",
        "| Binarios                   | bytes, bytearray, memoryview                                        |\n",
        "\n"
      ]
    },
    {
      "cell_type": "markdown",
      "metadata": {
        "id": "ChAxPer3-YDX"
      },
      "source": [
        "### Números (Integers y floats)"
      ]
    },
    {
      "cell_type": "code",
      "execution_count": 14,
      "metadata": {
        "id": "FxwPkLV9-YDX",
        "outputId": "2babb18a-ffb6-4fd1-f432-bb5d728609af",
        "colab": {
          "base_uri": "https://localhost:8080/"
        }
      },
      "outputs": [
        {
          "output_type": "execute_result",
          "data": {
            "text/plain": [
              "int"
            ]
          },
          "metadata": {},
          "execution_count": 14
        }
      ],
      "source": [
        "num = 20\n",
        "type(num)"
      ]
    },
    {
      "cell_type": "code",
      "execution_count": 15,
      "metadata": {
        "id": "VxRDp7kJ-YDX",
        "outputId": "d5e209c7-3faa-432c-ffd5-c72964514452",
        "colab": {
          "base_uri": "https://localhost:8080/"
        }
      },
      "outputs": [
        {
          "output_type": "execute_result",
          "data": {
            "text/plain": [
              "float"
            ]
          },
          "metadata": {},
          "execution_count": 15
        }
      ],
      "source": [
        "num = 20.1\n",
        "type(num)"
      ]
    },
    {
      "cell_type": "markdown",
      "metadata": {
        "id": "T5hJGV61-YDX"
      },
      "source": [
        "Los integers almacenan el número exacto asignado. \n",
        "En cambio, los floats almacenan una aproximación de ese número, llamado _punto flotante_. La diferencia entre ambos es la parte decimal."
      ]
    },
    {
      "cell_type": "code",
      "execution_count": 16,
      "metadata": {
        "id": "UCvmRjDm-YDY",
        "outputId": "65336ad0-f7d1-4b3b-9145-0ebfaff473ca",
        "colab": {
          "base_uri": "https://localhost:8080/"
        }
      },
      "outputs": [
        {
          "output_type": "execute_result",
          "data": {
            "text/plain": [
              "float"
            ]
          },
          "metadata": {},
          "execution_count": 16
        }
      ],
      "source": [
        "num = 20.0\n",
        "type(num)\n",
        "\n"
      ]
    },
    {
      "cell_type": "markdown",
      "metadata": {
        "id": "r2Z65R0d-YDY"
      },
      "source": [
        "Python tiene palabras reservadas. No llamar a una variable como un tipo de dato _int_, _str_, _float_. Estos son ejemplos de palabras reservadas en Python que no se deben utilizar como nombres. "
      ]
    },
    {
      "cell_type": "code",
      "execution_count": 17,
      "metadata": {
        "id": "CkNbtDCS-YDY",
        "outputId": "1f680538-47e8-49c0-fd09-c96251612706",
        "colab": {
          "base_uri": "https://localhost:8080/"
        }
      },
      "outputs": [
        {
          "output_type": "stream",
          "name": "stdout",
          "text": [
            "['False', 'None', 'True', 'and', 'as', 'assert', 'async', 'await', 'break', 'class', 'continue', 'def', 'del', 'elif', 'else', 'except', 'finally', 'for', 'from', 'global', 'if', 'import', 'in', 'is', 'lambda', 'nonlocal', 'not', 'or', 'pass', 'raise', 'return', 'try', 'while', 'with', 'yield']\n"
          ]
        }
      ],
      "source": [
        "import keyword\n",
        "print(keyword.kwlist)"
      ]
    },
    {
      "cell_type": "code",
      "execution_count": 18,
      "metadata": {
        "id": "4kPMrqiK-YDY",
        "outputId": "2e67eb9e-80fe-49ed-a3d0-542d8d07b108",
        "colab": {
          "base_uri": "https://localhost:8080/"
        }
      },
      "outputs": [
        {
          "output_type": "execute_result",
          "data": {
            "text/plain": [
              "['ArithmeticError',\n",
              " 'AssertionError',\n",
              " 'AttributeError',\n",
              " 'BaseException',\n",
              " 'BlockingIOError',\n",
              " 'BrokenPipeError',\n",
              " 'BufferError',\n",
              " 'BytesWarning',\n",
              " 'ChildProcessError',\n",
              " 'ConnectionAbortedError',\n",
              " 'ConnectionError',\n",
              " 'ConnectionRefusedError',\n",
              " 'ConnectionResetError',\n",
              " 'DeprecationWarning',\n",
              " 'EOFError',\n",
              " 'Ellipsis',\n",
              " 'EnvironmentError',\n",
              " 'Exception',\n",
              " 'False',\n",
              " 'FileExistsError',\n",
              " 'FileNotFoundError',\n",
              " 'FloatingPointError',\n",
              " 'FutureWarning',\n",
              " 'GeneratorExit',\n",
              " 'IOError',\n",
              " 'ImportError',\n",
              " 'ImportWarning',\n",
              " 'IndentationError',\n",
              " 'IndexError',\n",
              " 'InterruptedError',\n",
              " 'IsADirectoryError',\n",
              " 'KeyError',\n",
              " 'KeyboardInterrupt',\n",
              " 'LookupError',\n",
              " 'MemoryError',\n",
              " 'ModuleNotFoundError',\n",
              " 'NameError',\n",
              " 'None',\n",
              " 'NotADirectoryError',\n",
              " 'NotImplemented',\n",
              " 'NotImplementedError',\n",
              " 'OSError',\n",
              " 'OverflowError',\n",
              " 'PendingDeprecationWarning',\n",
              " 'PermissionError',\n",
              " 'ProcessLookupError',\n",
              " 'RecursionError',\n",
              " 'ReferenceError',\n",
              " 'ResourceWarning',\n",
              " 'RuntimeError',\n",
              " 'RuntimeWarning',\n",
              " 'StopAsyncIteration',\n",
              " 'StopIteration',\n",
              " 'SyntaxError',\n",
              " 'SyntaxWarning',\n",
              " 'SystemError',\n",
              " 'SystemExit',\n",
              " 'TabError',\n",
              " 'TimeoutError',\n",
              " 'True',\n",
              " 'TypeError',\n",
              " 'UnboundLocalError',\n",
              " 'UnicodeDecodeError',\n",
              " 'UnicodeEncodeError',\n",
              " 'UnicodeError',\n",
              " 'UnicodeTranslateError',\n",
              " 'UnicodeWarning',\n",
              " 'UserWarning',\n",
              " 'ValueError',\n",
              " 'Warning',\n",
              " 'ZeroDivisionError',\n",
              " '__IPYTHON__',\n",
              " '__build_class__',\n",
              " '__debug__',\n",
              " '__doc__',\n",
              " '__import__',\n",
              " '__loader__',\n",
              " '__name__',\n",
              " '__package__',\n",
              " '__spec__',\n",
              " 'abs',\n",
              " 'all',\n",
              " 'any',\n",
              " 'ascii',\n",
              " 'bin',\n",
              " 'bool',\n",
              " 'breakpoint',\n",
              " 'bytearray',\n",
              " 'bytes',\n",
              " 'callable',\n",
              " 'chr',\n",
              " 'classmethod',\n",
              " 'compile',\n",
              " 'complex',\n",
              " 'copyright',\n",
              " 'credits',\n",
              " 'delattr',\n",
              " 'dict',\n",
              " 'dir',\n",
              " 'display',\n",
              " 'divmod',\n",
              " 'dreload',\n",
              " 'enumerate',\n",
              " 'eval',\n",
              " 'exec',\n",
              " 'execfile',\n",
              " 'filter',\n",
              " 'float',\n",
              " 'format',\n",
              " 'frozenset',\n",
              " 'get_ipython',\n",
              " 'getattr',\n",
              " 'globals',\n",
              " 'hasattr',\n",
              " 'hash',\n",
              " 'help',\n",
              " 'hex',\n",
              " 'id',\n",
              " 'input',\n",
              " 'int',\n",
              " 'isinstance',\n",
              " 'issubclass',\n",
              " 'iter',\n",
              " 'len',\n",
              " 'license',\n",
              " 'list',\n",
              " 'locals',\n",
              " 'map',\n",
              " 'max',\n",
              " 'memoryview',\n",
              " 'min',\n",
              " 'next',\n",
              " 'object',\n",
              " 'oct',\n",
              " 'open',\n",
              " 'ord',\n",
              " 'pow',\n",
              " 'print',\n",
              " 'property',\n",
              " 'range',\n",
              " 'repr',\n",
              " 'reversed',\n",
              " 'round',\n",
              " 'runfile',\n",
              " 'set',\n",
              " 'setattr',\n",
              " 'slice',\n",
              " 'sorted',\n",
              " 'staticmethod',\n",
              " 'str',\n",
              " 'sum',\n",
              " 'super',\n",
              " 'tuple',\n",
              " 'type',\n",
              " 'vars',\n",
              " 'zip']"
            ]
          },
          "metadata": {},
          "execution_count": 18
        }
      ],
      "source": [
        "import builtins\n",
        "dir(builtins)"
      ]
    },
    {
      "cell_type": "markdown",
      "metadata": {
        "id": "k8JM0qtL-YDY"
      },
      "source": [
        "Tener precaución al hacer que un programa dependa de un _float_, por ejemplo: "
      ]
    },
    {
      "cell_type": "code",
      "execution_count": 19,
      "metadata": {
        "id": "Q8hSuLmn-YDY",
        "outputId": "8fdef8dc-78a4-41af-ef30-b74cc2b1e927",
        "colab": {
          "base_uri": "https://localhost:8080/"
        }
      },
      "outputs": [
        {
          "output_type": "stream",
          "name": "stdout",
          "text": [
            "True si es que pi_exacto == pi manual\n",
            "False si es que pi_exacto == pi aproximado\n",
            "3.141592653589  no es pi!\n"
          ]
        }
      ],
      "source": [
        "import math \n",
        "\n",
        "pi_manual = 3.141592653589793\n",
        "pi_aprox = 3.141592653589\n",
        "\n",
        "print(math.pi == pi_manual, \"si es que pi_exacto == pi manual\")\n",
        "print(math.pi == pi_aprox, \"si es que pi_exacto == pi aproximado\")\n",
        "\n",
        "if pi_aprox == math.pi:\n",
        "    print(pi_aprox,\" sí es pi!\")\n",
        "else:\n",
        "    print(pi_aprox,\" no es pi!\")"
      ]
    },
    {
      "cell_type": "code",
      "execution_count": 20,
      "metadata": {
        "id": "LGm9WdaB-YDZ",
        "outputId": "3527204d-bd9d-4985-b38a-4fc66b60ade3",
        "colab": {
          "base_uri": "https://localhost:8080/"
        }
      },
      "outputs": [
        {
          "output_type": "execute_result",
          "data": {
            "text/plain": [
              "3.141592653589793"
            ]
          },
          "metadata": {},
          "execution_count": 20
        }
      ],
      "source": [
        "math.pi"
      ]
    },
    {
      "cell_type": "markdown",
      "metadata": {
        "id": "22v2G-Ht-YDZ"
      },
      "source": [
        "### Strings"
      ]
    },
    {
      "cell_type": "markdown",
      "metadata": {
        "id": "a7wlE4Jd-YDZ"
      },
      "source": [
        "Hay diferentes formas de crear strings, por ejemplo:"
      ]
    },
    {
      "cell_type": "code",
      "execution_count": 30,
      "metadata": {
        "id": "MnD_e9rf-YDZ",
        "outputId": "7725ffb0-8ee3-4037-f31e-63e459ad08ab",
        "colab": {
          "base_uri": "https://localhost:8080/"
        }
      },
      "outputs": [
        {
          "output_type": "stream",
          "name": "stdout",
          "text": [
            "Yo estudio economía\n"
          ]
        }
      ],
      "source": [
        "mensaje = \"Yo estudio economía\"\n",
        "print(mensaje)"
      ]
    },
    {
      "cell_type": "code",
      "execution_count": 27,
      "metadata": {
        "id": "LItL8Yjy-YDZ",
        "outputId": "3f9d6020-b6e1-4a58-a100-428a665e1d30",
        "colab": {
          "base_uri": "https://localhost:8080/"
        }
      },
      "outputs": [
        {
          "output_type": "stream",
          "name": "stdout",
          "text": [
            "Yo estudio economía\n"
          ]
        }
      ],
      "source": [
        "mensaje = 'Yo estudio economía'\n",
        "print(mensaje)"
      ]
    },
    {
      "cell_type": "code",
      "execution_count": 29,
      "metadata": {
        "id": "izxWwtbl-YDZ",
        "outputId": "f03c96f2-defe-4213-ba28-b7fe24d57666",
        "colab": {
          "base_uri": "https://localhost:8080/"
        }
      },
      "outputs": [
        {
          "output_type": "stream",
          "name": "stdout",
          "text": [
            "¿Prefieres \n",
            "usar Python \n",
            "o Stata?\n"
          ]
        }
      ],
      "source": [
        "pregunta = '''¿Prefieres \n",
        "usar Python \n",
        "o Stata?'''\n",
        "print(pregunta)"
      ]
    },
    {
      "cell_type": "markdown",
      "metadata": {
        "id": "sqaqPo_Z-YDa"
      },
      "source": [
        "### Booleans"
      ]
    },
    {
      "cell_type": "markdown",
      "metadata": {
        "id": "LXxMlSfQ-YDa"
      },
      "source": [
        "Los booleans son variables que simplemente indican Verdadero (True) o Falso (False)"
      ]
    },
    {
      "cell_type": "code",
      "execution_count": 31,
      "metadata": {
        "id": "PFHGkzdH-YDa"
      },
      "outputs": [],
      "source": [
        "la_true = True\n",
        "la_fols = False"
      ]
    },
    {
      "cell_type": "code",
      "execution_count": 32,
      "metadata": {
        "id": "0RYyD_TE-YDa",
        "outputId": "1a572861-fc0f-48ad-daf2-8d01240c4a27",
        "colab": {
          "base_uri": "https://localhost:8080/"
        }
      },
      "outputs": [
        {
          "output_type": "stream",
          "name": "stdout",
          "text": [
            "True\n",
            "False\n"
          ]
        }
      ],
      "source": [
        "print(la_true)\n",
        "print(la_fols)"
      ]
    },
    {
      "cell_type": "markdown",
      "metadata": {
        "id": "r7m_zu8i-YDa"
      },
      "source": [
        "Los booleans se evalúan como 1 (True) y 0 (False), por ello: "
      ]
    },
    {
      "cell_type": "code",
      "execution_count": 33,
      "metadata": {
        "id": "RSESxbVp-YDa",
        "outputId": "e75aab32-4179-45d2-a27a-8ca395e1fead",
        "colab": {
          "base_uri": "https://localhost:8080/"
        }
      },
      "outputs": [
        {
          "output_type": "execute_result",
          "data": {
            "text/plain": [
              "True"
            ]
          },
          "metadata": {},
          "execution_count": 33
        }
      ],
      "source": [
        "la_true > la_fols"
      ]
    },
    {
      "cell_type": "markdown",
      "metadata": {
        "id": "lQc_tB7C-YDa"
      },
      "source": [
        "### el valor `None`"
      ]
    },
    {
      "cell_type": "markdown",
      "metadata": {
        "id": "pjZvJIEf-YDb"
      },
      "source": [
        "Este es un valor especial que se usa cuando queremos definir una variable que aún no tiene un valor, y que usualmente será actualizada luego. Es como una variable vacía"
      ]
    },
    {
      "cell_type": "code",
      "execution_count": 34,
      "metadata": {
        "id": "ckpjwd-o-YDb",
        "outputId": "ab088f6b-ea2a-426f-9e11-03e8f7a776c7",
        "colab": {
          "base_uri": "https://localhost:8080/"
        }
      },
      "outputs": [
        {
          "output_type": "stream",
          "name": "stdout",
          "text": [
            "True\n"
          ]
        }
      ],
      "source": [
        "almuerzo  = None\n",
        "if almuerzo is None:\n",
        "    comer_almuerzo = True\n",
        "print(comer_almuerzo)"
      ]
    },
    {
      "cell_type": "code",
      "execution_count": 35,
      "metadata": {
        "id": "-zwi90Dn-YDb"
      },
      "outputs": [],
      "source": [
        "almuerzo = None\n",
        "if almuerzo == None:\n",
        "    almuerzo = 1"
      ]
    },
    {
      "cell_type": "markdown",
      "metadata": {
        "id": "7JuJJb7n-YDb"
      },
      "source": [
        "#### Consideraciones a tener en cuenta\n",
        "\n",
        "1) Python es sensible a mayúsculas y minúsculas, tengan esto en cuenta cuando nombren a sus variables"
      ]
    },
    {
      "cell_type": "code",
      "execution_count": null,
      "metadata": {
        "id": "DoLiPfmu-YDb"
      },
      "outputs": [],
      "source": [
        "ab = 12\n",
        "AB = 24\n",
        "Ab = 36\n",
        "print(ab + AB + Ab)"
      ]
    },
    {
      "cell_type": "markdown",
      "metadata": {
        "id": "SdoECe39-YDb"
      },
      "source": [
        "2) Hay convenciones para nombrar variables en python. Nosotros usaremos el snake case, o el _minusculas_con_guion_bajo_.      \n",
        "\n",
        "Este es el default para nombrar variables en python.  \n",
        "\n",
        "\n",
        "(Por ejemplo hay otras, como el CamelCase, que es primera letra mayúscula y sin espacios)."
      ]
    },
    {
      "cell_type": "markdown",
      "metadata": {
        "id": "zJYImdDy-YDb"
      },
      "source": [
        "#### 3) Dynamic Typing\n",
        "\n",
        "El lenguaje python es lo que se conoce como tipeado dinámicamente. Es decir, cuando creamos una variable, no hace falta definir de qué tipo es ya que Python _adivina_ a qué tipo corresponde la variable. Asimismo, cuando reemplazamos la variable por otra, este reemplazo puede ser _de otro tipo_. \n",
        "\n",
        "Esto es bueno pero puede crear inconvenientes: \n",
        "\n"
      ]
    },
    {
      "cell_type": "code",
      "execution_count": null,
      "metadata": {
        "id": "D487oKGD-YDb"
      },
      "outputs": [],
      "source": [
        "num_a = 15\n",
        "num_b = 20\n",
        "num_c = num_a + num_b \n",
        "print(\"num_c:\", num_c)\n",
        "num_a = \"ah\"  # Volví a definir num_a, cambié el tipo y sale error\n",
        "num_d = num_a + num_b \n",
        "print(num_d)"
      ]
    },
    {
      "cell_type": "markdown",
      "metadata": {
        "id": "k47ss3DZ-YDc"
      },
      "source": [
        "4) Los strings vienen con métodos adicionales. Por ejemplo los strings vienen con métodos para volverlos mayúscula."
      ]
    },
    {
      "cell_type": "code",
      "execution_count": null,
      "metadata": {
        "id": "hU6FkA4Q-YDc"
      },
      "outputs": [],
      "source": [
        "bienvenida = \"Buenos días con todas y todos\"\n",
        "bienvenida.upper()"
      ]
    },
    {
      "cell_type": "markdown",
      "metadata": {
        "id": "rXk4Y_Fr-YDc"
      },
      "source": [
        "[Volver a inicio](#principio)"
      ]
    },
    {
      "cell_type": "markdown",
      "metadata": {
        "id": "WQ7a4sH8-YDc"
      },
      "source": [
        "En general, los _strings_ vendrán con estos _métodos_ adicionales con los que valen la pena familarizarse"
      ]
    },
    {
      "cell_type": "markdown",
      "metadata": {
        "id": "xA_CB_Y--YDc"
      },
      "source": [
        "<a class=\"anchor\" id=\"operadores\"></a>\n",
        "\n",
        "## 3. Operadores"
      ]
    },
    {
      "cell_type": "markdown",
      "metadata": {
        "id": "-v3jTTY0-YDc"
      },
      "source": [
        "Los operadores nos permitirán hacer justo eso: Operaciones!. Vamos a ver los más importantes:"
      ]
    },
    {
      "cell_type": "markdown",
      "metadata": {
        "id": "sEpsxsAz-YDc"
      },
      "source": [
        "### Operadores aritméticos"
      ]
    },
    {
      "cell_type": "code",
      "execution_count": null,
      "metadata": {
        "id": "Kwrt4RNd-YDc"
      },
      "outputs": [],
      "source": [
        "# Suma\n",
        "a = 4 + 5 + 1000000000000000\n",
        "a"
      ]
    },
    {
      "cell_type": "code",
      "execution_count": null,
      "metadata": {
        "id": "T_hDKSXa-YDc"
      },
      "outputs": [],
      "source": [
        "# Resta\n",
        "20 - 21 "
      ]
    },
    {
      "cell_type": "code",
      "execution_count": null,
      "metadata": {
        "id": "lXyywKiU-YDc"
      },
      "outputs": [],
      "source": [
        "# Multiplicación \n",
        "4*5*686858483"
      ]
    },
    {
      "cell_type": "code",
      "execution_count": null,
      "metadata": {
        "id": "OjZDhE5Y-YDd"
      },
      "outputs": [],
      "source": [
        "# División \n",
        "50/5"
      ]
    },
    {
      "cell_type": "code",
      "execution_count": null,
      "metadata": {
        "id": "JBbu1R_i-YDd"
      },
      "outputs": [],
      "source": [
        "# Exponencial\n",
        "2**3"
      ]
    },
    {
      "cell_type": "code",
      "execution_count": null,
      "metadata": {
        "id": "5DiiEIZa-YDd"
      },
      "outputs": [],
      "source": [
        "# Piso (la parte entera de la división)\n",
        "250 // 6"
      ]
    },
    {
      "cell_type": "code",
      "execution_count": null,
      "metadata": {
        "id": "IqGUu5yM-YDd"
      },
      "outputs": [],
      "source": [
        "# Módulo (el residuo de la división)\n",
        "250 % 6"
      ]
    },
    {
      "cell_type": "code",
      "execution_count": null,
      "metadata": {
        "id": "hfsh3Abi-YDd"
      },
      "outputs": [],
      "source": [
        "11 % 2"
      ]
    },
    {
      "cell_type": "markdown",
      "metadata": {
        "id": "1XlvVT7n-YDd"
      },
      "source": [
        "Python puede mezclar estos operadores!\n"
      ]
    },
    {
      "cell_type": "code",
      "execution_count": null,
      "metadata": {
        "id": "7zzvYMAo-YDd"
      },
      "outputs": [],
      "source": [
        "1 + 5 + 7 / 6 **2 + 250 % 8"
      ]
    },
    {
      "cell_type": "markdown",
      "metadata": {
        "id": "49w_Ml2D-YDd"
      },
      "source": [
        "Sin embargo, ten en cuenta que existe un orden de evaluación de estos operadores, que corresponden a las reglas matemáticas convencionales. El orden en el que los operadores serán evaluados son:"
      ]
    },
    {
      "cell_type": "markdown",
      "metadata": {
        "id": "OPXlIRDR-YDd"
      },
      "source": [
        "| Operador              | Nombre                                                  |\n",
        "|------------------------|-------------------------------------------------------|\n",
        "| `**`                   | Exponencial                                        |\n",
        "| `*, /, //, %, @`       | multiplicación, división, piso, módulo, at |\n",
        "| `+, -`                 | más, menos                            |\n",
        "| `<, <=, >, >=, !=, ==` | Operadores de comparación                                  |\n",
        "| `not`                   | Booleano NOT                                        |\n",
        "| `and`                   | Booleano AND                                        |\n",
        "| `or`                   | Booleano OR                                        |\n"
      ]
    },
    {
      "cell_type": "markdown",
      "metadata": {
        "id": "h-YpWt_E-YDd"
      },
      "source": [
        "Esto hace variar la prioridad del operador. La forma como \"rompemos\" esta prioridad es utilizando paréntesis (). En el ejemplo anterior:  "
      ]
    },
    {
      "cell_type": "code",
      "execution_count": null,
      "metadata": {
        "id": "eN-P0jKf-YDd"
      },
      "outputs": [],
      "source": [
        "(1 + 5 + 7) / 6 **2 + 250 % 8"
      ]
    },
    {
      "cell_type": "code",
      "execution_count": null,
      "metadata": {
        "id": "0_5CzMIb-YDe"
      },
      "outputs": [],
      "source": [
        "(1 + 5 + 7) / 6 **(2 + 250) % 8"
      ]
    },
    {
      "cell_type": "code",
      "execution_count": null,
      "metadata": {
        "id": "BMB5U_bM-YDe"
      },
      "outputs": [],
      "source": [
        "1 + ((5 + 7) / 6 **2) + (250 % 8)"
      ]
    },
    {
      "cell_type": "markdown",
      "metadata": {
        "id": "NS3CamDy-YDe"
      },
      "source": [
        "### Operadores de comparación\n",
        "\n",
        "Los siguientes operadores realizan comparaciones entre valores/variables\n",
        "\n",
        "* `>`     Mayor que\n",
        "* `<`     Menor que\n",
        "* `>=`  Mayor o igual que\n",
        "* `<=`  Menor o igual que\n",
        "* `==`  Igual a\n",
        "* `!=`  No igual a\n",
        "\n",
        "Cuando se comparan estos valores, el resultado será True o False. "
      ]
    },
    {
      "cell_type": "code",
      "execution_count": 48,
      "metadata": {
        "id": "sCJUNZg9-YDe",
        "outputId": "2e7e7f2d-ad67-42fb-f1c8-549ca6d77ae1",
        "colab": {
          "base_uri": "https://localhost:8080/"
        }
      },
      "outputs": [
        {
          "output_type": "execute_result",
          "data": {
            "text/plain": [
              "False"
            ]
          },
          "metadata": {},
          "execution_count": 48
        }
      ],
      "source": [
        "23 > 43"
      ]
    },
    {
      "cell_type": "code",
      "execution_count": 47,
      "metadata": {
        "id": "0p9wdBcZ-YDe",
        "outputId": "e44d5f2f-134f-48b6-da75-edf38bc31903",
        "colab": {
          "base_uri": "https://localhost:8080/"
        }
      },
      "outputs": [
        {
          "output_type": "execute_result",
          "data": {
            "text/plain": [
              "True"
            ]
          },
          "metadata": {},
          "execution_count": 47
        }
      ],
      "source": [
        "2 < 4"
      ]
    },
    {
      "cell_type": "code",
      "execution_count": 49,
      "metadata": {
        "id": "8dMdY3g5-YDe",
        "outputId": "9e9a1652-1a5c-43f3-e1b9-7d379bff646f",
        "colab": {
          "base_uri": "https://localhost:8080/"
        }
      },
      "outputs": [
        {
          "output_type": "execute_result",
          "data": {
            "text/plain": [
              "True"
            ]
          },
          "metadata": {},
          "execution_count": 49
        }
      ],
      "source": [
        "11 >= 11"
      ]
    },
    {
      "cell_type": "code",
      "execution_count": 45,
      "metadata": {
        "id": "ccfaPjZU-YDe",
        "outputId": "e27eb48f-95fc-49bc-e515-05d83db58e02",
        "colab": {
          "base_uri": "https://localhost:8080/"
        }
      },
      "outputs": [
        {
          "output_type": "execute_result",
          "data": {
            "text/plain": [
              "False"
            ]
          },
          "metadata": {},
          "execution_count": 45
        }
      ],
      "source": [
        "32 == 23"
      ]
    },
    {
      "cell_type": "code",
      "execution_count": 43,
      "metadata": {
        "id": "JZXQiMZP-YDe",
        "outputId": "fb9e6340-7a57-4de2-878f-01d92a47da0d",
        "colab": {
          "base_uri": "https://localhost:8080/"
        }
      },
      "outputs": [
        {
          "output_type": "execute_result",
          "data": {
            "text/plain": [
              "False"
            ]
          },
          "metadata": {},
          "execution_count": 43
        }
      ],
      "source": [
        "3.14 == 3.1416"
      ]
    },
    {
      "cell_type": "markdown",
      "metadata": {
        "id": "V3VLLiME-YDe"
      },
      "source": [
        "Los operadores aritméticos y de comparación se pueden mezclar!"
      ]
    },
    {
      "cell_type": "code",
      "execution_count": 52,
      "metadata": {
        "id": "-UrnVc5G-YDe",
        "outputId": "79f61c50-ff92-4be8-f892-ac5d944b52c5",
        "colab": {
          "base_uri": "https://localhost:8080/"
        }
      },
      "outputs": [
        {
          "output_type": "execute_result",
          "data": {
            "text/plain": [
              "True"
            ]
          },
          "metadata": {},
          "execution_count": 52
        }
      ],
      "source": [
        "5 * 3 > 3 *2 - 1"
      ]
    },
    {
      "cell_type": "markdown",
      "metadata": {
        "id": "Vqj0nz5W-YDe"
      },
      "source": [
        "### Operadores lógicos/ booleanos\n",
        "\n",
        "Python usa los siguientes 3 operadores booleanos:\n",
        "* `and`\n",
        "* `or`\n",
        "* `not`\n",
        "\n",
        "Estos operadores evalúan dos expresiones que tienen que devolver True o False"
      ]
    },
    {
      "cell_type": "code",
      "execution_count": 53,
      "metadata": {
        "id": "LgY6SK-6-YDf",
        "outputId": "1211040a-a380-4e33-dcaf-e57632e7d377",
        "colab": {
          "base_uri": "https://localhost:8080/"
        }
      },
      "outputs": [
        {
          "output_type": "execute_result",
          "data": {
            "text/plain": [
              "True"
            ]
          },
          "metadata": {},
          "execution_count": 53
        }
      ],
      "source": [
        "(5 > 4) and (8 > 6)"
      ]
    },
    {
      "cell_type": "code",
      "execution_count": 54,
      "metadata": {
        "id": "9J0_Nq08-YDf",
        "outputId": "d7a93a3e-2fd2-4486-f365-6de97d6710df",
        "colab": {
          "base_uri": "https://localhost:8080/"
        }
      },
      "outputs": [
        {
          "output_type": "execute_result",
          "data": {
            "text/plain": [
              "False"
            ]
          },
          "metadata": {},
          "execution_count": 54
        }
      ],
      "source": [
        "(8 * 5) < 64 and (10 < 7)"
      ]
    },
    {
      "cell_type": "code",
      "execution_count": 55,
      "metadata": {
        "id": "lP38bUGE-YDf",
        "outputId": "76da77d2-cd17-46a7-b3de-831f4f306d86",
        "colab": {
          "base_uri": "https://localhost:8080/"
        }
      },
      "outputs": [
        {
          "output_type": "execute_result",
          "data": {
            "text/plain": [
              "True"
            ]
          },
          "metadata": {},
          "execution_count": 55
        }
      ],
      "source": [
        "(5 > 4) or (8 < 6)"
      ]
    },
    {
      "cell_type": "code",
      "execution_count": 56,
      "metadata": {
        "id": "2U_CRew0-YDf",
        "outputId": "7ea7c8c9-3296-4ce1-c384-3b8d544c69a1",
        "colab": {
          "base_uri": "https://localhost:8080/"
        }
      },
      "outputs": [
        {
          "output_type": "execute_result",
          "data": {
            "text/plain": [
              "True"
            ]
          },
          "metadata": {},
          "execution_count": 56
        }
      ],
      "source": [
        "not (8 < 6)"
      ]
    },
    {
      "cell_type": "markdown",
      "metadata": {
        "id": "JsYjjYth-YDf"
      },
      "source": [
        "### Operadores de asignación aumentada\n",
        "\n",
        "Estos operadores se vale del `=` y los operadores aritméticos para reasignar un valor, en base a un valor base. Estos son: \n",
        "\n",
        "- `+=`\n",
        "- `-=`\n",
        "- `*=`\n",
        "- `/=`\n",
        "- `//=`\n",
        "- `%=`\n",
        "- `**=`  \n",
        "\n",
        "Veremos cómo funcionan"
      ]
    },
    {
      "cell_type": "code",
      "execution_count": 114,
      "metadata": {
        "id": "vAwRnJ46-YDf"
      },
      "outputs": [],
      "source": [
        "x = 1"
      ]
    },
    {
      "cell_type": "code",
      "execution_count": 116,
      "metadata": {
        "id": "1p7purby-YDf",
        "outputId": "a8b149f4-66a4-4c6b-8786-3816ed3b1368",
        "colab": {
          "base_uri": "https://localhost:8080/"
        }
      },
      "outputs": [
        {
          "output_type": "execute_result",
          "data": {
            "text/plain": [
              "19"
            ]
          },
          "metadata": {},
          "execution_count": 116
        }
      ],
      "source": [
        "x += 9 \n",
        "x"
      ]
    },
    {
      "cell_type": "code",
      "execution_count": 117,
      "metadata": {
        "id": "II92XiP9-YDf",
        "outputId": "9c5118e4-a922-4c4e-8d1b-b2b4bd7e92c3",
        "colab": {
          "base_uri": "https://localhost:8080/"
        }
      },
      "outputs": [
        {
          "output_type": "execute_result",
          "data": {
            "text/plain": [
              "10"
            ]
          },
          "metadata": {},
          "execution_count": 117
        }
      ],
      "source": [
        "x -= 9\n",
        "x"
      ]
    },
    {
      "cell_type": "code",
      "execution_count": 118,
      "metadata": {
        "id": "9TgrhOew-YDf",
        "outputId": "e099a50a-6dfb-460c-8ff8-69091b0dc3f5",
        "colab": {
          "base_uri": "https://localhost:8080/"
        }
      },
      "outputs": [
        {
          "output_type": "execute_result",
          "data": {
            "text/plain": [
              "50.0"
            ]
          },
          "metadata": {},
          "execution_count": 118
        }
      ],
      "source": [
        "x /= 0.2\n",
        "x"
      ]
    },
    {
      "cell_type": "code",
      "execution_count": 119,
      "metadata": {
        "id": "LjUMhDTr-YDf"
      },
      "outputs": [],
      "source": [
        "x = x/0.2"
      ]
    },
    {
      "cell_type": "code",
      "execution_count": 120,
      "metadata": {
        "id": "Izx933-8-YDf",
        "outputId": "93681f73-66cf-432d-ceb2-93df889ec99a",
        "colab": {
          "base_uri": "https://localhost:8080/"
        }
      },
      "outputs": [
        {
          "output_type": "execute_result",
          "data": {
            "text/plain": [
              "125.0"
            ]
          },
          "metadata": {},
          "execution_count": 120
        }
      ],
      "source": [
        "x //= 2\n",
        "x"
      ]
    },
    {
      "cell_type": "code",
      "execution_count": 121,
      "metadata": {
        "id": "SqVg_kpV-YDf",
        "outputId": "b75a5851-2ec9-479e-f9b1-209d480ba5c7",
        "colab": {
          "base_uri": "https://localhost:8080/"
        }
      },
      "outputs": [
        {
          "output_type": "execute_result",
          "data": {
            "text/plain": [
              "1"
            ]
          },
          "metadata": {},
          "execution_count": 121
        }
      ],
      "source": [
        "y  = 10\n",
        "y %= 3\n",
        "y"
      ]
    },
    {
      "cell_type": "code",
      "execution_count": 122,
      "metadata": {
        "id": "AeD85Ny1-YDg",
        "outputId": "3dea153b-47eb-41f8-a598-066fd3879fd3",
        "colab": {
          "base_uri": "https://localhost:8080/"
        }
      },
      "outputs": [
        {
          "output_type": "execute_result",
          "data": {
            "text/plain": [
              "8"
            ]
          },
          "metadata": {},
          "execution_count": 122
        }
      ],
      "source": [
        "z = 2\n",
        "z **= 3\n",
        "z"
      ]
    },
    {
      "cell_type": "markdown",
      "metadata": {
        "id": "euToH67x-YDg"
      },
      "source": [
        "[Volver a inicio](#principio)"
      ]
    },
    {
      "cell_type": "code",
      "execution_count": null,
      "metadata": {
        "id": "DePi5dPp-YDh"
      },
      "outputs": [],
      "source": [
        ""
      ]
    }
  ],
  "metadata": {
    "kernelspec": {
      "display_name": "Python 3",
      "language": "python",
      "name": "python3"
    },
    "language_info": {
      "codemirror_mode": {
        "name": "ipython",
        "version": 3
      },
      "file_extension": ".py",
      "mimetype": "text/x-python",
      "name": "python",
      "nbconvert_exporter": "python",
      "pygments_lexer": "ipython3",
      "version": "3.8.5"
    },
    "colab": {
      "name": "tipos_operadores.ipynb",
      "provenance": []
    }
  },
  "nbformat": 4,
  "nbformat_minor": 0
}