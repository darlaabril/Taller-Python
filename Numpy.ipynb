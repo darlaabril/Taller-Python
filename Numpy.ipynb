{
  "nbformat": 4,
  "nbformat_minor": 0,
  "metadata": {
    "colab": {
      "provenance": [],
      "include_colab_link": true
    },
    "kernelspec": {
      "name": "python3",
      "display_name": "Python 3"
    },
    "language_info": {
      "name": "python"
    }
  },
  "cells": [
    {
      "cell_type": "markdown",
      "metadata": {
        "id": "view-in-github",
        "colab_type": "text"
      },
      "source": [
        "<a href=\"https://colab.research.google.com/github/darlaabril/Taller-Python/blob/main/Numpy.ipynb\" target=\"_parent\"><img src=\"https://colab.research.google.com/assets/colab-badge.svg\" alt=\"Open In Colab\"/></a>"
      ]
    },
    {
      "cell_type": "markdown",
      "source": [
        "# Numpy\n",
        "\n",
        "\n"
      ],
      "metadata": {
        "id": "HuTK1ONzhUA7"
      }
    },
    {
      "cell_type": "markdown",
      "source": [
        "Numpy y sus aplicaciones"
      ],
      "metadata": {
        "id": "y4v-Zdd9NCL6"
      }
    },
    {
      "cell_type": "code",
      "source": [
        "#Una diferencia importante entre NumPy y List es que NumPy es más rapida de leer\n",
        "#Algunas aplicaciones de NumPy son las Funciones matemáticas y manejo de arrays"
      ],
      "metadata": {
        "id": "zwR4HxwwMo94"
      },
      "execution_count": null,
      "outputs": []
    },
    {
      "cell_type": "markdown",
      "source": [
        "Instalar Numpy\n"
      ],
      "metadata": {
        "id": "-f8lMYQGMmcs"
      }
    },
    {
      "cell_type": "code",
      "source": [
        "#No se olviden instalar Numpy antes de usarlo\n",
        "#Instalación:\n",
        "import numpy as np\n",
        "import sys\n"
      ],
      "metadata": {
        "id": "6o9w_Bx6hzjo"
      },
      "execution_count": 2,
      "outputs": []
    },
    {
      "cell_type": "markdown",
      "source": [
        "Creación de arrays, forma, tamaño y tipo de data"
      ],
      "metadata": {
        "id": "meWA2m2GiRc0"
      }
    },
    {
      "cell_type": "code",
      "source": [
        "#Creación de array\n",
        "a=np.array([2,4,8], dtype=\"int\")\n",
        "print(a)"
      ],
      "metadata": {
        "id": "ncuhna8ciUje",
        "colab": {
          "base_uri": "https://localhost:8080/"
        },
        "outputId": "034238e7-4460-431f-ae25-0fe0807feaf2"
      },
      "execution_count": null,
      "outputs": [
        {
          "output_type": "stream",
          "name": "stdout",
          "text": [
            "[2 4 8]\n"
          ]
        }
      ]
    },
    {
      "cell_type": "code",
      "source": [
        "b=np.array([[3,6,9],[1,3,5]])\n",
        "print(b)"
      ],
      "metadata": {
        "id": "2OPIOm2szi8b",
        "colab": {
          "base_uri": "https://localhost:8080/"
        },
        "outputId": "d80bcb00-40f7-413d-b159-acade114ca6c"
      },
      "execution_count": null,
      "outputs": [
        {
          "output_type": "stream",
          "name": "stdout",
          "text": [
            "[[3 6 9]\n",
            " [1 3 5]]\n"
          ]
        }
      ]
    },
    {
      "cell_type": "code",
      "source": [
        "#Ver la dimensión\n",
        "b.ndim"
      ],
      "metadata": {
        "id": "L-dMmCMCz4i0",
        "colab": {
          "base_uri": "https://localhost:8080/"
        },
        "outputId": "45500ab5-e260-4c5f-a423-00b4889c54e6"
      },
      "execution_count": null,
      "outputs": [
        {
          "output_type": "execute_result",
          "data": {
            "text/plain": [
              "2"
            ]
          },
          "metadata": {},
          "execution_count": 4
        }
      ]
    },
    {
      "cell_type": "code",
      "source": [
        "#Ver la forma\n",
        "b.shape"
      ],
      "metadata": {
        "id": "Xz7aKJEU0O8T",
        "colab": {
          "base_uri": "https://localhost:8080/"
        },
        "outputId": "a6bef65f-6e31-4419-8f4b-e8294b2e1497"
      },
      "execution_count": null,
      "outputs": [
        {
          "output_type": "execute_result",
          "data": {
            "text/plain": [
              "(2, 3)"
            ]
          },
          "metadata": {},
          "execution_count": 5
        }
      ]
    },
    {
      "cell_type": "code",
      "source": [
        "#Ver el tipo de data, int16 para valores no tan grandes\n",
        "#Es eficiente especificarlo\n",
        "a.dtype"
      ],
      "metadata": {
        "id": "a4f2Dq1E6OA-",
        "colab": {
          "base_uri": "https://localhost:8080/"
        },
        "outputId": "c91bdabb-f5da-4fe1-87e3-74d8dcfee08d"
      },
      "execution_count": null,
      "outputs": [
        {
          "output_type": "execute_result",
          "data": {
            "text/plain": [
              "dtype('int64')"
            ]
          },
          "metadata": {},
          "execution_count": 7
        }
      ]
    },
    {
      "cell_type": "code",
      "source": [
        "#Ver el tamaño (bytes)\n",
        "a.itemsize"
      ],
      "metadata": {
        "id": "_rVlVl2c6cJ2",
        "colab": {
          "base_uri": "https://localhost:8080/"
        },
        "outputId": "3ddad342-c930-41d8-e8b0-518833b23b61"
      },
      "execution_count": null,
      "outputs": [
        {
          "output_type": "execute_result",
          "data": {
            "text/plain": [
              "8"
            ]
          },
          "metadata": {},
          "execution_count": 8
        }
      ]
    },
    {
      "cell_type": "markdown",
      "source": [
        "Acceder/cambiar elementos específicos, filas, columnas, etc"
      ],
      "metadata": {
        "id": "UbDwrJoE7ywx"
      }
    },
    {
      "cell_type": "code",
      "source": [
        "a=np.array ([ [1,3,5,7,9,11,13 ],[ 2,4,6,8,10,12,14]])\n",
        "print(a)"
      ],
      "metadata": {
        "id": "GHiIVgfP766I",
        "colab": {
          "base_uri": "https://localhost:8080/"
        },
        "outputId": "67835ce0-9db8-4c97-990e-98e8a63b82d8"
      },
      "execution_count": 5,
      "outputs": [
        {
          "output_type": "stream",
          "name": "stdout",
          "text": [
            "[[ 1  3  5  7  9 11 13]\n",
            " [ 2  4  6  8 10 12 14]]\n"
          ]
        }
      ]
    },
    {
      "cell_type": "code",
      "source": [
        " #Elemento especifico [fila, columna]\n",
        " a[1,5]"
      ],
      "metadata": {
        "id": "90bfwuxn8aC3",
        "colab": {
          "base_uri": "https://localhost:8080/"
        },
        "outputId": "90485c59-478c-4f7a-9a1b-7857f7fddae4"
      },
      "execution_count": null,
      "outputs": [
        {
          "output_type": "execute_result",
          "data": {
            "text/plain": [
              "12"
            ]
          },
          "metadata": {},
          "execution_count": 10
        }
      ]
    },
    {
      "cell_type": "code",
      "source": [
        "#Fila\n",
        "a[ 0,:]"
      ],
      "metadata": {
        "id": "r9537Xlr9MGT",
        "colab": {
          "base_uri": "https://localhost:8080/"
        },
        "outputId": "877dc65d-71fa-4bd1-b402-cdd114a989c1"
      },
      "execution_count": null,
      "outputs": [
        {
          "output_type": "execute_result",
          "data": {
            "text/plain": [
              "array([ 1,  3,  5,  7,  9, 11, 13])"
            ]
          },
          "metadata": {},
          "execution_count": 11
        }
      ]
    },
    {
      "cell_type": "code",
      "source": [
        "#Columna\n",
        "a[:,2 ]"
      ],
      "metadata": {
        "id": "lMlvhB3C9SXQ",
        "colab": {
          "base_uri": "https://localhost:8080/"
        },
        "outputId": "556d15db-c49d-4f14-c4d8-3038326abd28"
      },
      "execution_count": null,
      "outputs": [
        {
          "output_type": "execute_result",
          "data": {
            "text/plain": [
              "array([5, 6])"
            ]
          },
          "metadata": {},
          "execution_count": 12
        }
      ]
    },
    {
      "cell_type": "code",
      "source": [
        "#Cambiar data\n",
        "a[ 1,5]=40\n",
        "print(a)"
      ],
      "metadata": {
        "id": "QyWgLrCO9qzb",
        "colab": {
          "base_uri": "https://localhost:8080/"
        },
        "outputId": "9e00ea0c-169b-4d5b-addd-0f65ef0d2de1"
      },
      "execution_count": null,
      "outputs": [
        {
          "output_type": "stream",
          "name": "stdout",
          "text": [
            "[[ 1  3  5  7  9 11 13]\n",
            " [ 2  4  6  8 10 40 14]]\n"
          ]
        }
      ]
    },
    {
      "cell_type": "code",
      "source": [
        "b=np.array([[[ 2,4], [ 6,8]], [ [10,12 ],[ 14,16]]])\n",
        "print(b)"
      ],
      "metadata": {
        "id": "1f1PU6RgAY2B",
        "colab": {
          "base_uri": "https://localhost:8080/"
        },
        "outputId": "da443862-6915-46f9-e0de-fc9c4f57fb7a"
      },
      "execution_count": null,
      "outputs": [
        {
          "output_type": "stream",
          "name": "stdout",
          "text": [
            "[[[ 2  4]\n",
            "  [ 6  8]]\n",
            "\n",
            " [[10 12]\n",
            "  [14 16]]]\n"
          ]
        }
      ]
    },
    {
      "cell_type": "code",
      "source": [
        "#[matriz, fila, columna]\n",
        "b[0,1,1]"
      ],
      "metadata": {
        "colab": {
          "base_uri": "https://localhost:8080/"
        },
        "id": "u7WCh0l2sCRA",
        "outputId": "1f29e914-c445-44f6-99af-756c23a1e0a2"
      },
      "execution_count": null,
      "outputs": [
        {
          "output_type": "execute_result",
          "data": {
            "text/plain": [
              "8"
            ]
          },
          "metadata": {},
          "execution_count": 19
        }
      ]
    },
    {
      "cell_type": "code",
      "source": [
        "#Obtener un elemento específico fuera del array\n",
        "#en el siguiente ej no especificamos cual de las 2 matrices por lo que obtendremos 2 filas\n",
        "b[:,1,:]"
      ],
      "metadata": {
        "id": "esn53g3IA8m1",
        "colab": {
          "base_uri": "https://localhost:8080/"
        },
        "outputId": "63de8489-3c23-4edd-ba3e-dcbe5885bb7b"
      },
      "execution_count": null,
      "outputs": [
        {
          "output_type": "execute_result",
          "data": {
            "text/plain": [
              "array([[ 6,  8],\n",
              "       [14, 16]])"
            ]
          },
          "metadata": {},
          "execution_count": 15
        }
      ]
    },
    {
      "cell_type": "code",
      "source": [
        "#reemplazo \n",
        "b[:,1,:]= [[1,1],[2,2]]\n",
        "print(b)"
      ],
      "metadata": {
        "id": "ATvP3S5FBhtt",
        "colab": {
          "base_uri": "https://localhost:8080/"
        },
        "outputId": "b7892044-e720-4c64-afb8-bd34a1c03449"
      },
      "execution_count": null,
      "outputs": [
        {
          "output_type": "stream",
          "name": "stdout",
          "text": [
            "[[[ 2  4]\n",
            "  [ 1  1]]\n",
            "\n",
            " [[10 12]\n",
            "  [ 2  2]]]\n"
          ]
        }
      ]
    },
    {
      "cell_type": "markdown",
      "source": [
        "Inicialización"
      ],
      "metadata": {
        "id": "XWvMHcVDNTSc"
      }
    },
    {
      "cell_type": "code",
      "source": [
        "#Matriz de 0's\n",
        "np.zeros((3,4))"
      ],
      "metadata": {
        "id": "Rxt3snvsNtRO",
        "colab": {
          "base_uri": "https://localhost:8080/"
        },
        "outputId": "f5d91121-250a-48f5-a9dc-25fb6bd7129b"
      },
      "execution_count": null,
      "outputs": [
        {
          "output_type": "execute_result",
          "data": {
            "text/plain": [
              "array([[0., 0., 0., 0.],\n",
              "       [0., 0., 0., 0.],\n",
              "       [0., 0., 0., 0.]])"
            ]
          },
          "metadata": {},
          "execution_count": 21
        }
      ]
    },
    {
      "cell_type": "code",
      "source": [
        "#Matriz de 1's\n",
        "np.ones((4,2,2))"
      ],
      "metadata": {
        "id": "vL9kIh6zOGdA",
        "colab": {
          "base_uri": "https://localhost:8080/"
        },
        "outputId": "1f7f141a-8b0e-4fca-f5cb-5418ee2354cf"
      },
      "execution_count": null,
      "outputs": [
        {
          "output_type": "execute_result",
          "data": {
            "text/plain": [
              "array([[[1., 1.],\n",
              "        [1., 1.]],\n",
              "\n",
              "       [[1., 1.],\n",
              "        [1., 1.]],\n",
              "\n",
              "       [[1., 1.],\n",
              "        [1., 1.]],\n",
              "\n",
              "       [[1., 1.],\n",
              "        [1., 1.]]])"
            ]
          },
          "metadata": {},
          "execution_count": 22
        }
      ]
    },
    {
      "cell_type": "code",
      "source": [
        "#Matriz de n's\n",
        "np.full((2,3),13)"
      ],
      "metadata": {
        "colab": {
          "base_uri": "https://localhost:8080/"
        },
        "id": "YYSqxzevOU2U",
        "outputId": "1966696c-2666-4522-959e-662c8b7fc4b4"
      },
      "execution_count": null,
      "outputs": [
        {
          "output_type": "execute_result",
          "data": {
            "text/plain": [
              "array([[13, 13, 13],\n",
              "       [13, 13, 13]])"
            ]
          },
          "metadata": {},
          "execution_count": 25
        }
      ]
    },
    {
      "cell_type": "code",
      "source": [
        "#Matriz con x forma\n",
        "np.full_like(a,2)"
      ],
      "metadata": {
        "id": "XXvfIBA0OvI2",
        "colab": {
          "base_uri": "https://localhost:8080/"
        },
        "outputId": "2dc60cab-89f4-4c67-c6cd-89cb068859f5"
      },
      "execution_count": null,
      "outputs": [
        {
          "output_type": "execute_result",
          "data": {
            "text/plain": [
              "array([[2, 2, 2, 2, 2, 2, 2],\n",
              "       [2, 2, 2, 2, 2, 2, 2]])"
            ]
          },
          "metadata": {},
          "execution_count": 26
        }
      ]
    },
    {
      "cell_type": "code",
      "source": [
        "#Numeros decimales aleatorios\n",
        "np.random.rand(3,4)"
      ],
      "metadata": {
        "id": "OVyz6mEBO66a",
        "colab": {
          "base_uri": "https://localhost:8080/"
        },
        "outputId": "acd379f4-7927-4c1d-dceb-9474bf7f344d"
      },
      "execution_count": 3,
      "outputs": [
        {
          "output_type": "execute_result",
          "data": {
            "text/plain": [
              "array([[0.69478552, 0.43656425, 0.27858578, 0.48928041],\n",
              "       [0.45815969, 0.85387559, 0.97358014, 0.9661191 ],\n",
              "       [0.04789364, 0.65126972, 0.63635707, 0.74659623]])"
            ]
          },
          "metadata": {},
          "execution_count": 3
        }
      ]
    },
    {
      "cell_type": "code",
      "source": [
        "#Numeros decimales aleatorios como a\n",
        "np.random.random_sample(a.shape)"
      ],
      "metadata": {
        "colab": {
          "base_uri": "https://localhost:8080/"
        },
        "id": "tZF4JanFnBV_",
        "outputId": "32d5af16-5ae4-4ca0-ab76-4d4e7777709e"
      },
      "execution_count": 6,
      "outputs": [
        {
          "output_type": "execute_result",
          "data": {
            "text/plain": [
              "array([[0.35160501, 0.05831643, 0.25373617, 0.17967399, 0.55072633,\n",
              "        0.49271272, 0.41980826],\n",
              "       [0.40124797, 0.84926965, 0.28229872, 0.23047384, 0.84382844,\n",
              "        0.45643541, 0.96481504]])"
            ]
          },
          "metadata": {},
          "execution_count": 6
        }
      ]
    },
    {
      "cell_type": "code",
      "source": [
        "#Numeros enteros aleatorios (Startvalue, shape)\n",
        "np.random.randint(1,9,size=(3,3))"
      ],
      "metadata": {
        "id": "XQ6r3J4gPntM",
        "colab": {
          "base_uri": "https://localhost:8080/"
        },
        "outputId": "3a7da8a5-c506-4b40-e123-b94ee033a6c1"
      },
      "execution_count": null,
      "outputs": [
        {
          "output_type": "execute_result",
          "data": {
            "text/plain": [
              "array([[1, 8, 4],\n",
              "       [8, 1, 1],\n",
              "       [1, 7, 3]])"
            ]
          },
          "metadata": {},
          "execution_count": 29
        }
      ]
    },
    {
      "cell_type": "code",
      "source": [
        "#Matriz de identidad\n",
        "np.identity(4)"
      ],
      "metadata": {
        "id": "d-UiN_SfQPJp",
        "colab": {
          "base_uri": "https://localhost:8080/"
        },
        "outputId": "f1ed2073-7be8-45f6-95b9-937df36c6c66"
      },
      "execution_count": null,
      "outputs": [
        {
          "output_type": "execute_result",
          "data": {
            "text/plain": [
              "array([[1., 0., 0., 0.],\n",
              "       [0., 1., 0., 0.],\n",
              "       [0., 0., 1., 0.],\n",
              "       [0., 0., 0., 1.]])"
            ]
          },
          "metadata": {},
          "execution_count": 30
        }
      ]
    },
    {
      "cell_type": "code",
      "source": [
        "#Repetir un array\n",
        "arr=np.array([[2,4,6]])\n",
        "rl=np.repeat(arr,3,axis=0)\n",
        "print(rl)"
      ],
      "metadata": {
        "id": "KqQNTMgnQlUI",
        "colab": {
          "base_uri": "https://localhost:8080/"
        },
        "outputId": "c37f56c9-cc6e-46ea-8b38-a5b204d7b2bf"
      },
      "execution_count": null,
      "outputs": [
        {
          "output_type": "stream",
          "name": "stdout",
          "text": [
            "[[2 4 6]\n",
            " [2 4 6]\n",
            " [2 4 6]]\n"
          ]
        }
      ]
    },
    {
      "cell_type": "code",
      "source": [
        "#Modificar array\n",
        "x=np.array([2, 4, 6])\n",
        "y=x\n",
        "y [0]=40\n",
        "print(x)"
      ],
      "metadata": {
        "id": "v30I-hjyR223",
        "colab": {
          "base_uri": "https://localhost:8080/"
        },
        "outputId": "2e415ae1-5673-42cf-d4cf-c6506c06c22b"
      },
      "execution_count": null,
      "outputs": [
        {
          "output_type": "stream",
          "name": "stdout",
          "text": [
            "[40  4  6]\n"
          ]
        }
      ]
    },
    {
      "cell_type": "markdown",
      "source": [
        "Matemática básica"
      ],
      "metadata": {
        "id": "f9ENpwHTNWXU"
      }
    },
    {
      "cell_type": "code",
      "source": [
        "a=np.array([40, 4,  6])\n",
        "print(a)"
      ],
      "metadata": {
        "id": "-MOu9Y6ZSO67",
        "colab": {
          "base_uri": "https://localhost:8080/"
        },
        "outputId": "9f5acad6-3dca-4d6b-ba7e-429e809eaea3"
      },
      "execution_count": null,
      "outputs": [
        {
          "output_type": "stream",
          "name": "stdout",
          "text": [
            "[40  4  6]\n"
          ]
        }
      ]
    },
    {
      "cell_type": "code",
      "source": [
        "a+2"
      ],
      "metadata": {
        "id": "LhyJodftSePV",
        "colab": {
          "base_uri": "https://localhost:8080/"
        },
        "outputId": "3b37e058-53d0-4740-d109-6cd7045a43a1"
      },
      "execution_count": null,
      "outputs": [
        {
          "output_type": "execute_result",
          "data": {
            "text/plain": [
              "array([42,  6,  8])"
            ]
          },
          "metadata": {},
          "execution_count": 37
        }
      ]
    },
    {
      "cell_type": "code",
      "source": [
        "a-2"
      ],
      "metadata": {
        "id": "U_fm9ZwGSnRV",
        "colab": {
          "base_uri": "https://localhost:8080/"
        },
        "outputId": "2f9ac44d-5c18-46c2-8163-ec059fbf213b"
      },
      "execution_count": null,
      "outputs": [
        {
          "output_type": "execute_result",
          "data": {
            "text/plain": [
              "array([38,  2,  4])"
            ]
          },
          "metadata": {},
          "execution_count": 38
        }
      ]
    },
    {
      "cell_type": "code",
      "source": [
        "a*2"
      ],
      "metadata": {
        "id": "6YuqvJ8ySo1H",
        "colab": {
          "base_uri": "https://localhost:8080/"
        },
        "outputId": "b35707b3-9064-4525-e905-4ebed949c0c2"
      },
      "execution_count": null,
      "outputs": [
        {
          "output_type": "execute_result",
          "data": {
            "text/plain": [
              "array([80,  8, 12])"
            ]
          },
          "metadata": {},
          "execution_count": 39
        }
      ]
    },
    {
      "cell_type": "code",
      "source": [
        "a/2"
      ],
      "metadata": {
        "id": "oMiVg4CPSpv1",
        "colab": {
          "base_uri": "https://localhost:8080/"
        },
        "outputId": "0bb0dce4-d89a-4049-edc5-8d1869e1ae9f"
      },
      "execution_count": null,
      "outputs": [
        {
          "output_type": "execute_result",
          "data": {
            "text/plain": [
              "array([20.,  2.,  3.])"
            ]
          },
          "metadata": {},
          "execution_count": 40
        }
      ]
    },
    {
      "cell_type": "code",
      "source": [
        "b=np.array([10,  2,  3])\n",
        "a+b"
      ],
      "metadata": {
        "id": "4O_u8EQASy7g",
        "colab": {
          "base_uri": "https://localhost:8080/"
        },
        "outputId": "b3881107-c2f5-49db-d667-83f6361da51f"
      },
      "execution_count": null,
      "outputs": [
        {
          "output_type": "execute_result",
          "data": {
            "text/plain": [
              "array([50,  6,  9])"
            ]
          },
          "metadata": {},
          "execution_count": 41
        }
      ]
    },
    {
      "cell_type": "markdown",
      "source": [
        "Reorganizar matrices"
      ],
      "metadata": {
        "id": "ku2EXpZXNi2B"
      }
    },
    {
      "cell_type": "code",
      "source": [
        "#Apilar vectores: forma vertical\n",
        "v1=np.array([1,  2,  3])\n",
        "v2=np.array([4,5,6])\n",
        "np.vstack([v1,v2])"
      ],
      "metadata": {
        "id": "Iyyn5YvWT0wY",
        "colab": {
          "base_uri": "https://localhost:8080/"
        },
        "outputId": "3fe43ded-e316-424b-fa65-55b7acd5fae0"
      },
      "execution_count": null,
      "outputs": [
        {
          "output_type": "execute_result",
          "data": {
            "text/plain": [
              "array([[1, 2, 3],\n",
              "       [4, 5, 6]])"
            ]
          },
          "metadata": {},
          "execution_count": 42
        }
      ]
    },
    {
      "cell_type": "code",
      "source": [
        "#Apilar vectores: forma horizontal\n",
        "h1=np.array([1,  2,  3])\n",
        "h2=np.array([4,5,6])\n",
        "np.hstack([h1,h2])"
      ],
      "metadata": {
        "id": "_hnAZ_V5ULlY",
        "colab": {
          "base_uri": "https://localhost:8080/"
        },
        "outputId": "1ad761b3-494b-4c8e-aefa-6ff88f95e05c"
      },
      "execution_count": null,
      "outputs": [
        {
          "output_type": "execute_result",
          "data": {
            "text/plain": [
              "array([1, 2, 3, 4, 5, 6])"
            ]
          },
          "metadata": {},
          "execution_count": 43
        }
      ]
    }
  ]
}