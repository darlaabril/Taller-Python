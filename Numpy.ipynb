{
  "nbformat": 4,
  "nbformat_minor": 0,
  "metadata": {
    "colab": {
      "name": "Numpy.ipynb",
      "provenance": [],
      "collapsed_sections": [],
      "include_colab_link": true
    },
    "kernelspec": {
      "name": "python3",
      "display_name": "Python 3"
    },
    "language_info": {
      "name": "python"
    }
  },
  "cells": [
    {
      "cell_type": "markdown",
      "metadata": {
        "id": "view-in-github",
        "colab_type": "text"
      },
      "source": [
        "<a href=\"https://colab.research.google.com/github/darlaabril/Taller-Python/blob/main/Numpy.ipynb\" target=\"_parent\"><img src=\"https://colab.research.google.com/assets/colab-badge.svg\" alt=\"Open In Colab\"/></a>"
      ]
    },
    {
      "cell_type": "code",
      "source": [
        ""
      ],
      "metadata": {
        "id": "huYVEz8glD-f"
      },
      "execution_count": null,
      "outputs": []
    },
    {
      "cell_type": "markdown",
      "source": [
        "#**❋✧Numpy✧❋**\n",
        "\n",
        "\n"
      ],
      "metadata": {
        "id": "HuTK1ONzhUA7"
      }
    },
    {
      "cell_type": "markdown",
      "source": [
        "Numpy y sus aplicaciones"
      ],
      "metadata": {
        "id": "y4v-Zdd9NCL6"
      }
    },
    {
      "cell_type": "code",
      "source": [
        "#Una diferencia importante entre NumPy y List es que NumPy es más rapida de leer\n",
        "#Algunas aplicaciones de NumPy son las Funciones matemáticas y manejo de arrays"
      ],
      "metadata": {
        "id": "zwR4HxwwMo94"
      },
      "execution_count": null,
      "outputs": []
    },
    {
      "cell_type": "markdown",
      "source": [
        "Instalar Numpy\n"
      ],
      "metadata": {
        "id": "-f8lMYQGMmcs"
      }
    },
    {
      "cell_type": "code",
      "source": [
        "#No se olviden instalar Numpy antes de usarlo\n",
        "#Instalación:\n",
        "import numpy as np\n",
        "import sys\n"
      ],
      "metadata": {
        "id": "6o9w_Bx6hzjo"
      },
      "execution_count": null,
      "outputs": []
    },
    {
      "cell_type": "markdown",
      "source": [
        "Creación de arrays, forma, tamaño y tipo de data"
      ],
      "metadata": {
        "id": "meWA2m2GiRc0"
      }
    },
    {
      "cell_type": "code",
      "source": [
        "#Creación de array\n",
        "a=np.array([2,4,8], dtype=\"int16\")\n",
        "print(a)"
      ],
      "metadata": {
        "colab": {
          "base_uri": "https://localhost:8080/"
        },
        "id": "ncuhna8ciUje",
        "outputId": "3bb627e2-a68a-4e32-c88d-ff6e69c19ed6"
      },
      "execution_count": null,
      "outputs": [
        {
          "output_type": "stream",
          "name": "stdout",
          "text": [
            "[2 4 8]\n"
          ]
        }
      ]
    },
    {
      "cell_type": "code",
      "source": [
        "b=np.array([[3,6,9],[1,3,5]])\n",
        "print(b)"
      ],
      "metadata": {
        "colab": {
          "base_uri": "https://localhost:8080/"
        },
        "id": "2OPIOm2szi8b",
        "outputId": "3539a711-747b-4490-da42-14b241decf24"
      },
      "execution_count": null,
      "outputs": [
        {
          "output_type": "stream",
          "name": "stdout",
          "text": [
            "[[3 6 9]\n",
            " [1 3 5]]\n"
          ]
        }
      ]
    },
    {
      "cell_type": "code",
      "source": [
        "#Ver la dimensión\n",
        "b.ndim"
      ],
      "metadata": {
        "colab": {
          "base_uri": "https://localhost:8080/"
        },
        "id": "L-dMmCMCz4i0",
        "outputId": "07ecc944-f889-4cf5-973b-d2751bb42f31"
      },
      "execution_count": null,
      "outputs": [
        {
          "output_type": "execute_result",
          "data": {
            "text/plain": [
              "2"
            ]
          },
          "metadata": {},
          "execution_count": 8
        }
      ]
    },
    {
      "cell_type": "code",
      "source": [
        "#Ver la forma\n",
        "b.shape"
      ],
      "metadata": {
        "colab": {
          "base_uri": "https://localhost:8080/"
        },
        "id": "Xz7aKJEU0O8T",
        "outputId": "c95d1d7a-5b24-4796-db85-82403fc01f10"
      },
      "execution_count": null,
      "outputs": [
        {
          "output_type": "execute_result",
          "data": {
            "text/plain": [
              "(2, 3)"
            ]
          },
          "metadata": {},
          "execution_count": 10
        }
      ]
    },
    {
      "cell_type": "code",
      "source": [
        "#Ver el tipo de data, int16 para valores no tan grandes\n",
        "#Es eficiente especificarlo\n",
        "a.dtype"
      ],
      "metadata": {
        "colab": {
          "base_uri": "https://localhost:8080/"
        },
        "id": "a4f2Dq1E6OA-",
        "outputId": "57646e4e-2ffa-4bda-d654-ec2d712b2ebb"
      },
      "execution_count": null,
      "outputs": [
        {
          "output_type": "execute_result",
          "data": {
            "text/plain": [
              "dtype('int16')"
            ]
          },
          "metadata": {},
          "execution_count": 19
        }
      ]
    },
    {
      "cell_type": "code",
      "source": [
        "#Ver el tamaño (bytes)\n",
        "a.itemsize"
      ],
      "metadata": {
        "colab": {
          "base_uri": "https://localhost:8080/"
        },
        "id": "_rVlVl2c6cJ2",
        "outputId": "c895fa11-568e-49ec-c005-30731e0ea166"
      },
      "execution_count": null,
      "outputs": [
        {
          "output_type": "execute_result",
          "data": {
            "text/plain": [
              "2"
            ]
          },
          "metadata": {},
          "execution_count": 20
        }
      ]
    },
    {
      "cell_type": "markdown",
      "source": [
        "Acceder/cambiar elementos específicos, filas, columnas, etc"
      ],
      "metadata": {
        "id": "UbDwrJoE7ywx"
      }
    },
    {
      "cell_type": "code",
      "source": [
        "a=np.array ([ [1,3,5,7,9,11,13 ],[ 2,4,6,8,10,12,14]])\n",
        "print(a)"
      ],
      "metadata": {
        "colab": {
          "base_uri": "https://localhost:8080/"
        },
        "id": "GHiIVgfP766I",
        "outputId": "5374caf8-6efa-4567-b988-30ef99f763e1"
      },
      "execution_count": null,
      "outputs": [
        {
          "output_type": "stream",
          "name": "stdout",
          "text": [
            "[[ 1  3  5  7  9 11 13]\n",
            " [ 2  4  6  8 10 12 14]]\n"
          ]
        }
      ]
    },
    {
      "cell_type": "code",
      "source": [
        " #Elemento especifico [fila, columna]\n",
        " a[1,5]"
      ],
      "metadata": {
        "colab": {
          "base_uri": "https://localhost:8080/"
        },
        "id": "90bfwuxn8aC3",
        "outputId": "1533bdd9-566a-496c-d051-fb5988aedf98"
      },
      "execution_count": null,
      "outputs": [
        {
          "output_type": "execute_result",
          "data": {
            "text/plain": [
              "12"
            ]
          },
          "metadata": {},
          "execution_count": 32
        }
      ]
    },
    {
      "cell_type": "code",
      "source": [
        "#Fila\n",
        "a[ 0,:]"
      ],
      "metadata": {
        "colab": {
          "base_uri": "https://localhost:8080/"
        },
        "id": "r9537Xlr9MGT",
        "outputId": "eddeb1f8-fd60-421a-addd-69538083dfa9"
      },
      "execution_count": null,
      "outputs": [
        {
          "output_type": "execute_result",
          "data": {
            "text/plain": [
              "array([ 1,  3,  5,  7,  9, 11, 13])"
            ]
          },
          "metadata": {},
          "execution_count": 33
        }
      ]
    },
    {
      "cell_type": "code",
      "source": [
        "#Columna\n",
        "a[:,2 ]"
      ],
      "metadata": {
        "colab": {
          "base_uri": "https://localhost:8080/"
        },
        "id": "lMlvhB3C9SXQ",
        "outputId": "cceeaab6-d18c-43fb-ca22-e0e31b4df1c5"
      },
      "execution_count": null,
      "outputs": [
        {
          "output_type": "execute_result",
          "data": {
            "text/plain": [
              "array([5, 6])"
            ]
          },
          "metadata": {},
          "execution_count": 34
        }
      ]
    },
    {
      "cell_type": "code",
      "source": [
        "#Cambiar data\n",
        "a[ 1,5]=40\n",
        "print(a)"
      ],
      "metadata": {
        "colab": {
          "base_uri": "https://localhost:8080/"
        },
        "id": "QyWgLrCO9qzb",
        "outputId": "c863bd69-ee31-4e6c-a823-c81c0121734c"
      },
      "execution_count": null,
      "outputs": [
        {
          "output_type": "stream",
          "name": "stdout",
          "text": [
            "[[ 1  3  5  7  9 11 13]\n",
            " [ 2  4  6  8 10 40 14]]\n"
          ]
        }
      ]
    },
    {
      "cell_type": "code",
      "source": [
        "b=np.array([[[ 2,4], [ 6,8]], [ [10,12 ],[ 14,16]]])\n",
        "print(b)"
      ],
      "metadata": {
        "colab": {
          "base_uri": "https://localhost:8080/"
        },
        "id": "1f1PU6RgAY2B",
        "outputId": "75e59e3e-3700-4c8f-930e-bbd2dd0954cb"
      },
      "execution_count": null,
      "outputs": [
        {
          "output_type": "stream",
          "name": "stdout",
          "text": [
            "[[[ 2  4]\n",
            "  [ 6  8]]\n",
            "\n",
            " [[10 12]\n",
            "  [14 16]]]\n"
          ]
        }
      ]
    },
    {
      "cell_type": "code",
      "source": [
        "#Obtener un elemento específico fuera del array\n",
        "#en el siguiente ej no especificamos cual de las 2 matrices por lo que obtendremos 2 filas\n",
        "b[:,1,:]"
      ],
      "metadata": {
        "colab": {
          "base_uri": "https://localhost:8080/"
        },
        "id": "esn53g3IA8m1",
        "outputId": "281983d7-c99e-40e5-b229-72be57671216"
      },
      "execution_count": null,
      "outputs": [
        {
          "output_type": "execute_result",
          "data": {
            "text/plain": [
              "array([[ 6,  8],\n",
              "       [14, 16]])"
            ]
          },
          "metadata": {},
          "execution_count": 44
        }
      ]
    },
    {
      "cell_type": "code",
      "source": [
        "#reemplazo \n",
        "b[:,1,:]= [[1,1],[2,2]]\n",
        "print(b)"
      ],
      "metadata": {
        "colab": {
          "base_uri": "https://localhost:8080/"
        },
        "id": "ATvP3S5FBhtt",
        "outputId": "c7e62a81-9a1d-4842-efcb-deeadddf956b"
      },
      "execution_count": null,
      "outputs": [
        {
          "output_type": "stream",
          "name": "stdout",
          "text": [
            "[[[ 2  4]\n",
            "  [ 1  1]]\n",
            "\n",
            " [[10 12]\n",
            "  [ 2  2]]]\n"
          ]
        }
      ]
    },
    {
      "cell_type": "markdown",
      "source": [
        "Inicialización"
      ],
      "metadata": {
        "id": "XWvMHcVDNTSc"
      }
    },
    {
      "cell_type": "code",
      "source": [
        "#Matriz de 0's\n",
        "np.zeros((3,4))"
      ],
      "metadata": {
        "colab": {
          "base_uri": "https://localhost:8080/"
        },
        "id": "Rxt3snvsNtRO",
        "outputId": "4cbe775a-b666-48da-a02d-07bbcbc3248f"
      },
      "execution_count": null,
      "outputs": [
        {
          "output_type": "execute_result",
          "data": {
            "text/plain": [
              "array([[0., 0., 0., 0.],\n",
              "       [0., 0., 0., 0.],\n",
              "       [0., 0., 0., 0.]])"
            ]
          },
          "metadata": {},
          "execution_count": 47
        }
      ]
    },
    {
      "cell_type": "code",
      "source": [
        "#Matriz de 1's\n",
        "np.ones((4,2,2))"
      ],
      "metadata": {
        "colab": {
          "base_uri": "https://localhost:8080/"
        },
        "id": "vL9kIh6zOGdA",
        "outputId": "3290efec-0ba9-4c9a-bcf8-09b97ff783d8"
      },
      "execution_count": null,
      "outputs": [
        {
          "output_type": "execute_result",
          "data": {
            "text/plain": [
              "array([[[1., 1.],\n",
              "        [1., 1.]],\n",
              "\n",
              "       [[1., 1.],\n",
              "        [1., 1.]],\n",
              "\n",
              "       [[1., 1.],\n",
              "        [1., 1.]],\n",
              "\n",
              "       [[1., 1.],\n",
              "        [1., 1.]]])"
            ]
          },
          "metadata": {},
          "execution_count": 48
        }
      ]
    },
    {
      "cell_type": "code",
      "source": [
        "#Matriz de n's\n",
        "np.full((2,2),13)"
      ],
      "metadata": {
        "colab": {
          "base_uri": "https://localhost:8080/"
        },
        "id": "YYSqxzevOU2U",
        "outputId": "6f279601-ec60-4d9b-b4f4-e062ee630779"
      },
      "execution_count": null,
      "outputs": [
        {
          "output_type": "execute_result",
          "data": {
            "text/plain": [
              "array([[13, 13],\n",
              "       [13, 13]])"
            ]
          },
          "metadata": {},
          "execution_count": 49
        }
      ]
    },
    {
      "cell_type": "code",
      "source": [
        "#Matriz con x forma\n",
        "np.full_like(a,2)"
      ],
      "metadata": {
        "colab": {
          "base_uri": "https://localhost:8080/"
        },
        "id": "XXvfIBA0OvI2",
        "outputId": "4c6c202b-4dcc-4f65-f26d-180ed88ccbd9"
      },
      "execution_count": null,
      "outputs": [
        {
          "output_type": "execute_result",
          "data": {
            "text/plain": [
              "array([[2, 2, 2, 2, 2, 2, 2],\n",
              "       [2, 2, 2, 2, 2, 2, 2]])"
            ]
          },
          "metadata": {},
          "execution_count": 50
        }
      ]
    },
    {
      "cell_type": "code",
      "source": [
        "#Numeros decimales aleatorios\n",
        "np.random.rand(3,4)\n",
        "np.random.random_sample(a.shape)"
      ],
      "metadata": {
        "colab": {
          "base_uri": "https://localhost:8080/"
        },
        "id": "OVyz6mEBO66a",
        "outputId": "1f9bc15b-0a85-44e5-a40f-bb9725e598ca"
      },
      "execution_count": null,
      "outputs": [
        {
          "output_type": "execute_result",
          "data": {
            "text/plain": [
              "array([[0.86662729, 0.21081031, 0.16459088, 0.31242228, 0.29822132,\n",
              "        0.07199868, 0.48596255],\n",
              "       [0.07008099, 0.4539552 , 0.98727994, 0.17655066, 0.48003378,\n",
              "        0.48677155, 0.49933069]])"
            ]
          },
          "metadata": {},
          "execution_count": 54
        }
      ]
    },
    {
      "cell_type": "code",
      "source": [
        "#Numeros enteros aleatorios (Startvalue, shape)\n",
        "np.random.randint(1,9,size=(3,3))"
      ],
      "metadata": {
        "colab": {
          "base_uri": "https://localhost:8080/"
        },
        "id": "XQ6r3J4gPntM",
        "outputId": "9996c434-7daf-4740-d4ae-59a7d5c4bc76"
      },
      "execution_count": null,
      "outputs": [
        {
          "output_type": "execute_result",
          "data": {
            "text/plain": [
              "array([[6, 8, 3],\n",
              "       [3, 7, 2],\n",
              "       [3, 8, 7]])"
            ]
          },
          "metadata": {},
          "execution_count": 57
        }
      ]
    },
    {
      "cell_type": "code",
      "source": [
        "#Matriz de identidad\n",
        "np.identity(4)"
      ],
      "metadata": {
        "colab": {
          "base_uri": "https://localhost:8080/"
        },
        "id": "d-UiN_SfQPJp",
        "outputId": "fb4c4408-7cfc-42bf-ecb5-0e245c0e01cc"
      },
      "execution_count": null,
      "outputs": [
        {
          "output_type": "execute_result",
          "data": {
            "text/plain": [
              "array([[1., 0., 0., 0.],\n",
              "       [0., 1., 0., 0.],\n",
              "       [0., 0., 1., 0.],\n",
              "       [0., 0., 0., 1.]])"
            ]
          },
          "metadata": {},
          "execution_count": 59
        }
      ]
    },
    {
      "cell_type": "code",
      "source": [
        "#Repetir un array\n",
        "arr=np.array([[2,4,6]])\n",
        "rl=np.repeat(arr,3,axis=0)\n",
        "print(rl)"
      ],
      "metadata": {
        "colab": {
          "base_uri": "https://localhost:8080/"
        },
        "id": "KqQNTMgnQlUI",
        "outputId": "937a1ec7-b6a7-4eed-ce0f-935cf09ee713"
      },
      "execution_count": null,
      "outputs": [
        {
          "output_type": "stream",
          "name": "stdout",
          "text": [
            "[[2 4 6]\n",
            " [2 4 6]\n",
            " [2 4 6]]\n"
          ]
        }
      ]
    },
    {
      "cell_type": "code",
      "source": [
        "#Modificar array\n",
        "x=np.array([2, 4, 6])\n",
        "y=x\n",
        "y [0]=40\n",
        "print(x)"
      ],
      "metadata": {
        "colab": {
          "base_uri": "https://localhost:8080/"
        },
        "id": "v30I-hjyR223",
        "outputId": "3adcff0a-b0fe-45ab-da04-1d1602b12140"
      },
      "execution_count": null,
      "outputs": [
        {
          "output_type": "stream",
          "name": "stdout",
          "text": [
            "[40  4  6]\n"
          ]
        }
      ]
    },
    {
      "cell_type": "markdown",
      "source": [
        "Matemática básica"
      ],
      "metadata": {
        "id": "f9ENpwHTNWXU"
      }
    },
    {
      "cell_type": "code",
      "source": [
        "a=np.array([40, 4,  6])\n",
        "print(a)"
      ],
      "metadata": {
        "colab": {
          "base_uri": "https://localhost:8080/"
        },
        "id": "-MOu9Y6ZSO67",
        "outputId": "32b7f969-44b1-43f5-e720-a0b20416dfc1"
      },
      "execution_count": null,
      "outputs": [
        {
          "output_type": "stream",
          "name": "stdout",
          "text": [
            "[40  4  6]\n"
          ]
        }
      ]
    },
    {
      "cell_type": "code",
      "source": [
        "a+2"
      ],
      "metadata": {
        "colab": {
          "base_uri": "https://localhost:8080/"
        },
        "id": "LhyJodftSePV",
        "outputId": "841866c9-c2af-4c62-e88d-87553d75e6c8"
      },
      "execution_count": null,
      "outputs": [
        {
          "output_type": "execute_result",
          "data": {
            "text/plain": [
              "array([80,  8, 12])"
            ]
          },
          "metadata": {},
          "execution_count": 70
        }
      ]
    },
    {
      "cell_type": "code",
      "source": [
        "a-2"
      ],
      "metadata": {
        "colab": {
          "base_uri": "https://localhost:8080/"
        },
        "id": "U_fm9ZwGSnRV",
        "outputId": "8fe7b7bb-7024-4c97-85b1-120e12be1dfe"
      },
      "execution_count": null,
      "outputs": [
        {
          "output_type": "execute_result",
          "data": {
            "text/plain": [
              "array([38,  2,  4])"
            ]
          },
          "metadata": {},
          "execution_count": 71
        }
      ]
    },
    {
      "cell_type": "code",
      "source": [
        "a*2"
      ],
      "metadata": {
        "colab": {
          "base_uri": "https://localhost:8080/"
        },
        "id": "6YuqvJ8ySo1H",
        "outputId": "e89db537-8ced-443a-af8c-e4d9146f126e"
      },
      "execution_count": null,
      "outputs": [
        {
          "output_type": "execute_result",
          "data": {
            "text/plain": [
              "array([80,  8, 12])"
            ]
          },
          "metadata": {},
          "execution_count": 72
        }
      ]
    },
    {
      "cell_type": "code",
      "source": [
        "a/2"
      ],
      "metadata": {
        "colab": {
          "base_uri": "https://localhost:8080/"
        },
        "id": "oMiVg4CPSpv1",
        "outputId": "e1d22991-7b9e-4afe-aae3-cc948f4b370b"
      },
      "execution_count": null,
      "outputs": [
        {
          "output_type": "execute_result",
          "data": {
            "text/plain": [
              "array([20.,  2.,  3.])"
            ]
          },
          "metadata": {},
          "execution_count": 73
        }
      ]
    },
    {
      "cell_type": "code",
      "source": [
        "b=np.array([10,  2,  3])\n",
        "a+b"
      ],
      "metadata": {
        "colab": {
          "base_uri": "https://localhost:8080/"
        },
        "id": "4O_u8EQASy7g",
        "outputId": "4310a449-d8fb-4f5f-d2b7-99d41c3103d5"
      },
      "execution_count": null,
      "outputs": [
        {
          "output_type": "execute_result",
          "data": {
            "text/plain": [
              "array([50,  6,  9])"
            ]
          },
          "metadata": {},
          "execution_count": 75
        }
      ]
    },
    {
      "cell_type": "markdown",
      "source": [
        "Reorganizar matrices"
      ],
      "metadata": {
        "id": "ku2EXpZXNi2B"
      }
    },
    {
      "cell_type": "code",
      "source": [
        "#Apilar vectores: forma vertical\n",
        "v1=np.array([1,  2,  3])\n",
        "v2=np.array([4,5,6])\n",
        "np.vstack([v1,v2])"
      ],
      "metadata": {
        "colab": {
          "base_uri": "https://localhost:8080/"
        },
        "id": "Iyyn5YvWT0wY",
        "outputId": "85c08db8-990a-44f5-ac17-7ddc369302b3"
      },
      "execution_count": null,
      "outputs": [
        {
          "output_type": "execute_result",
          "data": {
            "text/plain": [
              "array([[1, 2, 3],\n",
              "       [4, 5, 6]])"
            ]
          },
          "metadata": {},
          "execution_count": 76
        }
      ]
    },
    {
      "cell_type": "code",
      "source": [
        "#Apilar vectores: forma horizontal\n",
        "h1=np.array([1,  2,  3])\n",
        "h2=np.array([4,5,6])\n",
        "np.hstack([h1,h2])"
      ],
      "metadata": {
        "colab": {
          "base_uri": "https://localhost:8080/"
        },
        "id": "_hnAZ_V5ULlY",
        "outputId": "a2359097-e208-47d7-e887-35697c743a96"
      },
      "execution_count": null,
      "outputs": [
        {
          "output_type": "execute_result",
          "data": {
            "text/plain": [
              "array([1, 2, 3, 4, 5, 6])"
            ]
          },
          "metadata": {},
          "execution_count": 78
        }
      ]
    }
  ]
}