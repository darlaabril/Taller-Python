{
  "nbformat": 4,
  "nbformat_minor": 0,
  "metadata": {
    "colab": {
      "name": "Tarea 1.ipynb",
      "provenance": [],
      "authorship_tag": "ABX9TyPvz48GleVy6Ql8qx8o0iUk",
      "include_colab_link": true
    },
    "kernelspec": {
      "name": "python3",
      "display_name": "Python 3"
    },
    "language_info": {
      "name": "python"
    }
  },
  "cells": [
    {
      "cell_type": "markdown",
      "metadata": {
        "id": "view-in-github",
        "colab_type": "text"
      },
      "source": [
        "<a href=\"https://colab.research.google.com/github/darlaabril/Taller-Python/blob/main/Tarea_1.ipynb\" target=\"_parent\"><img src=\"https://colab.research.google.com/assets/colab-badge.svg\" alt=\"Open In Colab\"/></a>"
      ]
    },
    {
      "cell_type": "markdown",
      "source": [
        "#Tarea 1\n",
        "\n"
      ],
      "metadata": {
        "id": "76aahSrJweAK"
      }
    },
    {
      "cell_type": "markdown",
      "source": [
        "##Ejercicio 1\n",
        "Escribir un programa que almacene sus platos favoritos (por ejemplo tallarines, ceviche, lomo, frijol y cabrito) en una lista y la muestre por pantalla."
      ],
      "metadata": {
        "id": "jLxvK7puwilm"
      }
    },
    {
      "cell_type": "code",
      "source": [
        ""
      ],
      "metadata": {
        "id": "gmbpVE0HwrjW"
      },
      "execution_count": null,
      "outputs": []
    },
    {
      "cell_type": "markdown",
      "source": [
        "##Ejercicio 2\n",
        "Escribir un programa que almacene las asignaturas de un curso sus platos favoritos (por ejemplo tallarines, ceviche, lomo, frijol y cabrito)  en una lista y la muestre por pantalla el mensaje “ A mi me gusta comer <*plato*> “, donde <*plato*> es cada una de sus platos de comida favoritos"
      ],
      "metadata": {
        "id": "nydh-ayRwtsu"
      }
    },
    {
      "cell_type": "code",
      "source": [
        ""
      ],
      "metadata": {
        "id": "ChrtlwdEwxOH"
      },
      "execution_count": null,
      "outputs": []
    },
    {
      "cell_type": "markdown",
      "source": [
        "##Ejercicio 3\n",
        "Escribir un programa que almacene las asignaturas de un curso (por ejemplo Matemáticas, Física, Química, Historia y Lengua) en una lista, pregunte al usuario la nota que ha sacado en cada asignatura, y después las muestre por pantalla con el mensaje En <*asignatura*> has sacado <*nota*> donde <*asignatura*> es cada una des las asignaturas de la lista y <*nota*> cada una de las correspondientes notas introducidas por el usuario.\n"
      ],
      "metadata": {
        "id": "Ys4ezVTxwxz-"
      }
    },
    {
      "cell_type": "code",
      "source": [
        ""
      ],
      "metadata": {
        "id": "Uo-VaBh5w1hu"
      },
      "execution_count": null,
      "outputs": []
    },
    {
      "cell_type": "markdown",
      "source": [
        "##Ejercicio 4\n",
        "Escribir un programa que almacene en una lista los números del 1 al 10 y los muestre por pantalla en orden inverso separados por comas.\n"
      ],
      "metadata": {
        "id": "-u6SF-7Gw2CG"
      }
    },
    {
      "cell_type": "code",
      "source": [
        ""
      ],
      "metadata": {
        "id": "O3esdwPfw5MI"
      },
      "execution_count": null,
      "outputs": []
    },
    {
      "cell_type": "markdown",
      "source": [
        "##Ejercicio 5\n",
        "Definir una variable y escribir un código que te muestre un rango de variables.\n"
      ],
      "metadata": {
        "id": "GmUzSQNpw_X3"
      }
    },
    {
      "cell_type": "code",
      "source": [
        ""
      ],
      "metadata": {
        "id": "JFs8Ead1w_yP"
      },
      "execution_count": null,
      "outputs": []
    },
    {
      "cell_type": "markdown",
      "source": [
        "##Ejercicio 6\n",
        "Escribir un programa que almacene en una lista los siguientes precios, 50, 75, 46, 22, 80, 65, 8, y muestre por pantalla una lista del menor al mayor de los precios.\n"
      ],
      "metadata": {
        "id": "e34jgTHvxCJ-"
      }
    },
    {
      "cell_type": "code",
      "source": [
        ""
      ],
      "metadata": {
        "id": "Tmie-o5kxCjv"
      },
      "execution_count": null,
      "outputs": []
    },
    {
      "cell_type": "markdown",
      "source": [
        "##Ejercicios 7\n",
        "Escribir un programa que almacene los vectores (1,2,3) y (-1,0,2) en dos listas y juntarlos en un solo vector.\n"
      ],
      "metadata": {
        "id": "EWEeCFqnxCw4"
      }
    },
    {
      "cell_type": "code",
      "source": [
        ""
      ],
      "metadata": {
        "id": "u8BALFjzxEXu"
      },
      "execution_count": null,
      "outputs": []
    },
    {
      "cell_type": "markdown",
      "source": [
        "##Ejercicio 8\n",
        "El vector creado anteriormente júntelo con el vector de sus platos favoritos. Es decir: [1,2,3,-1,0,2, (tallarines, ceviche, lomo, frijol y cabrito)]\n"
      ],
      "metadata": {
        "id": "f5uLuQmExEfv"
      }
    },
    {
      "cell_type": "code",
      "source": [
        ""
      ],
      "metadata": {
        "id": "ql81uCIQxGEO"
      },
      "execution_count": null,
      "outputs": []
    }
  ]
}
