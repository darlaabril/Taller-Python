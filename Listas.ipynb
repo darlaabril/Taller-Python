{
  "cells": [
    {
      "cell_type": "markdown",
      "metadata": {
        "id": "view-in-github",
        "colab_type": "text"
      },
      "source": [
        "<a href=\"https://colab.research.google.com/github/darlaabril/Taller-Python/blob/main/Listas.ipynb\" target=\"_parent\"><img src=\"https://colab.research.google.com/assets/colab-badge.svg\" alt=\"Open In Colab\"/></a>"
      ]
    },
    {
      "cell_type": "markdown",
      "metadata": {
        "id": "HD8XWKcIk2GJ"
      },
      "source": [
        "# Listas"
      ]
    },
    {
      "cell_type": "markdown",
      "metadata": {
        "id": "JS2YYug6k2GO"
      },
      "source": [
        "Hasta ahora los tipos de datos que hemos estudiado tienen un sólo elemento. Sin embargo, hay estructuras más complejas que pueden contener varios de esos tipos de datos. \n",
        "\n",
        "Las listas nos permiten almacenar y trabajar varios tipos de datos como una lista ordenada de valores.\n",
        "\n",
        "Es una estructura de datos muy versátil y puede hacer muchas tareas. Se usa muchísimo al escribir Python ya que es muy sencilla y por ello muy ideal de aprender al principio.\n"
      ]
    },
    {
      "cell_type": "markdown",
      "metadata": {
        "id": "LZcUqv3bk2GQ"
      },
      "source": [
        "Elaboración de una lista"
      ]
    },
    {
      "cell_type": "code",
      "execution_count": 48,
      "metadata": {
        "id": "BUYP6Kn3k2GR",
        "outputId": "08a47eca-7f31-47f8-8f00-e30f430d6c1f",
        "colab": {
          "base_uri": "https://localhost:8080/"
        }
      },
      "outputs": [
        {
          "output_type": "stream",
          "name": "stdout",
          "text": [
            "[1, 2, 3, 4, 5]\n"
          ]
        }
      ],
      "source": [
        "lst = [1,2,3,4,5] # Brackets con elementos separados por comas\n",
        "print(lst)\n"
      ]
    },
    {
      "cell_type": "code",
      "execution_count": 1,
      "metadata": {
        "id": "iya4DvYBk2GT"
      },
      "outputs": [],
      "source": [
        ""
      ]
    },
    {
      "cell_type": "code",
      "execution_count": 49,
      "metadata": {
        "id": "7_HT_YQ6k2GU"
      },
      "outputs": [],
      "source": [
        "Carreras = [\"Sociología\", \"Economía\", \"Antropologia\", \"Finanzas\", \"Ciencia Política\"]\n"
      ]
    },
    {
      "cell_type": "markdown",
      "metadata": {
        "id": "Nlg7ooy7k2GU"
      },
      "source": [
        "Las listas pueden contener elementos de diferentes tipos"
      ]
    },
    {
      "cell_type": "code",
      "execution_count": 50,
      "metadata": {
        "id": "tprfDjZgk2GV",
        "colab": {
          "base_uri": "https://localhost:8080/"
        },
        "outputId": "f222740a-f03d-4d25-8d6f-33402d3c863c"
      },
      "outputs": [
        {
          "output_type": "execute_result",
          "data": {
            "text/plain": [
              "[5, 'hola', 50.55, True, 'chau']"
            ]
          },
          "metadata": {},
          "execution_count": 50
        }
      ],
      "source": [
        "mi_lista = [5, 'hola', 50.55, True, 'chau']\n",
        "mi_lista"
      ]
    },
    {
      "cell_type": "markdown",
      "metadata": {
        "id": "QjJSYJhTk2GV"
      },
      "source": [
        "Usualmente, trabajamos con listas que tienen datos del mismo tipo, ya que iteramos con ellas y el código podría arrojar error. "
      ]
    },
    {
      "cell_type": "markdown",
      "metadata": {
        "id": "kkGGHx-zk2GW"
      },
      "source": [
        "Aquí los brackets son diferentes a los que se usan para rebanar strings!"
      ]
    },
    {
      "cell_type": "code",
      "execution_count": 51,
      "metadata": {
        "id": "_OnLJve4k2GW",
        "colab": {
          "base_uri": "https://localhost:8080/"
        },
        "outputId": "721e5cfe-9750-4e72-a244-11d1862dea3c"
      },
      "outputs": [
        {
          "output_type": "execute_result",
          "data": {
            "text/plain": [
              "17"
            ]
          },
          "metadata": {},
          "execution_count": 51
        }
      ],
      "source": [
        "mensaje = \"Bienvenidos todos\"\n",
        "mensaje[0:10]\n",
        "\n",
        "len(mensaje)"
      ]
    },
    {
      "cell_type": "markdown",
      "metadata": {
        "id": "7X3a9YIjk2GX"
      },
      "source": [
        "Aquí creamos una lista vacía"
      ]
    },
    {
      "cell_type": "code",
      "execution_count": 52,
      "metadata": {
        "id": "QIiq70jbk2GX"
      },
      "outputs": [],
      "source": [
        "vacia = []"
      ]
    },
    {
      "cell_type": "markdown",
      "metadata": {
        "id": "Sb1luJF_k2GX"
      },
      "source": [
        "Se pueden sumar listas"
      ]
    },
    {
      "cell_type": "code",
      "execution_count": 53,
      "metadata": {
        "id": "e9aTPlhpk2GX",
        "colab": {
          "base_uri": "https://localhost:8080/"
        },
        "outputId": "f4043200-7717-4102-d616-3158bc90273e"
      },
      "outputs": [
        {
          "output_type": "execute_result",
          "data": {
            "text/plain": [
              "[1, 2, 3, 4, 5, 6, 7, 8, 9, 10]"
            ]
          },
          "metadata": {},
          "execution_count": 53
        }
      ],
      "source": [
        "primera_parte = [1, 2, 3, 4, 5]\n",
        "segunda_parte = [6, 7, 8, 9, 10]\n",
        "\n",
        "primera_parte + segunda_parte"
      ]
    },
    {
      "cell_type": "code",
      "execution_count": 54,
      "metadata": {
        "id": "dhx_C-5Vk2GY",
        "colab": {
          "base_uri": "https://localhost:8080/"
        },
        "outputId": "e2248c24-c118-4158-d06a-19ded65aea4e"
      },
      "outputs": [
        {
          "output_type": "execute_result",
          "data": {
            "text/plain": [
              "1"
            ]
          },
          "metadata": {},
          "execution_count": 54
        }
      ],
      "source": [
        "primera_parte[0]"
      ]
    },
    {
      "cell_type": "markdown",
      "metadata": {
        "id": "QUK_Uq54k2GY"
      },
      "source": [
        "A veces queremos una lista de un tamaño determinado: "
      ]
    },
    {
      "cell_type": "code",
      "execution_count": 55,
      "metadata": {
        "id": "n-ZFRnZpk2GY",
        "colab": {
          "base_uri": "https://localhost:8080/"
        },
        "outputId": "782c8b8c-5493-408b-d3b6-58a1073e8fc5"
      },
      "outputs": [
        {
          "output_type": "execute_result",
          "data": {
            "text/plain": [
              "[0, 0, 0, 0, 0, 0, 0, 0, 0, 0, 0, 0, 0, 0, 0]"
            ]
          },
          "metadata": {},
          "execution_count": 55
        }
      ],
      "source": [
        "n = 15\n",
        "lst = [0] * n\n",
        "lst"
      ]
    },
    {
      "cell_type": "code",
      "execution_count": 56,
      "metadata": {
        "id": "fWEzd4iXk2GY",
        "colab": {
          "base_uri": "https://localhost:8080/"
        },
        "outputId": "f48c3cac-4c25-4da2-b412-1482de570ec6"
      },
      "outputs": [
        {
          "output_type": "stream",
          "name": "stdout",
          "text": [
            "[0, 1, 2, 0, 1, 2, 0, 1, 2, 0, 1, 2, 0, 1, 2, 0, 1, 2, 0, 1, 2, 0, 1, 2, 0, 1, 2, 0, 1, 2]\n"
          ]
        }
      ],
      "source": [
        "n = 10\n",
        "lst = [0, 1, 2] * n\n",
        "print(lst)   ## La multiplicación repite la lista n veces\n"
      ]
    },
    {
      "cell_type": "markdown",
      "metadata": {
        "id": "KVDaK36Mk2GZ"
      },
      "source": [
        "Podemos ver cuántos elementos tiene una lista"
      ]
    },
    {
      "cell_type": "code",
      "execution_count": 57,
      "metadata": {
        "id": "uTxyMuILk2GZ",
        "colab": {
          "base_uri": "https://localhost:8080/"
        },
        "outputId": "8d7a8574-4632-401c-b6cd-b607e34248e2"
      },
      "outputs": [
        {
          "output_type": "stream",
          "name": "stdout",
          "text": [
            "5\n",
            "5\n",
            "30\n"
          ]
        }
      ],
      "source": [
        "print(len(mi_lista))\n",
        "print(len(segunda_parte))\n",
        "print(len(lst))\n",
        "\n",
        "\n"
      ]
    },
    {
      "cell_type": "markdown",
      "metadata": {
        "id": "xyyzbtbJk2GZ"
      },
      "source": [
        "Se pueden acceder a elementos individuales de una lista.   \n",
        "\n",
        "Python es un lenguaje indexado en 0, por lo que la enumeración de las listas empieza en 0\n"
      ]
    },
    {
      "cell_type": "code",
      "execution_count": 58,
      "metadata": {
        "id": "sr7AUKSUk2GZ",
        "colab": {
          "base_uri": "https://localhost:8080/"
        },
        "outputId": "c51341fa-f66f-4635-9f12-f49b8f07d6df"
      },
      "outputs": [
        {
          "output_type": "execute_result",
          "data": {
            "text/plain": [
              "['Sociología', 'Economía', 'Antropologia', 'Finanzas', 'Ciencia Política']"
            ]
          },
          "metadata": {},
          "execution_count": 58
        }
      ],
      "source": [
        "Carreras"
      ]
    },
    {
      "cell_type": "code",
      "execution_count": 59,
      "metadata": {
        "id": "263drZM9k2GZ",
        "colab": {
          "base_uri": "https://localhost:8080/",
          "height": 35
        },
        "outputId": "979d725e-eebe-46cd-ce76-1c2ecb92f647"
      },
      "outputs": [
        {
          "output_type": "execute_result",
          "data": {
            "text/plain": [
              "'Sociología'"
            ],
            "application/vnd.google.colaboratory.intrinsic+json": {
              "type": "string"
            }
          },
          "metadata": {},
          "execution_count": 59
        }
      ],
      "source": [
        "Carreras[0]"
      ]
    },
    {
      "cell_type": "code",
      "execution_count": 20,
      "metadata": {
        "id": "pI0V6pffk2GZ",
        "colab": {
          "base_uri": "https://localhost:8080/",
          "height": 35
        },
        "outputId": "85904698-2bb1-49f3-816f-b2144c9b8970"
      },
      "outputs": [
        {
          "output_type": "execute_result",
          "data": {
            "text/plain": [
              "'Finanzas'"
            ],
            "application/vnd.google.colaboratory.intrinsic+json": {
              "type": "string"
            }
          },
          "metadata": {},
          "execution_count": 20
        }
      ],
      "source": [
        "Carreras[3]"
      ]
    },
    {
      "cell_type": "markdown",
      "metadata": {
        "id": "g46I1ZjDk2Ga"
      },
      "source": [
        "Se puede acceder a una rebanada de la lista"
      ]
    },
    {
      "cell_type": "code",
      "execution_count": 60,
      "metadata": {
        "id": "pEs6oTw5k2Ga",
        "colab": {
          "base_uri": "https://localhost:8080/"
        },
        "outputId": "55f6d748-b42e-4031-b794-fedabcdb3bb5"
      },
      "outputs": [
        {
          "output_type": "execute_result",
          "data": {
            "text/plain": [
              "['Sociología', 'Economía', 'Antropologia', 'Finanzas']"
            ]
          },
          "metadata": {},
          "execution_count": 60
        }
      ],
      "source": [
        "Carreras[0:4] ## El ultimo elemento del intervalo no está incluido!"
      ]
    },
    {
      "cell_type": "code",
      "execution_count": 61,
      "metadata": {
        "id": "hpOKHHIhk2Ga",
        "colab": {
          "base_uri": "https://localhost:8080/",
          "height": 35
        },
        "outputId": "ab5d656f-5c7f-4bf4-ed68-5e6ec57d90dd"
      },
      "outputs": [
        {
          "output_type": "execute_result",
          "data": {
            "text/plain": [
              "'Ciencia Política'"
            ],
            "application/vnd.google.colaboratory.intrinsic+json": {
              "type": "string"
            }
          },
          "metadata": {},
          "execution_count": 61
        }
      ],
      "source": [
        "Carreras[-1] # Eligiendo el último elemento de la  lista"
      ]
    },
    {
      "cell_type": "code",
      "execution_count": 62,
      "metadata": {
        "id": "argDGYr2k2Ga",
        "colab": {
          "base_uri": "https://localhost:8080/",
          "height": 35
        },
        "outputId": "aee82113-6bd1-418e-e70d-44dda743f0a8"
      },
      "outputs": [
        {
          "output_type": "execute_result",
          "data": {
            "text/plain": [
              "'Finanzas'"
            ],
            "application/vnd.google.colaboratory.intrinsic+json": {
              "type": "string"
            }
          },
          "metadata": {},
          "execution_count": 62
        }
      ],
      "source": [
        "Carreras[-2] # El penúltimo"
      ]
    },
    {
      "cell_type": "code",
      "execution_count": 63,
      "metadata": {
        "id": "TWMJWUBDk2Ga",
        "colab": {
          "base_uri": "https://localhost:8080/"
        },
        "outputId": "129e7fb5-8030-4ca6-ce88-fd274c6747da"
      },
      "outputs": [
        {
          "output_type": "stream",
          "name": "stdout",
          "text": [
            "['Sociología', 'Economía', 'Antropologia', 'Finanzas', 'Ciencia Política']\n",
            "['Economía', 'Antropologia']\n"
          ]
        }
      ],
      "source": [
        "print(Carreras)\n",
        "print(Carreras[1:-2]) # Eligiendo desde el elemento 2 hasta el penúltimo (útil cuando no sabemos el total de los elementos)"
      ]
    },
    {
      "cell_type": "code",
      "execution_count": 64,
      "metadata": {
        "id": "T-OgbCnik2Ga",
        "colab": {
          "base_uri": "https://localhost:8080/"
        },
        "outputId": "2683043e-3d3b-40eb-fe79-e83698d40604"
      },
      "outputs": [
        {
          "output_type": "execute_result",
          "data": {
            "text/plain": [
              "['Finanzas', 'Ciencia Política']"
            ]
          },
          "metadata": {},
          "execution_count": 64
        }
      ],
      "source": [
        "Carreras[3:len(Carreras)] # Rebanando con el length de la lista"
      ]
    },
    {
      "cell_type": "code",
      "execution_count": 65,
      "metadata": {
        "id": "FVDgz9XJk2Ga",
        "colab": {
          "base_uri": "https://localhost:8080/"
        },
        "outputId": "5679f223-39e5-42df-d68a-665d6fd0ba96"
      },
      "outputs": [
        {
          "output_type": "execute_result",
          "data": {
            "text/plain": [
              "[1, 3, 5, 7]"
            ]
          },
          "metadata": {},
          "execution_count": 65
        }
      ],
      "source": [
        "nums = [0,1,2,3,4,5,6,7,8,9]\n",
        "nums[1:8:2] #Rebanando desde el elemento 1 al 8(no inclusivo) cada 2 elementos. "
      ]
    },
    {
      "cell_type": "code",
      "execution_count": 66,
      "metadata": {
        "id": "3bcU7pRpk2Ga",
        "colab": {
          "base_uri": "https://localhost:8080/"
        },
        "outputId": "e55e764e-f250-4eff-cbee-8b350b7ff6f6"
      },
      "outputs": [
        {
          "output_type": "execute_result",
          "data": {
            "text/plain": [
              "[9, 8, 7, 6, 5, 4, 3, 2, 1, 0]"
            ]
          },
          "metadata": {},
          "execution_count": 66
        }
      ],
      "source": [
        "nums[::-1] ## Así invertimos una lista.  Si los elementos se quedan vacíos, asume todo el rango. "
      ]
    },
    {
      "cell_type": "markdown",
      "metadata": {
        "id": "SXkUvtZ0k2Ga"
      },
      "source": [
        "Las listas pueden tener indexes fuera de rango. En este ejemplo, el indice 20 se comporta igual que len(lst) + 1.  \n",
        "\n",
        "No tener que preocuparnos por los indexes, puede ser conveniente!"
      ]
    },
    {
      "cell_type": "code",
      "execution_count": 67,
      "metadata": {
        "id": "xUXoqnLvk2Gb",
        "colab": {
          "base_uri": "https://localhost:8080/"
        },
        "outputId": "bd01624d-9386-4126-f806-6f63ab9df96b"
      },
      "outputs": [
        {
          "output_type": "stream",
          "name": "stdout",
          "text": [
            "[0, 1, 2, 3, 4, 5, 6, 7, 8, 9]\n",
            "[0, 1, 2, 3, 4, 5, 6, 7, 8, 9]\n",
            "[0, 1, 2, 3, 4, 5, 6, 7, 8, 9]\n"
          ]
        }
      ],
      "source": [
        "print(nums[0:20]) \n",
        "print(nums[0:len(nums)+ 1])\n",
        "print(nums[0:len(nums)])\n"
      ]
    },
    {
      "cell_type": "code",
      "execution_count": 68,
      "metadata": {
        "id": "GpH0wmLuk2Gb",
        "colab": {
          "base_uri": "https://localhost:8080/"
        },
        "outputId": "810ea81b-e209-44c4-cadf-c07348702523"
      },
      "outputs": [
        {
          "output_type": "execute_result",
          "data": {
            "text/plain": [
              "11"
            ]
          },
          "metadata": {},
          "execution_count": 68
        }
      ],
      "source": [
        "len(nums)+ 1"
      ]
    },
    {
      "cell_type": "code",
      "execution_count": 69,
      "metadata": {
        "id": "bZuiRnTTk2Gb",
        "colab": {
          "base_uri": "https://localhost:8080/"
        },
        "outputId": "22a0fa53-3c49-46fa-982f-a89a2eecb652"
      },
      "outputs": [
        {
          "output_type": "execute_result",
          "data": {
            "text/plain": [
              "11"
            ]
          },
          "metadata": {},
          "execution_count": 69
        }
      ],
      "source": [
        "len(nums)+ 1"
      ]
    },
    {
      "cell_type": "markdown",
      "metadata": {
        "id": "W4HRdv2Vk2Gb"
      },
      "source": [
        "## Modificando una lista\n",
        "\n",
        "Las listas son objetos **mutables**, lo cual indica que sus valores se pueden modificar después de su creación (se pueden cambiar, agregar, eliminar elementos). Otras estructuras, como los strings y las tuplas, no se pueden cambiar. "
      ]
    },
    {
      "cell_type": "markdown",
      "metadata": {
        "id": "GYUKQcAtk2Gb"
      },
      "source": [
        "Para modificar una lista, podemos hacer lo siguiente"
      ]
    },
    {
      "cell_type": "code",
      "execution_count": 70,
      "metadata": {
        "id": "_zZZ9DIrk2Gb",
        "colab": {
          "base_uri": "https://localhost:8080/"
        },
        "outputId": "bae88997-4792-4839-83f6-cf61ddd7a0ca"
      },
      "outputs": [
        {
          "output_type": "execute_result",
          "data": {
            "text/plain": [
              "['Sociología', 'Economía', 'Antropologia', 'Sociologia', 'Ciencia Política']"
            ]
          },
          "metadata": {},
          "execution_count": 70
        }
      ],
      "source": [
        "Carreras[3] = \"Sociologia\"\n",
        "Carreras\n"
      ]
    },
    {
      "cell_type": "markdown",
      "metadata": {
        "id": "coxMDVdfk2Gb"
      },
      "source": [
        "## Una propiedad curiosa de las listas "
      ]
    },
    {
      "cell_type": "markdown",
      "metadata": {
        "id": "ghoZCKs2k2Gb"
      },
      "source": [
        "Imaginen que tenemos una lista, y queremos hacer una copia de dicha lista:"
      ]
    },
    {
      "cell_type": "code",
      "execution_count": 71,
      "metadata": {
        "id": "1BPgjNpck2Gc"
      },
      "outputs": [],
      "source": [
        "lst_a = [1,2,3,4]\n",
        "lst_b = lst_a"
      ]
    },
    {
      "cell_type": "markdown",
      "metadata": {
        "id": "tbCkCOSqk2Gc"
      },
      "source": [
        "Ahora, modifiquemos la lst_a:"
      ]
    },
    {
      "cell_type": "code",
      "execution_count": 72,
      "metadata": {
        "id": "2ReHLHoEk2Gc",
        "colab": {
          "base_uri": "https://localhost:8080/"
        },
        "outputId": "4c6c440a-95a0-4091-fea3-7f582ff253d0"
      },
      "outputs": [
        {
          "output_type": "execute_result",
          "data": {
            "text/plain": [
              "[1, 2, 5, 4]"
            ]
          },
          "metadata": {},
          "execution_count": 72
        }
      ],
      "source": [
        "lst_a[2] = 5\n",
        "lst_a"
      ]
    },
    {
      "cell_type": "markdown",
      "metadata": {
        "id": "jlflCdxik2Gc"
      },
      "source": [
        "¿ Qué pasó con la otra lista? "
      ]
    },
    {
      "cell_type": "code",
      "execution_count": 73,
      "metadata": {
        "id": "BADGutDPk2Gc",
        "colab": {
          "base_uri": "https://localhost:8080/"
        },
        "outputId": "9edf1bf3-d6ba-4b68-f320-2b84492827ce"
      },
      "outputs": [
        {
          "output_type": "execute_result",
          "data": {
            "text/plain": [
              "[1, 2, 5, 4]"
            ]
          },
          "metadata": {},
          "execution_count": 73
        }
      ],
      "source": [
        "lst_b"
      ]
    },
    {
      "cell_type": "markdown",
      "metadata": {
        "id": "bgQj3HIsk2Gc"
      },
      "source": [
        "También ha cambiado!!!"
      ]
    },
    {
      "cell_type": "markdown",
      "metadata": {
        "id": "uBeT4T2gk2Gc"
      },
      "source": [
        "### Por qué pasa esto? \n",
        "Cuando creamos una lista, como la lst_b, que hace referencia a otra lista, la lst_a, no estamos creando un objeto nuevo. Simplemente **hacemos referencia** al mismo objeto, pues los dos señalan el mismo espacio que dicho objeto ocupa en la memoria. Cualquier modificación que se haga, ya sea a lst_a o lst_b, modificará al mismo objeto. \n",
        "\n",
        "### ¿Cómo probamos cuándo hacemos referencia al mismo objeto?"
      ]
    },
    {
      "cell_type": "markdown",
      "metadata": {
        "id": "BghpLrRgk2Gc"
      },
      "source": [
        "Aquí introducimos el comando `id`"
      ]
    },
    {
      "cell_type": "code",
      "execution_count": 74,
      "metadata": {
        "id": "kkt-hojDk2Gc",
        "colab": {
          "base_uri": "https://localhost:8080/"
        },
        "outputId": "b13591a8-2290-44e3-961b-ab7b50d3f498"
      },
      "outputs": [
        {
          "output_type": "stream",
          "name": "stdout",
          "text": [
            "139976296651904\n",
            "139976296651904\n"
          ]
        }
      ],
      "source": [
        "print(id(lst_a))\n",
        "print(id(lst_b)) ## Tienen los mismos ids!"
      ]
    },
    {
      "cell_type": "markdown",
      "metadata": {
        "id": "yIuoow1fk2Gc"
      },
      "source": [
        "El operador `is` nos ayuda a determinar si dos variables se refieren al mismo objeto:"
      ]
    },
    {
      "cell_type": "code",
      "execution_count": 75,
      "metadata": {
        "id": "-_TwPhUlk2Gd",
        "colab": {
          "base_uri": "https://localhost:8080/"
        },
        "outputId": "a5cd0623-87c7-4861-c69a-4f47e95c7ccb"
      },
      "outputs": [
        {
          "output_type": "execute_result",
          "data": {
            "text/plain": [
              "True"
            ]
          },
          "metadata": {},
          "execution_count": 75
        }
      ],
      "source": [
        "lst_a is lst_b"
      ]
    },
    {
      "cell_type": "markdown",
      "metadata": {
        "id": "8vGBpADxk2Gd"
      },
      "source": [
        "### Los nombres de variables son como referencias\n",
        "\n",
        "Cuando nombramos a una variable, la variable no es su nombre en sí, sino es una referencia a un lugar de la memoria. La `lst_a` no es [1,2,3,4] , sino hace referencia a dicho objeto. La `lst_b`, al haberla creado como `lst_b` = `lst_a`, también hace referencia al mismo objeto. \n",
        "\n",
        "Los nombres son como \"etiquetas\" o \"alias\" que se le dan a los objetos. En este caso, hicimos una copia falsa."
      ]
    },
    {
      "cell_type": "markdown",
      "metadata": {
        "id": "cVRcSeK6k2Gd"
      },
      "source": [
        "[0]: ./img/lsts.png"
      ]
    },
    {
      "cell_type": "markdown",
      "metadata": {
        "id": "tSQCQxmNk2Gd"
      },
      "source": [
        "<img src=\"https://github.com/darlaabril/Taller-Python/blob/main/img/lsts.png?raw=1\" width=\"800\">\n"
      ]
    },
    {
      "cell_type": "markdown",
      "metadata": {
        "id": "Ibt74sYqk2Gd"
      },
      "source": [
        "### Haciendo una copia que no referencie al mismo objeto:\n",
        "\n",
        "Si queremos hacer una copia independiente basada en una lista preexistente, solo tenemos que hacer:"
      ]
    },
    {
      "cell_type": "code",
      "execution_count": 76,
      "metadata": {
        "id": "7QDCbj87k2Gd"
      },
      "outputs": [],
      "source": [
        "lst_c  = lst_a[:]"
      ]
    },
    {
      "cell_type": "code",
      "execution_count": 78,
      "metadata": {
        "id": "7yhbWFkRk2Gd",
        "colab": {
          "base_uri": "https://localhost:8080/"
        },
        "outputId": "cba1ec39-2386-432d-f1b6-781dbf38c222"
      },
      "outputs": [
        {
          "output_type": "execute_result",
          "data": {
            "text/plain": [
              "139976334060432"
            ]
          },
          "metadata": {},
          "execution_count": 78
        }
      ],
      "source": [
        "id(lst_c)"
      ]
    },
    {
      "cell_type": "code",
      "execution_count": 79,
      "metadata": {
        "id": "NFmMs6vok2Gd",
        "colab": {
          "base_uri": "https://localhost:8080/"
        },
        "outputId": "e17381b9-fac4-432c-e489-923dccaae2f1"
      },
      "outputs": [
        {
          "output_type": "execute_result",
          "data": {
            "text/plain": [
              "139976296651904"
            ]
          },
          "metadata": {},
          "execution_count": 79
        }
      ],
      "source": [
        "id(lst_a)"
      ]
    },
    {
      "cell_type": "code",
      "execution_count": 80,
      "metadata": {
        "id": "OA9Zm2hok2Gd",
        "colab": {
          "base_uri": "https://localhost:8080/"
        },
        "outputId": "42fe6371-e51a-43d3-a43f-f414cebd74fe"
      },
      "outputs": [
        {
          "output_type": "execute_result",
          "data": {
            "text/plain": [
              "False"
            ]
          },
          "metadata": {},
          "execution_count": 80
        }
      ],
      "source": [
        "lst_c is lst_a"
      ]
    },
    {
      "cell_type": "code",
      "execution_count": 81,
      "metadata": {
        "id": "EhegKHaIk2Gd",
        "colab": {
          "base_uri": "https://localhost:8080/"
        },
        "outputId": "d562cc1c-77ea-4916-c3c4-c6f38cba6ec0"
      },
      "outputs": [
        {
          "output_type": "execute_result",
          "data": {
            "text/plain": [
              "True"
            ]
          },
          "metadata": {},
          "execution_count": 81
        }
      ],
      "source": [
        "lst_c == lst_a"
      ]
    },
    {
      "cell_type": "code",
      "execution_count": 82,
      "metadata": {
        "id": "4tqNLkH7k2Ge"
      },
      "outputs": [],
      "source": [
        "lst_d = lst_a.copy() ## Otra forma de crear una copia "
      ]
    },
    {
      "cell_type": "markdown",
      "metadata": {
        "id": "xbbIqwAkk2Ge"
      },
      "source": [
        "### Métodos que modifican a las listas"
      ]
    },
    {
      "cell_type": "code",
      "execution_count": 83,
      "metadata": {
        "id": "RtXDYSCbk2Ge"
      },
      "outputs": [],
      "source": [
        "Carreras = [\"Sociología\", \"Economía\", \"Antropologia\", \"Finanzas\", \"Ciencia Política\"]\n"
      ]
    },
    {
      "cell_type": "markdown",
      "metadata": {
        "id": "mK2o4hEkk2Ge"
      },
      "source": [
        "### - `append`"
      ]
    },
    {
      "cell_type": "code",
      "execution_count": 84,
      "metadata": {
        "id": "p1JOqOX3k2Ge",
        "colab": {
          "base_uri": "https://localhost:8080/"
        },
        "outputId": "9407a209-0a8a-4af6-d7f8-ba044d64c74a"
      },
      "outputs": [
        {
          "output_type": "execute_result",
          "data": {
            "text/plain": [
              "['Sociología',\n",
              " 'Economía',\n",
              " 'Antropologia',\n",
              " 'Finanzas',\n",
              " 'Ciencia Política',\n",
              " 'Sociologia']"
            ]
          },
          "metadata": {},
          "execution_count": 84
        }
      ],
      "source": [
        "Carreras.append(\"Sociologia\")\n",
        "Carreras"
      ]
    },
    {
      "cell_type": "markdown",
      "metadata": {
        "id": "VqibLn40k2Ge"
      },
      "source": [
        "### - `extend` \n",
        "(solo acepta un único argumento iterable, como otra lista!)"
      ]
    },
    {
      "cell_type": "code",
      "execution_count": 85,
      "metadata": {
        "id": "3BGSGE28k2Ge",
        "colab": {
          "base_uri": "https://localhost:8080/"
        },
        "outputId": "752d9ea8-40b1-4931-a796-93ad37d813aa"
      },
      "outputs": [
        {
          "output_type": "execute_result",
          "data": {
            "text/plain": [
              "['Sociología',\n",
              " 'Economía',\n",
              " 'Antropologia',\n",
              " 'Finanzas',\n",
              " 'Ciencia Política',\n",
              " 'Sociologia',\n",
              " 'Historia',\n",
              " 'Filosofía']"
            ]
          },
          "metadata": {},
          "execution_count": 85
        }
      ],
      "source": [
        "mas_Carreras = ['Historia', 'Filosofía']\n",
        "Carreras_copy = Carreras[:]\n",
        "Carreras_copy.extend(mas_Carreras)\n",
        "Carreras_copy"
      ]
    },
    {
      "cell_type": "code",
      "execution_count": 86,
      "metadata": {
        "id": "TTmcA193k2Ge",
        "colab": {
          "base_uri": "https://localhost:8080/"
        },
        "outputId": "9d7470d4-2eeb-49af-9595-21c60fafd350"
      },
      "outputs": [
        {
          "output_type": "execute_result",
          "data": {
            "text/plain": [
              "['Sociología',\n",
              " 'Economía',\n",
              " 'Antropologia',\n",
              " 'Finanzas',\n",
              " 'Ciencia Política',\n",
              " 'Sociologia',\n",
              " ['Historia', 'Filosofía']]"
            ]
          },
          "metadata": {},
          "execution_count": 86
        }
      ],
      "source": [
        "Carreras_copy = Carreras[:]\n",
        "Carreras_copy.append(mas_Carreras)\n",
        "Carreras_copy"
      ]
    },
    {
      "cell_type": "markdown",
      "metadata": {
        "id": "wSmvdKLWk2Ge"
      },
      "source": [
        "### - `insert`\n",
        "\n",
        "Este método toma 2 argumentos: la posición en la lista y el elemento a agregar\n"
      ]
    },
    {
      "cell_type": "code",
      "execution_count": 87,
      "metadata": {
        "id": "cRrlbSoLk2Ge",
        "colab": {
          "base_uri": "https://localhost:8080/"
        },
        "outputId": "a8e954a9-f0be-4857-a6ad-1f957de2a3a6"
      },
      "outputs": [
        {
          "output_type": "execute_result",
          "data": {
            "text/plain": [
              "['Sociología',\n",
              " 'Economía',\n",
              " 'Relaciones Internacionales',\n",
              " 'Antropologia',\n",
              " 'Finanzas',\n",
              " 'Ciencia Política']"
            ]
          },
          "metadata": {},
          "execution_count": 87
        }
      ],
      "source": [
        "Carreras = [\"Sociología\", \"Economía\", \"Antropologia\", \"Finanzas\", \"Ciencia Política\"]\n",
        "\n",
        "Carreras.insert(2,\"Relaciones Internacionales\")\n",
        "Carreras"
      ]
    },
    {
      "cell_type": "markdown",
      "metadata": {
        "id": "7TpMSs8Ek2Gf"
      },
      "source": [
        "### - `pop`"
      ]
    },
    {
      "cell_type": "code",
      "execution_count": 88,
      "metadata": {
        "id": "3cz5W8pOk2Gf",
        "colab": {
          "base_uri": "https://localhost:8080/"
        },
        "outputId": "857e1d22-26a3-4e23-d913-13fd68a8b350"
      },
      "outputs": [
        {
          "output_type": "execute_result",
          "data": {
            "text/plain": [
              "['Sociología',\n",
              " 'Economía',\n",
              " 'Relaciones Internacionales',\n",
              " 'Antropologia',\n",
              " 'Finanzas']"
            ]
          },
          "metadata": {},
          "execution_count": 88
        }
      ],
      "source": [
        "Carreras.pop()\n",
        "Carreras"
      ]
    },
    {
      "cell_type": "code",
      "execution_count": 89,
      "metadata": {
        "id": "lneTNGvGk2Gf",
        "colab": {
          "base_uri": "https://localhost:8080/"
        },
        "outputId": "3d922471-93c7-4334-a3f6-5a36e453dbc5"
      },
      "outputs": [
        {
          "output_type": "execute_result",
          "data": {
            "text/plain": [
              "['Economía', 'Relaciones Internacionales', 'Antropologia', 'Finanzas']"
            ]
          },
          "metadata": {},
          "execution_count": 89
        }
      ],
      "source": [
        "Carreras.pop(0)\n",
        "Carreras"
      ]
    },
    {
      "cell_type": "markdown",
      "metadata": {
        "id": "O-YvltJWk2Gf"
      },
      "source": [
        "### - `count`"
      ]
    },
    {
      "cell_type": "code",
      "execution_count": 90,
      "metadata": {
        "id": "N2QDdl82k2Gf",
        "colab": {
          "base_uri": "https://localhost:8080/"
        },
        "outputId": "78ba2df5-8072-4033-a61e-d70bf19dd8f3"
      },
      "outputs": [
        {
          "output_type": "execute_result",
          "data": {
            "text/plain": [
              "3"
            ]
          },
          "metadata": {},
          "execution_count": 90
        }
      ],
      "source": [
        "num_lst = [1, 1, 2, 3, 4, 5, 6, 7, 8, 1, 9, 9]\n",
        "num_lst.count(1)"
      ]
    },
    {
      "cell_type": "code",
      "execution_count": 91,
      "metadata": {
        "id": "UBBT1MKEk2Gf",
        "colab": {
          "base_uri": "https://localhost:8080/"
        },
        "outputId": "5299c5df-2aa6-4aad-f989-785d42ff5b96"
      },
      "outputs": [
        {
          "output_type": "execute_result",
          "data": {
            "text/plain": [
              "0"
            ]
          },
          "metadata": {},
          "execution_count": 91
        }
      ],
      "source": [
        "num_lst.count(0)"
      ]
    },
    {
      "cell_type": "code",
      "execution_count": 92,
      "metadata": {
        "id": "6NeY_lGhk2Gf",
        "colab": {
          "base_uri": "https://localhost:8080/"
        },
        "outputId": "4cdd1ebc-d42f-424d-cdc5-f427a818c805"
      },
      "outputs": [
        {
          "output_type": "execute_result",
          "data": {
            "text/plain": [
              "True"
            ]
          },
          "metadata": {},
          "execution_count": 92
        }
      ],
      "source": [
        "num_lst.count(9) > 1"
      ]
    },
    {
      "cell_type": "code",
      "execution_count": 93,
      "metadata": {
        "id": "cNpcDnr3k2Gf",
        "colab": {
          "base_uri": "https://localhost:8080/"
        },
        "outputId": "5408890a-c7bc-4220-f201-dd70bee457ec"
      },
      "outputs": [
        {
          "output_type": "execute_result",
          "data": {
            "text/plain": [
              "True"
            ]
          },
          "metadata": {},
          "execution_count": 93
        }
      ],
      "source": [
        "4 in num_lst ## Otra forma de ver la pertenencia. "
      ]
    },
    {
      "cell_type": "code",
      "execution_count": 94,
      "metadata": {
        "id": "Hybw6wNok2Gf",
        "colab": {
          "base_uri": "https://localhost:8080/"
        },
        "outputId": "260c205d-ec55-4d07-f22b-fdb604a87568"
      },
      "outputs": [
        {
          "output_type": "execute_result",
          "data": {
            "text/plain": [
              "False"
            ]
          },
          "metadata": {},
          "execution_count": 94
        }
      ],
      "source": [
        "13 in num_lst"
      ]
    },
    {
      "cell_type": "markdown",
      "metadata": {
        "id": "GzwU6ESEk2Gf"
      },
      "source": [
        "### - `reverse`"
      ]
    },
    {
      "cell_type": "code",
      "execution_count": 95,
      "metadata": {
        "id": "PfsBDM4Ek2Gf",
        "colab": {
          "base_uri": "https://localhost:8080/"
        },
        "outputId": "eb66787c-f812-47cd-a20d-b53b24f5809e"
      },
      "outputs": [
        {
          "output_type": "execute_result",
          "data": {
            "text/plain": [
              "[9, 9, 1, 8, 7, 6, 5, 4, 3, 2, 1, 1]"
            ]
          },
          "metadata": {},
          "execution_count": 95
        }
      ],
      "source": [
        "num_lst.reverse()\n",
        "num_lst"
      ]
    },
    {
      "cell_type": "markdown",
      "metadata": {
        "id": "3Yd3-_X9k2Gf"
      },
      "source": [
        "###  - `sort`"
      ]
    },
    {
      "cell_type": "code",
      "execution_count": 96,
      "metadata": {
        "id": "YnUcw-RCk2Gg",
        "colab": {
          "base_uri": "https://localhost:8080/"
        },
        "outputId": "4dbff623-2229-4869-b5e3-f6ec8dc18f85"
      },
      "outputs": [
        {
          "output_type": "execute_result",
          "data": {
            "text/plain": [
              "[1, 1, 1, 2, 3, 4, 5, 6, 7, 8, 9, 9]"
            ]
          },
          "metadata": {},
          "execution_count": 96
        }
      ],
      "source": [
        "num_lst.sort()\n",
        "num_lst"
      ]
    },
    {
      "cell_type": "markdown",
      "metadata": {
        "id": "sKlSu0Cuk2Gg"
      },
      "source": [
        "### Métodos para listas numéricas"
      ]
    },
    {
      "cell_type": "code",
      "execution_count": 97,
      "metadata": {
        "id": "yv0CxnuOk2Gg",
        "colab": {
          "base_uri": "https://localhost:8080/"
        },
        "outputId": "4df4a0cc-bdb8-4bf0-d703-77d43a499508"
      },
      "outputs": [
        {
          "output_type": "execute_result",
          "data": {
            "text/plain": [
              "56"
            ]
          },
          "metadata": {},
          "execution_count": 97
        }
      ],
      "source": [
        "sum(num_lst)"
      ]
    },
    {
      "cell_type": "code",
      "execution_count": 98,
      "metadata": {
        "id": "_d2K-21Hk2Gg",
        "colab": {
          "base_uri": "https://localhost:8080/"
        },
        "outputId": "9b315f8d-7132-44cb-e782-aac6937a3254"
      },
      "outputs": [
        {
          "output_type": "execute_result",
          "data": {
            "text/plain": [
              "1"
            ]
          },
          "metadata": {},
          "execution_count": 98
        }
      ],
      "source": [
        "min(num_lst)"
      ]
    },
    {
      "cell_type": "code",
      "execution_count": 101,
      "metadata": {
        "id": "it21EP-ok2Gg",
        "colab": {
          "base_uri": "https://localhost:8080/"
        },
        "outputId": "c24bbc54-eeea-477e-f8ff-d52f923afd6b"
      },
      "outputs": [
        {
          "output_type": "execute_result",
          "data": {
            "text/plain": [
              "9"
            ]
          },
          "metadata": {},
          "execution_count": 101
        }
      ],
      "source": [
        "max(num_lst)"
      ]
    },
    {
      "cell_type": "code",
      "execution_count": 100,
      "metadata": {
        "id": "q7ZoATSEk2Gg",
        "colab": {
          "base_uri": "https://localhost:8080/"
        },
        "outputId": "86671afc-3a1b-4a75-bc81-27c2f027290f"
      },
      "outputs": [
        {
          "output_type": "execute_result",
          "data": {
            "text/plain": [
              "12"
            ]
          },
          "metadata": {},
          "execution_count": 100
        }
      ],
      "source": [
        "len(num_lst)"
      ]
    },
    {
      "cell_type": "code",
      "execution_count": 102,
      "metadata": {
        "id": "k4NVXwOIk2Gj",
        "colab": {
          "base_uri": "https://localhost:8080/"
        },
        "outputId": "f6b688f0-e705-4cf8-c02b-484c8e558d2d"
      },
      "outputs": [
        {
          "output_type": "execute_result",
          "data": {
            "text/plain": [
              "4.666666666666667"
            ]
          },
          "metadata": {},
          "execution_count": 102
        }
      ],
      "source": [
        "sum(num_lst)/len(num_lst)"
      ]
    },
    {
      "cell_type": "code",
      "execution_count": 103,
      "metadata": {
        "id": "rzcOXNxrk2Gj",
        "colab": {
          "base_uri": "https://localhost:8080/"
        },
        "outputId": "98a42311-fd10-48ec-d35c-ff232fc74339"
      },
      "outputs": [
        {
          "output_type": "execute_result",
          "data": {
            "text/plain": [
              "[1, 1, 1, 2, 3, 4, 5, 6, 7, 8, 9, 9]"
            ]
          },
          "metadata": {},
          "execution_count": 103
        }
      ],
      "source": [
        "num_lst"
      ]
    },
    {
      "cell_type": "markdown",
      "metadata": {
        "id": "5QZYdM9Fk2Gj"
      },
      "source": [
        "Se pueden hacer operaciones con los elementos (numéricos) de una lista"
      ]
    },
    {
      "cell_type": "code",
      "execution_count": 104,
      "metadata": {
        "id": "sNWfsSJwk2Gj",
        "colab": {
          "base_uri": "https://localhost:8080/"
        },
        "outputId": "30239866-d2e2-4c2c-8f80-5a5504b825ef"
      },
      "outputs": [
        {
          "output_type": "stream",
          "name": "stdout",
          "text": [
            "[1, 1, 1, 2, 3, 4, 5, 6, 7, 8, 9, 9]\n",
            "2\n"
          ]
        }
      ],
      "source": [
        "print(num_lst)\n",
        "\n",
        "print(num_lst[1] * num_lst[2] * num_lst[3])"
      ]
    },
    {
      "cell_type": "markdown",
      "metadata": {
        "id": "-OH7RaQkk2Gk"
      },
      "source": [
        "###  Listas de listas"
      ]
    },
    {
      "cell_type": "code",
      "execution_count": 105,
      "metadata": {
        "id": "kjQq9Ndik2Gk"
      },
      "outputs": [],
      "source": [
        "mat = [[1, 2, 3], [4, 5, 6], [7, 8, 9]]"
      ]
    },
    {
      "cell_type": "code",
      "execution_count": 106,
      "metadata": {
        "id": "ExQc_7knk2Gk",
        "colab": {
          "base_uri": "https://localhost:8080/"
        },
        "outputId": "8359af20-2c87-4904-85f3-0adcb1374a66"
      },
      "outputs": [
        {
          "output_type": "execute_result",
          "data": {
            "text/plain": [
              "[[1, 2, 3], [4, 5, 6], [7, 8, 9]]"
            ]
          },
          "metadata": {},
          "execution_count": 106
        }
      ],
      "source": [
        "mat"
      ]
    },
    {
      "cell_type": "code",
      "execution_count": 107,
      "metadata": {
        "id": "WWnQi4oCk2Gk",
        "colab": {
          "base_uri": "https://localhost:8080/"
        },
        "outputId": "be1901f1-d359-4d5c-dc8c-97e9413e3d67"
      },
      "outputs": [
        {
          "output_type": "execute_result",
          "data": {
            "text/plain": [
              "2"
            ]
          },
          "metadata": {},
          "execution_count": 107
        }
      ],
      "source": [
        "mat[0][1]"
      ]
    },
    {
      "cell_type": "code",
      "execution_count": 108,
      "metadata": {
        "id": "TLRGNdF5k2Gk",
        "colab": {
          "base_uri": "https://localhost:8080/"
        },
        "outputId": "a6d4a910-0019-4ef0-e73f-96cddfa6a6dd"
      },
      "outputs": [
        {
          "output_type": "execute_result",
          "data": {
            "text/plain": [
              "9"
            ]
          },
          "metadata": {},
          "execution_count": 108
        }
      ],
      "source": [
        "mat[2][2]"
      ]
    },
    {
      "cell_type": "code",
      "execution_count": 109,
      "metadata": {
        "id": "XkHY1lMOk2Gk"
      },
      "outputs": [],
      "source": [
        "lista_vacia = []\n",
        "lista_llena= [[1,2,3,4,5], [6,7,8,9,10], ['Economia', ['Sociologia',  'Antropologia'], 'Finanzas', 'Ciencia Política']]\n"
      ]
    },
    {
      "cell_type": "code",
      "execution_count": 110,
      "metadata": {
        "id": "qbG4VgwWk2Gk",
        "colab": {
          "base_uri": "https://localhost:8080/",
          "height": 35
        },
        "outputId": "7878d6ed-78ac-4a86-ed5b-7ddd7422a3aa"
      },
      "outputs": [
        {
          "output_type": "execute_result",
          "data": {
            "text/plain": [
              "'Finanzas'"
            ],
            "application/vnd.google.colaboratory.intrinsic+json": {
              "type": "string"
            }
          },
          "metadata": {},
          "execution_count": 110
        }
      ],
      "source": [
        "lista_llena[2][2]"
      ]
    },
    {
      "cell_type": "code",
      "execution_count": 110,
      "metadata": {
        "id": "PSm0K4pHk2Gk"
      },
      "outputs": [],
      "source": [
        ""
      ]
    }
  ],
  "metadata": {
    "kernelspec": {
      "display_name": "Python 3",
      "language": "python",
      "name": "python3"
    },
    "language_info": {
      "codemirror_mode": {
        "name": "ipython",
        "version": 3
      },
      "file_extension": ".py",
      "mimetype": "text/x-python",
      "name": "python",
      "nbconvert_exporter": "python",
      "pygments_lexer": "ipython3",
      "version": "3.8.5"
    },
    "colab": {
      "name": "Listas.ipynb",
      "provenance": [],
      "include_colab_link": true
    }
  },
  "nbformat": 4,
  "nbformat_minor": 0
}