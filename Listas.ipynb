{
  "cells": [
    {
      "cell_type": "markdown",
      "metadata": {
        "id": "view-in-github",
        "colab_type": "text"
      },
      "source": [
        "<a href=\"https://colab.research.google.com/github/darlaabril/Taller-Python/blob/main/Listas.ipynb\" target=\"_parent\"><img src=\"https://colab.research.google.com/assets/colab-badge.svg\" alt=\"Open In Colab\"/></a>"
      ]
    },
    {
      "cell_type": "markdown",
      "metadata": {
        "id": "HD8XWKcIk2GJ"
      },
      "source": [
        "# Listas"
      ]
    },
    {
      "cell_type": "markdown",
      "metadata": {
        "id": "JS2YYug6k2GO"
      },
      "source": [
        "Hasta ahora los tipos de datos que hemos estudiado tienen un sólo elemento. Sin embargo, hay estructuras más complejas que pueden contener varios de esos tipos de datos. \n",
        "\n",
        "Las listas nos permiten almacenar y trabajar varios tipos de datos como una lista ordenada de valores.\n",
        "\n",
        "Es una estructura de datos muy versátil y puede hacer muchas tareas. Se usa muchísimo al escribir Python ya que es muy sencilla y por ello muy ideal de aprender al principio.\n"
      ]
    },
    {
      "cell_type": "markdown",
      "metadata": {
        "id": "LZcUqv3bk2GQ"
      },
      "source": [
        "Elaboración de una lista"
      ]
    },
    {
      "cell_type": "code",
      "execution_count": 45,
      "metadata": {
        "id": "BUYP6Kn3k2GR",
        "outputId": "79a91314-7ee4-4971-cac7-35e2b41a43fc",
        "colab": {
          "base_uri": "https://localhost:8080/"
        }
      },
      "outputs": [
        {
          "output_type": "stream",
          "name": "stdout",
          "text": [
            "[1, 2, 3, 4, 5]\n"
          ]
        }
      ],
      "source": [
        "lst = [1,2,3,4,5] # Brackets con elementos separados por comas\n",
        "print(lst)\n"
      ]
    },
    {
      "cell_type": "code",
      "execution_count": 1,
      "metadata": {
        "id": "iya4DvYBk2GT"
      },
      "outputs": [],
      "source": [
        ""
      ]
    },
    {
      "cell_type": "code",
      "execution_count": 4,
      "metadata": {
        "id": "7_HT_YQ6k2GU"
      },
      "outputs": [],
      "source": [
        "Carreras = [\"Sociología\", \"Economía\", \"Antropologia\", \"Finanzas\", \"Ciencia Política\"]\n"
      ]
    },
    {
      "cell_type": "markdown",
      "metadata": {
        "id": "Nlg7ooy7k2GU"
      },
      "source": [
        "Las listas pueden contener elementos de diferentes tipos"
      ]
    },
    {
      "cell_type": "code",
      "execution_count": 6,
      "metadata": {
        "id": "tprfDjZgk2GV",
        "outputId": "32932ae0-7ef9-4bde-e4f8-23c580054435",
        "colab": {
          "base_uri": "https://localhost:8080/"
        }
      },
      "outputs": [
        {
          "output_type": "execute_result",
          "data": {
            "text/plain": [
              "[5, 'hola', 50.55, True, 'chau']"
            ]
          },
          "metadata": {},
          "execution_count": 6
        }
      ],
      "source": [
        "mi_lista = [5, 'hola', 50.55, True, 'chau']\n",
        "mi_lista"
      ]
    },
    {
      "cell_type": "markdown",
      "metadata": {
        "id": "QjJSYJhTk2GV"
      },
      "source": [
        "Usualmente, trabajamos con listas que tienen datos del mismo tipo, ya que iteramos con ellas y el código podría arrojar error. "
      ]
    },
    {
      "cell_type": "markdown",
      "metadata": {
        "id": "kkGGHx-zk2GW"
      },
      "source": [
        "Aquí los brackets son diferentes a los que se usan para rebanar strings!"
      ]
    },
    {
      "cell_type": "code",
      "execution_count": 8,
      "metadata": {
        "id": "_OnLJve4k2GW",
        "outputId": "af45d4e6-4f8b-4cef-cd1f-feb88477af12",
        "colab": {
          "base_uri": "https://localhost:8080/"
        }
      },
      "outputs": [
        {
          "output_type": "execute_result",
          "data": {
            "text/plain": [
              "17"
            ]
          },
          "metadata": {},
          "execution_count": 8
        }
      ],
      "source": [
        "mensaje = \"Bienvenidos todos\"\n",
        "mensaje[0:10]\n",
        "\n",
        "len(mensaje)"
      ]
    },
    {
      "cell_type": "markdown",
      "metadata": {
        "id": "7X3a9YIjk2GX"
      },
      "source": [
        "Aquí creamos una lista vacía"
      ]
    },
    {
      "cell_type": "code",
      "execution_count": 9,
      "metadata": {
        "id": "QIiq70jbk2GX"
      },
      "outputs": [],
      "source": [
        "vacia = []"
      ]
    },
    {
      "cell_type": "markdown",
      "metadata": {
        "id": "Sb1luJF_k2GX"
      },
      "source": [
        "Se pueden sumar listas"
      ]
    },
    {
      "cell_type": "code",
      "execution_count": 10,
      "metadata": {
        "id": "e9aTPlhpk2GX",
        "outputId": "8d9e2107-218a-4163-c43f-2c19d5ebe57e",
        "colab": {
          "base_uri": "https://localhost:8080/"
        }
      },
      "outputs": [
        {
          "output_type": "execute_result",
          "data": {
            "text/plain": [
              "[1, 2, 3, 4, 5, 6, 7, 8, 9, 10]"
            ]
          },
          "metadata": {},
          "execution_count": 10
        }
      ],
      "source": [
        "primera_parte = [1, 2, 3, 4, 5]\n",
        "segunda_parte = [6, 7, 8, 9, 10]\n",
        "\n",
        "primera_parte + segunda_parte"
      ]
    },
    {
      "cell_type": "code",
      "execution_count": 11,
      "metadata": {
        "id": "dhx_C-5Vk2GY",
        "outputId": "77d7169f-1a7f-4712-a473-e8c14017c40a",
        "colab": {
          "base_uri": "https://localhost:8080/"
        }
      },
      "outputs": [
        {
          "output_type": "execute_result",
          "data": {
            "text/plain": [
              "1"
            ]
          },
          "metadata": {},
          "execution_count": 11
        }
      ],
      "source": [
        "primera_parte[0]"
      ]
    },
    {
      "cell_type": "markdown",
      "metadata": {
        "id": "QUK_Uq54k2GY"
      },
      "source": [
        "A veces queremos una lista de un tamaño determinado: "
      ]
    },
    {
      "cell_type": "code",
      "execution_count": 12,
      "metadata": {
        "id": "n-ZFRnZpk2GY",
        "outputId": "19562bcf-5389-407a-bd0f-a0e2964eb095",
        "colab": {
          "base_uri": "https://localhost:8080/"
        }
      },
      "outputs": [
        {
          "output_type": "execute_result",
          "data": {
            "text/plain": [
              "[0, 0, 0, 0, 0, 0, 0, 0, 0, 0, 0, 0, 0, 0, 0]"
            ]
          },
          "metadata": {},
          "execution_count": 12
        }
      ],
      "source": [
        "n = 15\n",
        "lst = [0] * n\n",
        "lst"
      ]
    },
    {
      "cell_type": "code",
      "execution_count": 13,
      "metadata": {
        "id": "fWEzd4iXk2GY",
        "outputId": "928686e8-2cf1-40d0-c274-c5d204a591d6",
        "colab": {
          "base_uri": "https://localhost:8080/"
        }
      },
      "outputs": [
        {
          "output_type": "stream",
          "name": "stdout",
          "text": [
            "[0, 1, 2, 0, 1, 2, 0, 1, 2, 0, 1, 2, 0, 1, 2, 0, 1, 2, 0, 1, 2, 0, 1, 2, 0, 1, 2, 0, 1, 2]\n"
          ]
        }
      ],
      "source": [
        "n = 10\n",
        "lst = [0, 1, 2] * n\n",
        "print(lst)   ## La multiplicación repite la lista n veces\n"
      ]
    },
    {
      "cell_type": "markdown",
      "metadata": {
        "id": "KVDaK36Mk2GZ"
      },
      "source": [
        "Podemos ver cuántos elementos tiene una lista"
      ]
    },
    {
      "cell_type": "code",
      "execution_count": 14,
      "metadata": {
        "id": "uTxyMuILk2GZ",
        "outputId": "94132c5b-77cb-412b-935b-493ef2909316",
        "colab": {
          "base_uri": "https://localhost:8080/"
        }
      },
      "outputs": [
        {
          "output_type": "stream",
          "name": "stdout",
          "text": [
            "5\n",
            "5\n",
            "30\n"
          ]
        }
      ],
      "source": [
        "print(len(mi_lista))\n",
        "print(len(segunda_parte))\n",
        "print(len(lst))\n",
        "\n",
        "\n"
      ]
    },
    {
      "cell_type": "markdown",
      "metadata": {
        "id": "xyyzbtbJk2GZ"
      },
      "source": [
        "Se pueden acceder a elementos individuales de una lista.   \n",
        "\n",
        "Python es un lenguaje indexado en 0, por lo que la enumeración de las listas empieza en 0\n"
      ]
    },
    {
      "cell_type": "code",
      "execution_count": 17,
      "metadata": {
        "id": "sr7AUKSUk2GZ",
        "outputId": "4a529881-86e9-4ff3-ed46-a3a453066176",
        "colab": {
          "base_uri": "https://localhost:8080/"
        }
      },
      "outputs": [
        {
          "output_type": "execute_result",
          "data": {
            "text/plain": [
              "['Sociología',\n",
              " 'Economía',\n",
              " 'Antropologia',\n",
              " 'Finanzas',\n",
              " 'Ciencia Política',\n",
              " 'Relaciones Internacionales']"
            ]
          },
          "metadata": {},
          "execution_count": 17
        }
      ],
      "source": [
        "Carreras"
      ]
    },
    {
      "cell_type": "code",
      "execution_count": 18,
      "metadata": {
        "id": "263drZM9k2GZ",
        "outputId": "10f96874-106d-4f17-92fd-200752761c67",
        "colab": {
          "base_uri": "https://localhost:8080/",
          "height": 35
        }
      },
      "outputs": [
        {
          "output_type": "execute_result",
          "data": {
            "text/plain": [
              "'Sociología'"
            ],
            "application/vnd.google.colaboratory.intrinsic+json": {
              "type": "string"
            }
          },
          "metadata": {},
          "execution_count": 18
        }
      ],
      "source": [
        "Carreras[0]"
      ]
    },
    {
      "cell_type": "code",
      "execution_count": 20,
      "metadata": {
        "id": "pI0V6pffk2GZ",
        "outputId": "85904698-2bb1-49f3-816f-b2144c9b8970",
        "colab": {
          "base_uri": "https://localhost:8080/",
          "height": 35
        }
      },
      "outputs": [
        {
          "output_type": "execute_result",
          "data": {
            "text/plain": [
              "'Finanzas'"
            ],
            "application/vnd.google.colaboratory.intrinsic+json": {
              "type": "string"
            }
          },
          "metadata": {},
          "execution_count": 20
        }
      ],
      "source": [
        "Carreras[3]"
      ]
    },
    {
      "cell_type": "markdown",
      "metadata": {
        "id": "g46I1ZjDk2Ga"
      },
      "source": [
        "Se puede acceder a una rebanada de la lista"
      ]
    },
    {
      "cell_type": "code",
      "execution_count": 21,
      "metadata": {
        "id": "pEs6oTw5k2Ga",
        "outputId": "13487603-d0d0-4740-f739-68344f6e7b45",
        "colab": {
          "base_uri": "https://localhost:8080/"
        }
      },
      "outputs": [
        {
          "output_type": "execute_result",
          "data": {
            "text/plain": [
              "['Sociología', 'Economía', 'Antropologia', 'Finanzas']"
            ]
          },
          "metadata": {},
          "execution_count": 21
        }
      ],
      "source": [
        "Carreras[0:4] ## El ultimo elemento del intervalo no está incluido!"
      ]
    },
    {
      "cell_type": "code",
      "execution_count": 22,
      "metadata": {
        "id": "hpOKHHIhk2Ga",
        "outputId": "74c9af15-75a6-4900-9349-20390b6dc858",
        "colab": {
          "base_uri": "https://localhost:8080/",
          "height": 35
        }
      },
      "outputs": [
        {
          "output_type": "execute_result",
          "data": {
            "text/plain": [
              "'Relaciones Internacionales'"
            ],
            "application/vnd.google.colaboratory.intrinsic+json": {
              "type": "string"
            }
          },
          "metadata": {},
          "execution_count": 22
        }
      ],
      "source": [
        "Carreras[-1] # Eligiendo el último elemento de la  lista"
      ]
    },
    {
      "cell_type": "code",
      "execution_count": 23,
      "metadata": {
        "id": "argDGYr2k2Ga",
        "outputId": "d3f8d58d-9f35-46d1-912c-8c55e383ef15",
        "colab": {
          "base_uri": "https://localhost:8080/",
          "height": 35
        }
      },
      "outputs": [
        {
          "output_type": "execute_result",
          "data": {
            "text/plain": [
              "'Ciencia Política'"
            ],
            "application/vnd.google.colaboratory.intrinsic+json": {
              "type": "string"
            }
          },
          "metadata": {},
          "execution_count": 23
        }
      ],
      "source": [
        "Carreras[-2] # El penúltimo"
      ]
    },
    {
      "cell_type": "code",
      "execution_count": 26,
      "metadata": {
        "id": "TWMJWUBDk2Ga",
        "outputId": "693eff32-7bf6-4e58-d5dc-051b6b318e8e",
        "colab": {
          "base_uri": "https://localhost:8080/"
        }
      },
      "outputs": [
        {
          "output_type": "stream",
          "name": "stdout",
          "text": [
            "['Sociología', 'Economía', 'Antropologia', 'Finanzas', 'Ciencia Política', 'Relaciones Internacionales']\n",
            "['Economía', 'Antropologia', 'Finanzas']\n"
          ]
        }
      ],
      "source": [
        "print(Carreras)\n",
        "print(Carreras[1:-2]) # Eligiendo desde el elemento 2 hasta el penúltimo (útil cuando no sabemos el total de los elementos)"
      ]
    },
    {
      "cell_type": "code",
      "execution_count": 27,
      "metadata": {
        "id": "T-OgbCnik2Ga",
        "outputId": "a2d5b958-b4bb-4d15-aea6-0a04cbf7e5da",
        "colab": {
          "base_uri": "https://localhost:8080/"
        }
      },
      "outputs": [
        {
          "output_type": "execute_result",
          "data": {
            "text/plain": [
              "['Finanzas', 'Ciencia Política', 'Relaciones Internacionales']"
            ]
          },
          "metadata": {},
          "execution_count": 27
        }
      ],
      "source": [
        "Carreras[3:len(Carreras)] # Rebanando con el length de la lista"
      ]
    },
    {
      "cell_type": "code",
      "execution_count": 28,
      "metadata": {
        "id": "FVDgz9XJk2Ga",
        "outputId": "3c164f4e-8c67-4abc-f2b1-e133ead6c5f3",
        "colab": {
          "base_uri": "https://localhost:8080/"
        }
      },
      "outputs": [
        {
          "output_type": "execute_result",
          "data": {
            "text/plain": [
              "[1, 3, 5, 7]"
            ]
          },
          "metadata": {},
          "execution_count": 28
        }
      ],
      "source": [
        "nums = [0,1,2,3,4,5,6,7,8,9]\n",
        "nums[1:8:2] #Rebanando desde el elemento 1 al 8(no inclusivo) cada 2 elementos. "
      ]
    },
    {
      "cell_type": "code",
      "execution_count": 30,
      "metadata": {
        "id": "3bcU7pRpk2Ga",
        "outputId": "84a76824-a464-40a6-d9e5-bdc67dda6afa",
        "colab": {
          "base_uri": "https://localhost:8080/"
        }
      },
      "outputs": [
        {
          "output_type": "execute_result",
          "data": {
            "text/plain": [
              "[9, 8, 7, 6, 5, 4, 3, 2, 1, 0]"
            ]
          },
          "metadata": {},
          "execution_count": 30
        }
      ],
      "source": [
        "nums[::-1] ## Así invertimos una lista.  Si los elementos se quedan vacíos, asume todo el rango. "
      ]
    },
    {
      "cell_type": "markdown",
      "metadata": {
        "id": "SXkUvtZ0k2Ga"
      },
      "source": [
        "Las listas pueden tener indexes fuera de rango. En este ejemplo, el indice 20 se comporta igual que len(lst) + 1.  \n",
        "\n",
        "No tener que preocuparnos por los indexes, puede ser conveniente!"
      ]
    },
    {
      "cell_type": "code",
      "execution_count": 32,
      "metadata": {
        "id": "xUXoqnLvk2Gb",
        "outputId": "74a50f33-79bf-4ff8-9b07-4f064bd0dbaa",
        "colab": {
          "base_uri": "https://localhost:8080/"
        }
      },
      "outputs": [
        {
          "output_type": "stream",
          "name": "stdout",
          "text": [
            "[0, 1, 2, 3, 4, 5, 6, 7, 8, 9]\n",
            "[0, 1, 2, 3, 4, 5, 6, 7, 8, 9]\n",
            "[0, 1, 2, 3, 4, 5, 6, 7, 8, 9]\n"
          ]
        }
      ],
      "source": [
        "print(nums[0:20]) \n",
        "print(nums[0:len(nums)+ 1])\n",
        "print(nums[0:len(nums)])\n"
      ]
    },
    {
      "cell_type": "code",
      "execution_count": 33,
      "metadata": {
        "id": "GpH0wmLuk2Gb",
        "outputId": "d2dc101c-9bf5-4fb1-f592-5cb88238df5e",
        "colab": {
          "base_uri": "https://localhost:8080/"
        }
      },
      "outputs": [
        {
          "output_type": "execute_result",
          "data": {
            "text/plain": [
              "11"
            ]
          },
          "metadata": {},
          "execution_count": 33
        }
      ],
      "source": [
        "len(nums)+ 1"
      ]
    },
    {
      "cell_type": "code",
      "execution_count": 34,
      "metadata": {
        "id": "bZuiRnTTk2Gb",
        "outputId": "b00847b3-882d-4d41-9924-1c258eccdf2e",
        "colab": {
          "base_uri": "https://localhost:8080/"
        }
      },
      "outputs": [
        {
          "output_type": "execute_result",
          "data": {
            "text/plain": [
              "11"
            ]
          },
          "metadata": {},
          "execution_count": 34
        }
      ],
      "source": [
        "len(nums)+ 1"
      ]
    },
    {
      "cell_type": "markdown",
      "metadata": {
        "id": "W4HRdv2Vk2Gb"
      },
      "source": [
        "## Modificando una lista\n",
        "\n",
        "Las listas son objetos **mutables**, lo cual indica que sus valores se pueden modificar después de su creación (se pueden cambiar, agregar, eliminar elementos). Otras estructuras, como los strings y las tuplas, no se pueden cambiar. "
      ]
    },
    {
      "cell_type": "markdown",
      "metadata": {
        "id": "GYUKQcAtk2Gb"
      },
      "source": [
        "Para modificar una lista, podemos hacer lo siguiente"
      ]
    },
    {
      "cell_type": "code",
      "execution_count": 36,
      "metadata": {
        "id": "_zZZ9DIrk2Gb",
        "outputId": "2bc833b7-37b4-47c8-9727-e04accf10ffd",
        "colab": {
          "base_uri": "https://localhost:8080/"
        }
      },
      "outputs": [
        {
          "output_type": "execute_result",
          "data": {
            "text/plain": [
              "['Sociología',\n",
              " 'Economía',\n",
              " 'Antropologia',\n",
              " 'Sociologia',\n",
              " 'Ciencia Política',\n",
              " 'Relaciones Internacionales']"
            ]
          },
          "metadata": {},
          "execution_count": 36
        }
      ],
      "source": [
        "Carreras[3] = \"Sociologia\"\n",
        "Carreras\n"
      ]
    },
    {
      "cell_type": "markdown",
      "metadata": {
        "id": "coxMDVdfk2Gb"
      },
      "source": [
        "## Una propiedad curiosa de las listas "
      ]
    },
    {
      "cell_type": "markdown",
      "metadata": {
        "id": "ghoZCKs2k2Gb"
      },
      "source": [
        "Imaginen que tenemos una lista, y queremos hacer una copia de dicha lista:"
      ]
    },
    {
      "cell_type": "code",
      "execution_count": 37,
      "metadata": {
        "id": "1BPgjNpck2Gc"
      },
      "outputs": [],
      "source": [
        "lst_a = [1,2,3,4]\n",
        "lst_b = lst_a"
      ]
    },
    {
      "cell_type": "markdown",
      "metadata": {
        "id": "tbCkCOSqk2Gc"
      },
      "source": [
        "Ahora, modifiquemos la lst_a:"
      ]
    },
    {
      "cell_type": "code",
      "execution_count": 38,
      "metadata": {
        "id": "2ReHLHoEk2Gc",
        "outputId": "10e94f76-19a7-4b0e-b603-75ce203a64a5",
        "colab": {
          "base_uri": "https://localhost:8080/"
        }
      },
      "outputs": [
        {
          "output_type": "execute_result",
          "data": {
            "text/plain": [
              "[1, 2, 5, 4]"
            ]
          },
          "metadata": {},
          "execution_count": 38
        }
      ],
      "source": [
        "lst_a[2] = 5\n",
        "lst_a"
      ]
    },
    {
      "cell_type": "markdown",
      "metadata": {
        "id": "jlflCdxik2Gc"
      },
      "source": [
        "¿ Qué pasó con la otra lista? "
      ]
    },
    {
      "cell_type": "code",
      "execution_count": 39,
      "metadata": {
        "id": "BADGutDPk2Gc",
        "outputId": "a4b48fbd-aa48-4cdf-b05d-634c564227e2",
        "colab": {
          "base_uri": "https://localhost:8080/"
        }
      },
      "outputs": [
        {
          "output_type": "execute_result",
          "data": {
            "text/plain": [
              "[1, 2, 5, 4]"
            ]
          },
          "metadata": {},
          "execution_count": 39
        }
      ],
      "source": [
        "lst_b"
      ]
    },
    {
      "cell_type": "markdown",
      "metadata": {
        "id": "bgQj3HIsk2Gc"
      },
      "source": [
        "También ha cambiado!!!"
      ]
    },
    {
      "cell_type": "markdown",
      "metadata": {
        "id": "uBeT4T2gk2Gc"
      },
      "source": [
        "### Por qué pasa esto? \n",
        "Cuando creamos una lista, como la lst_b, que hace referencia a otra lista, la lst_a, no estamos creando un objeto nuevo. Simplemente **hacemos referencia** al mismo objeto, pues los dos señalan el mismo espacio que dicho objeto ocupa en la memoria. Cualquier modificación que se haga, ya sea a lst_a o lst_b, modificará al mismo objeto. \n",
        "\n",
        "### ¿Cómo probamos cuándo hacemos referencia al mismo objeto?"
      ]
    },
    {
      "cell_type": "markdown",
      "metadata": {
        "id": "BghpLrRgk2Gc"
      },
      "source": [
        "Aquí introducimos el comando `id`"
      ]
    },
    {
      "cell_type": "code",
      "execution_count": 40,
      "metadata": {
        "id": "kkt-hojDk2Gc",
        "outputId": "17e9c8ab-1f7c-4ae3-b662-82856d5ce23b",
        "colab": {
          "base_uri": "https://localhost:8080/"
        }
      },
      "outputs": [
        {
          "output_type": "stream",
          "name": "stdout",
          "text": [
            "139976296984400\n",
            "139976296984400\n"
          ]
        }
      ],
      "source": [
        "print(id(lst_a))\n",
        "print(id(lst_b)) ## Tienen los mismos ids!"
      ]
    },
    {
      "cell_type": "markdown",
      "metadata": {
        "id": "yIuoow1fk2Gc"
      },
      "source": [
        "El operador `is` nos ayuda a determinar si dos variables se refieren al mismo objeto:"
      ]
    },
    {
      "cell_type": "code",
      "execution_count": 41,
      "metadata": {
        "id": "-_TwPhUlk2Gd",
        "outputId": "53e96f0e-a38c-4878-f278-828c9dd51f87",
        "colab": {
          "base_uri": "https://localhost:8080/"
        }
      },
      "outputs": [
        {
          "output_type": "execute_result",
          "data": {
            "text/plain": [
              "True"
            ]
          },
          "metadata": {},
          "execution_count": 41
        }
      ],
      "source": [
        "lst_a is lst_b"
      ]
    },
    {
      "cell_type": "markdown",
      "metadata": {
        "id": "8vGBpADxk2Gd"
      },
      "source": [
        "### Los nombres de variables son como referencias\n",
        "\n",
        "Cuando nombramos a una variable, la variable no es su nombre en sí, sino es una referencia a un lugar de la memoria. La `lst_a` no es [1,2,3,4] , sino hace referencia a dicho objeto. La `lst_b`, al haberla creado como `lst_b` = `lst_a`, también hace referencia al mismo objeto. \n",
        "\n",
        "Los nombres son como \"etiquetas\" o \"alias\" que se le dan a los objetos. En este caso, hicimos una copia falsa."
      ]
    },
    {
      "cell_type": "markdown",
      "metadata": {
        "id": "cVRcSeK6k2Gd"
      },
      "source": [
        "[0]: ./img/lsts.png"
      ]
    },
    {
      "cell_type": "markdown",
      "metadata": {
        "id": "tSQCQxmNk2Gd"
      },
      "source": [
        "<img src=\"https://github.com/darlaabril/Taller-Python/blob/main/img/lsts.png?raw=1\" width=\"800\">\n"
      ]
    },
    {
      "cell_type": "markdown",
      "metadata": {
        "id": "Ibt74sYqk2Gd"
      },
      "source": [
        "### Haciendo una copia que no referencie al mismo objeto:\n",
        "\n",
        "Si queremos hacer una copia independiente basada en una lista preexistente, solo tenemos que hacer:"
      ]
    },
    {
      "cell_type": "code",
      "execution_count": null,
      "metadata": {
        "id": "7QDCbj87k2Gd"
      },
      "outputs": [],
      "source": [
        "lst_c  = lst_a[:]"
      ]
    },
    {
      "cell_type": "code",
      "execution_count": null,
      "metadata": {
        "id": "7yhbWFkRk2Gd"
      },
      "outputs": [],
      "source": [
        "id(lst_c)"
      ]
    },
    {
      "cell_type": "code",
      "execution_count": null,
      "metadata": {
        "id": "NFmMs6vok2Gd"
      },
      "outputs": [],
      "source": [
        "id(lst_a)"
      ]
    },
    {
      "cell_type": "code",
      "execution_count": null,
      "metadata": {
        "id": "OA9Zm2hok2Gd"
      },
      "outputs": [],
      "source": [
        "lst_c is lst_a"
      ]
    },
    {
      "cell_type": "code",
      "execution_count": null,
      "metadata": {
        "id": "EhegKHaIk2Gd"
      },
      "outputs": [],
      "source": [
        "lst_c == lst_a"
      ]
    },
    {
      "cell_type": "code",
      "execution_count": null,
      "metadata": {
        "id": "4tqNLkH7k2Ge"
      },
      "outputs": [],
      "source": [
        "lst_d = lst_a.copy() ## Otra forma de crear una copia "
      ]
    },
    {
      "cell_type": "markdown",
      "metadata": {
        "id": "xbbIqwAkk2Ge"
      },
      "source": [
        "### Métodos que modifican a las listas"
      ]
    },
    {
      "cell_type": "code",
      "execution_count": 44,
      "metadata": {
        "id": "RtXDYSCbk2Ge"
      },
      "outputs": [],
      "source": [
        "Carreras = [\"Sociología\", \"Economía\", \"Antropologia\", \"Finanzas\", \"Ciencia Política\"]\n"
      ]
    },
    {
      "cell_type": "markdown",
      "metadata": {
        "id": "mK2o4hEkk2Ge"
      },
      "source": [
        "### - `append`"
      ]
    },
    {
      "cell_type": "code",
      "execution_count": 43,
      "metadata": {
        "id": "p1JOqOX3k2Ge",
        "outputId": "873bb8ee-78f2-4cd5-ebfd-4940cd0584e5",
        "colab": {
          "base_uri": "https://localhost:8080/"
        }
      },
      "outputs": [
        {
          "output_type": "execute_result",
          "data": {
            "text/plain": [
              "['Sociología',\n",
              " 'Economía',\n",
              " 'Antropologia',\n",
              " 'Sociologia',\n",
              " 'Ciencia Política',\n",
              " 'Relaciones Internacionales',\n",
              " 'Sociologia']"
            ]
          },
          "metadata": {},
          "execution_count": 43
        }
      ],
      "source": [
        "Carreras.append(\"Sociologia\")\n",
        "Carreras"
      ]
    },
    {
      "cell_type": "markdown",
      "metadata": {
        "id": "VqibLn40k2Ge"
      },
      "source": [
        "### - `extend` \n",
        "(solo acepta un único argumento iterable, como otra lista!)"
      ]
    },
    {
      "cell_type": "code",
      "execution_count": null,
      "metadata": {
        "id": "3BGSGE28k2Ge"
      },
      "outputs": [],
      "source": [
        "mas_Carreras = ['Historia', 'Filosofía']\n",
        "Carreras_copy = Carreras[:]\n",
        "Carreras_copy.extend(mas_Carreras)\n",
        "Carreras_copy"
      ]
    },
    {
      "cell_type": "code",
      "execution_count": null,
      "metadata": {
        "id": "TTmcA193k2Ge"
      },
      "outputs": [],
      "source": [
        "Carreras_copy = Carreras[:]\n",
        "Carreras_copy.append(mas_Carreras)\n",
        "Carreras_copy"
      ]
    },
    {
      "cell_type": "markdown",
      "metadata": {
        "id": "wSmvdKLWk2Ge"
      },
      "source": [
        "### - `insert`\n",
        "\n",
        "Este método toma 2 argumentos: la posición en la lista y el elemento a agregar\n"
      ]
    },
    {
      "cell_type": "code",
      "execution_count": null,
      "metadata": {
        "id": "cRrlbSoLk2Ge"
      },
      "outputs": [],
      "source": [
        "Carreras = [\"Historia\", \"Economia\", \"Antropologia\", \"RSP\", \"Derecho\"]\n",
        "\n",
        "Carreras.insert(2,\"Relaciones Internacionales\")\n",
        "Carreras"
      ]
    },
    {
      "cell_type": "markdown",
      "metadata": {
        "id": "7TpMSs8Ek2Gf"
      },
      "source": [
        "### - `pop`"
      ]
    },
    {
      "cell_type": "code",
      "execution_count": null,
      "metadata": {
        "id": "3cz5W8pOk2Gf"
      },
      "outputs": [],
      "source": [
        "Carreras.pop()\n",
        "Carreras"
      ]
    },
    {
      "cell_type": "code",
      "execution_count": null,
      "metadata": {
        "id": "lneTNGvGk2Gf"
      },
      "outputs": [],
      "source": [
        "Carreras.pop(0)\n",
        "Carreras"
      ]
    },
    {
      "cell_type": "markdown",
      "metadata": {
        "id": "O-YvltJWk2Gf"
      },
      "source": [
        "### - `count`"
      ]
    },
    {
      "cell_type": "code",
      "execution_count": null,
      "metadata": {
        "id": "N2QDdl82k2Gf"
      },
      "outputs": [],
      "source": [
        "num_lst = [1, 1, 2, 3, 4, 5, 6, 7, 8, 1, 9, 9]\n",
        "num_lst.count(1)"
      ]
    },
    {
      "cell_type": "code",
      "execution_count": null,
      "metadata": {
        "id": "UBBT1MKEk2Gf"
      },
      "outputs": [],
      "source": [
        "num_lst.count(0)"
      ]
    },
    {
      "cell_type": "code",
      "execution_count": null,
      "metadata": {
        "id": "6NeY_lGhk2Gf"
      },
      "outputs": [],
      "source": [
        "num_lst.count(9) > 1"
      ]
    },
    {
      "cell_type": "code",
      "execution_count": null,
      "metadata": {
        "id": "cNpcDnr3k2Gf"
      },
      "outputs": [],
      "source": [
        "4 in num_lst ## Otra forma de ver la pertenencia. "
      ]
    },
    {
      "cell_type": "code",
      "execution_count": null,
      "metadata": {
        "id": "Hybw6wNok2Gf"
      },
      "outputs": [],
      "source": [
        "13 in num_lst"
      ]
    },
    {
      "cell_type": "markdown",
      "metadata": {
        "id": "GzwU6ESEk2Gf"
      },
      "source": [
        "### - `reverse`"
      ]
    },
    {
      "cell_type": "code",
      "execution_count": null,
      "metadata": {
        "id": "PfsBDM4Ek2Gf"
      },
      "outputs": [],
      "source": [
        "num_lst.reverse()\n",
        "num_lst"
      ]
    },
    {
      "cell_type": "markdown",
      "metadata": {
        "id": "3Yd3-_X9k2Gf"
      },
      "source": [
        "###  - `sort`"
      ]
    },
    {
      "cell_type": "code",
      "execution_count": null,
      "metadata": {
        "id": "YnUcw-RCk2Gg"
      },
      "outputs": [],
      "source": [
        "num_lst.sort()\n",
        "num_lst"
      ]
    },
    {
      "cell_type": "markdown",
      "metadata": {
        "id": "sKlSu0Cuk2Gg"
      },
      "source": [
        "### Métodos para listas numéricas"
      ]
    },
    {
      "cell_type": "code",
      "execution_count": null,
      "metadata": {
        "id": "yv0CxnuOk2Gg"
      },
      "outputs": [],
      "source": [
        "sum(num_lst)"
      ]
    },
    {
      "cell_type": "code",
      "execution_count": null,
      "metadata": {
        "id": "_d2K-21Hk2Gg"
      },
      "outputs": [],
      "source": [
        "min(num_lst)"
      ]
    },
    {
      "cell_type": "code",
      "execution_count": null,
      "metadata": {
        "id": "it21EP-ok2Gg"
      },
      "outputs": [],
      "source": [
        "max(num_lst)"
      ]
    },
    {
      "cell_type": "code",
      "execution_count": null,
      "metadata": {
        "id": "q7ZoATSEk2Gg"
      },
      "outputs": [],
      "source": [
        "len(num_lst)"
      ]
    },
    {
      "cell_type": "code",
      "execution_count": null,
      "metadata": {
        "id": "k4NVXwOIk2Gj"
      },
      "outputs": [],
      "source": [
        "sum(num_lst)/len(num_lst)"
      ]
    },
    {
      "cell_type": "code",
      "execution_count": null,
      "metadata": {
        "id": "rzcOXNxrk2Gj"
      },
      "outputs": [],
      "source": [
        "num_lst"
      ]
    },
    {
      "cell_type": "markdown",
      "metadata": {
        "id": "5QZYdM9Fk2Gj"
      },
      "source": [
        "Se pueden hacer operaciones con los elementos (numéricos) de una lista"
      ]
    },
    {
      "cell_type": "code",
      "execution_count": null,
      "metadata": {
        "id": "sNWfsSJwk2Gj"
      },
      "outputs": [],
      "source": [
        "print(num_lst)\n",
        "\n",
        "print(num_lst[1] * num_lst[2] * num_lst[3])"
      ]
    },
    {
      "cell_type": "markdown",
      "metadata": {
        "id": "-OH7RaQkk2Gk"
      },
      "source": [
        "###  Listas de listas"
      ]
    },
    {
      "cell_type": "code",
      "execution_count": null,
      "metadata": {
        "id": "kjQq9Ndik2Gk"
      },
      "outputs": [],
      "source": [
        "mat = [[1, 2, 3], [4, 5, 6], [7, 8, 9]]"
      ]
    },
    {
      "cell_type": "code",
      "execution_count": null,
      "metadata": {
        "id": "ExQc_7knk2Gk"
      },
      "outputs": [],
      "source": [
        "mat"
      ]
    },
    {
      "cell_type": "code",
      "execution_count": null,
      "metadata": {
        "id": "WWnQi4oCk2Gk"
      },
      "outputs": [],
      "source": [
        "mat[0][1]"
      ]
    },
    {
      "cell_type": "code",
      "execution_count": null,
      "metadata": {
        "id": "TLRGNdF5k2Gk"
      },
      "outputs": [],
      "source": [
        "mat[2][2]"
      ]
    },
    {
      "cell_type": "code",
      "execution_count": null,
      "metadata": {
        "id": "XkHY1lMOk2Gk"
      },
      "outputs": [],
      "source": [
        "lista_vacia = []\n",
        "lista_llena= [[1,2,3,4,5], [6,7,8,9,10], ['Economia', ['Psicologia', 'Antropologia'], 'RSP', 'Derecho']]"
      ]
    },
    {
      "cell_type": "code",
      "execution_count": null,
      "metadata": {
        "id": "qbG4VgwWk2Gk"
      },
      "outputs": [],
      "source": [
        "lista_llena[2][2]"
      ]
    },
    {
      "cell_type": "code",
      "execution_count": null,
      "metadata": {
        "id": "PSm0K4pHk2Gk"
      },
      "outputs": [],
      "source": [
        ""
      ]
    }
  ],
  "metadata": {
    "kernelspec": {
      "display_name": "Python 3",
      "language": "python",
      "name": "python3"
    },
    "language_info": {
      "codemirror_mode": {
        "name": "ipython",
        "version": 3
      },
      "file_extension": ".py",
      "mimetype": "text/x-python",
      "name": "python",
      "nbconvert_exporter": "python",
      "pygments_lexer": "ipython3",
      "version": "3.8.5"
    },
    "colab": {
      "name": "Listas.ipynb",
      "provenance": [],
      "include_colab_link": true
    }
  },
  "nbformat": 4,
  "nbformat_minor": 0
}