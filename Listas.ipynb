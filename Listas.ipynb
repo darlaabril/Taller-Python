{
  "cells": [
    {
      "cell_type": "markdown",
      "metadata": {
        "id": "view-in-github",
        "colab_type": "text"
      },
      "source": [
        "<a href=\"https://colab.research.google.com/github/darlaabril/Taller-Python/blob/main/Listas.ipynb\" target=\"_parent\"><img src=\"https://colab.research.google.com/assets/colab-badge.svg\" alt=\"Open In Colab\"/></a>"
      ]
    },
    {
      "cell_type": "markdown",
      "metadata": {
        "id": "HD8XWKcIk2GJ"
      },
      "source": [
        "# Listas"
      ]
    },
    {
      "cell_type": "markdown",
      "metadata": {
        "id": "JS2YYug6k2GO"
      },
      "source": [
        "Hasta ahora los tipos de datos que hemos estudiado tienen un sólo elemento. Sin embargo, hay estructuras más complejas que pueden contener varios de esos tipos de datos. \n",
        "\n",
        "Las listas nos permiten almacenar y trabajar varios tipos de datos como una lista ordenada de valores.\n",
        "\n",
        "Es una estructura de datos muy versátil y puede hacer muchas tareas. Se usa muchísimo al escribir Python ya que es muy sencilla y por ello muy ideal de aprender al principio.\n"
      ]
    },
    {
      "cell_type": "markdown",
      "metadata": {
        "id": "LZcUqv3bk2GQ"
      },
      "source": [
        "Elaboración de una lista"
      ]
    },
    {
      "cell_type": "code",
      "execution_count": null,
      "metadata": {
        "id": "BUYP6Kn3k2GR",
        "outputId": "d3881000-7a29-4dc6-d20a-6810e7830f0f"
      },
      "outputs": [
        {
          "name": "stdout",
          "output_type": "stream",
          "text": [
            "[1, 2, 3, 4, 5]\n"
          ]
        }
      ],
      "source": [
        "lst = [1,2,3,4,5] # Brackets con elementos separados por comas\n",
        "print(lst)\n"
      ]
    },
    {
      "cell_type": "code",
      "execution_count": null,
      "metadata": {
        "id": "iya4DvYBk2GT",
        "outputId": "edbe9106-e000-4f9d-adf1-e6d12f4b5aea"
      },
      "outputs": [
        {
          "ename": "NameError",
          "evalue": "name 'errorr' is not defined",
          "output_type": "error",
          "traceback": [
            "\u001b[0;31m---------------------------------------------------------------------------\u001b[0m",
            "\u001b[0;31mNameError\u001b[0m                                 Traceback (most recent call last)",
            "\u001b[0;32m<ipython-input-2-969c5d77af80>\u001b[0m in \u001b[0;36m<module>\u001b[0;34m\u001b[0m\n\u001b[0;32m----> 1\u001b[0;31m \u001b[0merrorr\u001b[0m\u001b[0;34m\u001b[0m\u001b[0;34m\u001b[0m\u001b[0m\n\u001b[0m",
            "\u001b[0;31mNameError\u001b[0m: name 'errorr' is not defined"
          ]
        }
      ],
      "source": [
        ""
      ]
    },
    {
      "cell_type": "code",
      "execution_count": null,
      "metadata": {
        "id": "7_HT_YQ6k2GU"
      },
      "outputs": [],
      "source": [
        "cursos = [\"Sociología\", \"Economía\", \"Antropologia\", \"Finanzas\", \"Ciencia Política\", \"Relaciones Internacionales\"]\n"
      ]
    },
    {
      "cell_type": "markdown",
      "metadata": {
        "id": "Nlg7ooy7k2GU"
      },
      "source": [
        "Las listas pueden contener elementos de diferentes tipos"
      ]
    },
    {
      "cell_type": "code",
      "execution_count": null,
      "metadata": {
        "id": "tprfDjZgk2GV"
      },
      "outputs": [],
      "source": [
        "mi_lista = [5, \"hola\", 50.55, True, \"chau\"]\n",
        "mi_lista"
      ]
    },
    {
      "cell_type": "markdown",
      "metadata": {
        "id": "QjJSYJhTk2GV"
      },
      "source": [
        "Usualmente, trabajamos con listas que tienen datos del mismo tipo, ya que iteramos con ellas y el código podría arrojar error. "
      ]
    },
    {
      "cell_type": "markdown",
      "metadata": {
        "id": "kkGGHx-zk2GW"
      },
      "source": [
        "Aquí los brackets son diferentes a los que se usan para rebanar strings!"
      ]
    },
    {
      "cell_type": "code",
      "execution_count": null,
      "metadata": {
        "id": "_OnLJve4k2GW"
      },
      "outputs": [],
      "source": [
        "mensaje = \"Bienvenidos todos\"\n",
        "mensaje[0:10]\n",
        "\n",
        "len(mensaje)"
      ]
    },
    {
      "cell_type": "markdown",
      "metadata": {
        "id": "7X3a9YIjk2GX"
      },
      "source": [
        "Aquí creamos una lista vacía"
      ]
    },
    {
      "cell_type": "code",
      "execution_count": null,
      "metadata": {
        "id": "QIiq70jbk2GX"
      },
      "outputs": [],
      "source": [
        "vacia = []"
      ]
    },
    {
      "cell_type": "markdown",
      "metadata": {
        "id": "Sb1luJF_k2GX"
      },
      "source": [
        "Se pueden sumar listas"
      ]
    },
    {
      "cell_type": "code",
      "execution_count": null,
      "metadata": {
        "id": "e9aTPlhpk2GX"
      },
      "outputs": [],
      "source": [
        "primera_parte = [1, 2, 3, 4, 5]\n",
        "segunda_parte = [6, 7, 8, 9, 10]\n",
        "\n",
        "primera_parte + segunda_parte"
      ]
    },
    {
      "cell_type": "code",
      "execution_count": null,
      "metadata": {
        "id": "dhx_C-5Vk2GY"
      },
      "outputs": [],
      "source": [
        "primera_parte[0]"
      ]
    },
    {
      "cell_type": "markdown",
      "metadata": {
        "id": "QUK_Uq54k2GY"
      },
      "source": [
        "A veces queremos una lista de un tamaño determinado: "
      ]
    },
    {
      "cell_type": "code",
      "execution_count": null,
      "metadata": {
        "id": "n-ZFRnZpk2GY"
      },
      "outputs": [],
      "source": [
        "n = 15\n",
        "lst = [0] * n\n",
        "lst"
      ]
    },
    {
      "cell_type": "code",
      "execution_count": null,
      "metadata": {
        "id": "fWEzd4iXk2GY"
      },
      "outputs": [],
      "source": [
        "n = 10\n",
        "lst = [0, 1, 2] * n\n",
        "print(lst)   ## La multiplicación repite la lista n veces\n"
      ]
    },
    {
      "cell_type": "markdown",
      "metadata": {
        "id": "KVDaK36Mk2GZ"
      },
      "source": [
        "Podemos ver cuántos elementos tiene una lista"
      ]
    },
    {
      "cell_type": "code",
      "execution_count": null,
      "metadata": {
        "id": "uTxyMuILk2GZ"
      },
      "outputs": [],
      "source": [
        "print(len(mi_lista))\n",
        "print(len(segunda_parte))\n",
        "print(len(lst))\n",
        "\n",
        "\n"
      ]
    },
    {
      "cell_type": "markdown",
      "metadata": {
        "id": "xyyzbtbJk2GZ"
      },
      "source": [
        "Se pueden acceder a elementos individuales de una lista.   \n",
        "\n",
        "Python es un lenguaje indexado en 0, por lo que la enumeración de las listas empieza en 0\n"
      ]
    },
    {
      "cell_type": "code",
      "execution_count": null,
      "metadata": {
        "id": "sr7AUKSUk2GZ"
      },
      "outputs": [],
      "source": [
        "cursos"
      ]
    },
    {
      "cell_type": "code",
      "execution_count": null,
      "metadata": {
        "id": "263drZM9k2GZ"
      },
      "outputs": [],
      "source": [
        "cursos[0]"
      ]
    },
    {
      "cell_type": "code",
      "execution_count": null,
      "metadata": {
        "id": "pI0V6pffk2GZ"
      },
      "outputs": [],
      "source": [
        "cursos[3]"
      ]
    },
    {
      "cell_type": "markdown",
      "metadata": {
        "id": "g46I1ZjDk2Ga"
      },
      "source": [
        "Se puede acceder a una rebanada de la lista"
      ]
    },
    {
      "cell_type": "code",
      "execution_count": null,
      "metadata": {
        "id": "pEs6oTw5k2Ga"
      },
      "outputs": [],
      "source": [
        "cursos[0:4] ## El ultimo elemento del intervalo no está incluido!"
      ]
    },
    {
      "cell_type": "code",
      "execution_count": null,
      "metadata": {
        "id": "hpOKHHIhk2Ga"
      },
      "outputs": [],
      "source": [
        "cursos[-1] # Eligiendo el último elemento de la  lista"
      ]
    },
    {
      "cell_type": "code",
      "execution_count": null,
      "metadata": {
        "id": "argDGYr2k2Ga"
      },
      "outputs": [],
      "source": [
        "cursos[-2] # El penúltimo"
      ]
    },
    {
      "cell_type": "code",
      "execution_count": null,
      "metadata": {
        "id": "TWMJWUBDk2Ga"
      },
      "outputs": [],
      "source": [
        "print(cursos)\n",
        "print(cursos[1:-2]) # Eligiendo desde el elemento 2 hasta el penúltimo (útil cuando no sabemos el total de los elementos)"
      ]
    },
    {
      "cell_type": "code",
      "execution_count": null,
      "metadata": {
        "id": "T-OgbCnik2Ga"
      },
      "outputs": [],
      "source": [
        "cursos[3:len(cursos)] # Rebanando con el length de la lista"
      ]
    },
    {
      "cell_type": "code",
      "execution_count": null,
      "metadata": {
        "id": "FVDgz9XJk2Ga"
      },
      "outputs": [],
      "source": [
        "nums = [0,1,2,3,4,5,6,7,8,9]\n",
        "nums[1:8:2] #Rebanando desde el elemento 1 al 8(no inclusivo) cada 2 elementos. "
      ]
    },
    {
      "cell_type": "code",
      "execution_count": null,
      "metadata": {
        "id": "3bcU7pRpk2Ga"
      },
      "outputs": [],
      "source": [
        "nums[::-1] ## Así invertimos una lista.  Si los elementos se quedan vacíos, asume todo el rango. "
      ]
    },
    {
      "cell_type": "markdown",
      "metadata": {
        "id": "SXkUvtZ0k2Ga"
      },
      "source": [
        "Las listas pueden tener indexes fuera de rango. En este ejemplo, el indice 20 se comporta igual que len(lst) + 1.  \n",
        "\n",
        "No tener que preocuparnos por los indexes, puede ser conveniente!"
      ]
    },
    {
      "cell_type": "code",
      "execution_count": null,
      "metadata": {
        "id": "xUXoqnLvk2Gb"
      },
      "outputs": [],
      "source": [
        "print(nums[0:20]) \n",
        "print(nums[0:len(nums) + 1)\n",
        "print(nums[0:len(nums)])\n"
      ]
    },
    {
      "cell_type": "code",
      "execution_count": null,
      "metadata": {
        "id": "GpH0wmLuk2Gb"
      },
      "outputs": [],
      "source": [
        "len(nums)+ 1"
      ]
    },
    {
      "cell_type": "code",
      "execution_count": null,
      "metadata": {
        "id": "bZuiRnTTk2Gb"
      },
      "outputs": [],
      "source": [
        "len(nums)+ 1"
      ]
    },
    {
      "cell_type": "markdown",
      "metadata": {
        "id": "W4HRdv2Vk2Gb"
      },
      "source": [
        "## Modificando una lista\n",
        "\n",
        "Las listas son objetos **mutables**, lo cual indica que sus valores se pueden modificar después de su creación (se pueden cambiar, agregar, eliminar elementos). Otras estructuras, como los strings y las tuplas, no se pueden cambiar. "
      ]
    },
    {
      "cell_type": "markdown",
      "metadata": {
        "id": "GYUKQcAtk2Gb"
      },
      "source": [
        "Para modificar una lista, podemos hacer lo siguiente"
      ]
    },
    {
      "cell_type": "code",
      "execution_count": null,
      "metadata": {
        "id": "_zZZ9DIrk2Gb"
      },
      "outputs": [],
      "source": [
        "cursos[3] = \"Sociologia\"\n",
        "cursos\n"
      ]
    },
    {
      "cell_type": "markdown",
      "metadata": {
        "id": "coxMDVdfk2Gb"
      },
      "source": [
        "## Una propiedad curiosa de las listas "
      ]
    },
    {
      "cell_type": "markdown",
      "metadata": {
        "id": "ghoZCKs2k2Gb"
      },
      "source": [
        "Imaginen que tenemos una lista, y queremos hacer una copia de dicha lista:"
      ]
    },
    {
      "cell_type": "code",
      "execution_count": null,
      "metadata": {
        "id": "1BPgjNpck2Gc"
      },
      "outputs": [],
      "source": [
        "lst_a = [1,2,3,4]\n",
        "lst_b = lst_a"
      ]
    },
    {
      "cell_type": "markdown",
      "metadata": {
        "id": "tbCkCOSqk2Gc"
      },
      "source": [
        "Ahora, modifiquemos la lst_a:"
      ]
    },
    {
      "cell_type": "code",
      "execution_count": null,
      "metadata": {
        "id": "2ReHLHoEk2Gc"
      },
      "outputs": [],
      "source": [
        "lst_a[2] = 5\n",
        "lst_a"
      ]
    },
    {
      "cell_type": "markdown",
      "metadata": {
        "id": "jlflCdxik2Gc"
      },
      "source": [
        "¿ Qué pasó con la otra lista? "
      ]
    },
    {
      "cell_type": "code",
      "execution_count": null,
      "metadata": {
        "id": "BADGutDPk2Gc"
      },
      "outputs": [],
      "source": [
        "lst_b"
      ]
    },
    {
      "cell_type": "markdown",
      "metadata": {
        "id": "bgQj3HIsk2Gc"
      },
      "source": [
        "También ha cambiado!!!"
      ]
    },
    {
      "cell_type": "markdown",
      "metadata": {
        "id": "uBeT4T2gk2Gc"
      },
      "source": [
        "### Por qué pasa esto? \n",
        "Cuando creamos una lista, como la lst_b, que hace referencia a otra lista, la lst_a, no estamos creando un objeto nuevo. Simplemente **hacemos referencia** al mismo objeto, pues los dos señalan el mismo espacio que dicho objeto ocupa en la memoria. Cualquier modificación que se haga, ya sea a lst_a o lst_b, modificará al mismo objeto. \n",
        "\n",
        "### ¿Cómo probamos cuándo hacemos referencia al mismo objeto?"
      ]
    },
    {
      "cell_type": "markdown",
      "metadata": {
        "id": "BghpLrRgk2Gc"
      },
      "source": [
        "Aquí introducimos el comando `id`"
      ]
    },
    {
      "cell_type": "code",
      "execution_count": null,
      "metadata": {
        "id": "kkt-hojDk2Gc"
      },
      "outputs": [],
      "source": [
        "print(id(lst_a))\n",
        "print(id(lst_b)) ## Tienen los mismos ids!"
      ]
    },
    {
      "cell_type": "markdown",
      "metadata": {
        "id": "yIuoow1fk2Gc"
      },
      "source": [
        "El operador `is` nos ayuda a determinar si dos variables se refieren al mismo objeto:"
      ]
    },
    {
      "cell_type": "code",
      "execution_count": null,
      "metadata": {
        "id": "-_TwPhUlk2Gd"
      },
      "outputs": [],
      "source": [
        "lst_a is lst_b"
      ]
    },
    {
      "cell_type": "markdown",
      "metadata": {
        "id": "8vGBpADxk2Gd"
      },
      "source": [
        "### Los nombres de variables son como referencias\n",
        "\n",
        "Cuando nombramos a una variable, la variable no es su nombre en sí, sino es una referencia a un lugar de la memoria. La `lst_a` no es [1,2,3,4] , sino hace referencia a dicho objeto. La `lst_b`, al haberla creado como `lst_b` = `lst_a`, también hace referencia al mismo objeto. \n",
        "\n",
        "Los nombres son como \"etiquetas\" o \"alias\" que se le dan a los objetos. En este caso, hicimos una copia falsa."
      ]
    },
    {
      "cell_type": "markdown",
      "metadata": {
        "id": "cVRcSeK6k2Gd"
      },
      "source": [
        "[0]: ./img/lsts.png"
      ]
    },
    {
      "cell_type": "markdown",
      "metadata": {
        "id": "tSQCQxmNk2Gd"
      },
      "source": [
        "<img src=\"img/lsts.png\" width=\"800\">\n"
      ]
    },
    {
      "cell_type": "markdown",
      "metadata": {
        "id": "Ibt74sYqk2Gd"
      },
      "source": [
        "### Haciendo una copia que no referencie al mismo objeto:\n",
        "\n",
        "Si queremos hacer una copia independiente basada en una lista preexistente, solo tenemos que hacer:"
      ]
    },
    {
      "cell_type": "code",
      "execution_count": null,
      "metadata": {
        "id": "7QDCbj87k2Gd"
      },
      "outputs": [],
      "source": [
        "lst_c  = lst_a[:]"
      ]
    },
    {
      "cell_type": "code",
      "execution_count": null,
      "metadata": {
        "id": "7yhbWFkRk2Gd"
      },
      "outputs": [],
      "source": [
        "id(lst_c)"
      ]
    },
    {
      "cell_type": "code",
      "execution_count": null,
      "metadata": {
        "id": "NFmMs6vok2Gd"
      },
      "outputs": [],
      "source": [
        "id(lst_a)"
      ]
    },
    {
      "cell_type": "code",
      "execution_count": null,
      "metadata": {
        "id": "OA9Zm2hok2Gd"
      },
      "outputs": [],
      "source": [
        "lst_c is lst_a"
      ]
    },
    {
      "cell_type": "code",
      "execution_count": null,
      "metadata": {
        "id": "EhegKHaIk2Gd"
      },
      "outputs": [],
      "source": [
        "lst_c == lst_a"
      ]
    },
    {
      "cell_type": "code",
      "execution_count": null,
      "metadata": {
        "id": "4tqNLkH7k2Ge"
      },
      "outputs": [],
      "source": [
        "lst_d = lst_a.copy() ## Otra forma de crear una copia "
      ]
    },
    {
      "cell_type": "markdown",
      "metadata": {
        "id": "xbbIqwAkk2Ge"
      },
      "source": [
        "### Métodos que modifican a las listas"
      ]
    },
    {
      "cell_type": "code",
      "execution_count": null,
      "metadata": {
        "id": "RtXDYSCbk2Ge"
      },
      "outputs": [],
      "source": [
        "cursos = [\"Historia\", \"Economia\", \"Antropologia\", \"RSP\", \"Derecho\"]\n"
      ]
    },
    {
      "cell_type": "markdown",
      "metadata": {
        "id": "mK2o4hEkk2Ge"
      },
      "source": [
        "### - `append`"
      ]
    },
    {
      "cell_type": "code",
      "execution_count": null,
      "metadata": {
        "id": "p1JOqOX3k2Ge"
      },
      "outputs": [],
      "source": [
        "cursos.append(\"Sociologia\")\n",
        "cursos"
      ]
    },
    {
      "cell_type": "markdown",
      "metadata": {
        "id": "VqibLn40k2Ge"
      },
      "source": [
        "### - `extend` \n",
        "(solo acepta un único argumento iterable, como otra lista!)"
      ]
    },
    {
      "cell_type": "code",
      "execution_count": null,
      "metadata": {
        "id": "3BGSGE28k2Ge"
      },
      "outputs": [],
      "source": [
        "mas_cursos = ['Mate', 'Estadistica']\n",
        "cursos_copy = cursos[:]\n",
        "cursos_copy.extend(mas_cursos)\n",
        "cursos_copy"
      ]
    },
    {
      "cell_type": "code",
      "execution_count": null,
      "metadata": {
        "id": "TTmcA193k2Ge"
      },
      "outputs": [],
      "source": [
        "cursos_copy = cursos[:]\n",
        "cursos_copy.append(mas_cursos)\n",
        "cursos_copy"
      ]
    },
    {
      "cell_type": "markdown",
      "metadata": {
        "id": "wSmvdKLWk2Ge"
      },
      "source": [
        "### - `insert`\n",
        "\n",
        "Este método toma 2 argumentos: la posición en la lista y el elemento a agregar\n"
      ]
    },
    {
      "cell_type": "code",
      "execution_count": null,
      "metadata": {
        "id": "cRrlbSoLk2Ge"
      },
      "outputs": [],
      "source": [
        "cursos = [\"Historia\", \"Economia\", \"Antropologia\", \"RSP\", \"Derecho\"]\n",
        "\n",
        "cursos.insert(2,\"Psicologia\")\n",
        "cursos"
      ]
    },
    {
      "cell_type": "markdown",
      "metadata": {
        "id": "7TpMSs8Ek2Gf"
      },
      "source": [
        "### - `pop`"
      ]
    },
    {
      "cell_type": "code",
      "execution_count": null,
      "metadata": {
        "id": "3cz5W8pOk2Gf"
      },
      "outputs": [],
      "source": [
        "cursos.pop()\n",
        "cursos"
      ]
    },
    {
      "cell_type": "code",
      "execution_count": null,
      "metadata": {
        "id": "lneTNGvGk2Gf"
      },
      "outputs": [],
      "source": [
        "cursos.pop(0)\n",
        "cursos"
      ]
    },
    {
      "cell_type": "markdown",
      "metadata": {
        "id": "O-YvltJWk2Gf"
      },
      "source": [
        "### - `count`"
      ]
    },
    {
      "cell_type": "code",
      "execution_count": null,
      "metadata": {
        "id": "N2QDdl82k2Gf"
      },
      "outputs": [],
      "source": [
        "num_lst = [1, 1, 2, 3, 4, 5, 6, 7, 8, 1, 9, 9]\n",
        "num_lst.count(1)"
      ]
    },
    {
      "cell_type": "code",
      "execution_count": null,
      "metadata": {
        "id": "UBBT1MKEk2Gf"
      },
      "outputs": [],
      "source": [
        "num_lst.count(0)"
      ]
    },
    {
      "cell_type": "code",
      "execution_count": null,
      "metadata": {
        "id": "6NeY_lGhk2Gf"
      },
      "outputs": [],
      "source": [
        "num_lst.count(9) > 1"
      ]
    },
    {
      "cell_type": "code",
      "execution_count": null,
      "metadata": {
        "id": "cNpcDnr3k2Gf"
      },
      "outputs": [],
      "source": [
        "4 in num_lst ## Otra forma de ver la pertenencia. "
      ]
    },
    {
      "cell_type": "code",
      "execution_count": null,
      "metadata": {
        "id": "Hybw6wNok2Gf"
      },
      "outputs": [],
      "source": [
        "13 in num_lst"
      ]
    },
    {
      "cell_type": "markdown",
      "metadata": {
        "id": "GzwU6ESEk2Gf"
      },
      "source": [
        "### - `reverse`"
      ]
    },
    {
      "cell_type": "code",
      "execution_count": null,
      "metadata": {
        "id": "PfsBDM4Ek2Gf"
      },
      "outputs": [],
      "source": [
        "num_lst.reverse()\n",
        "num_lst"
      ]
    },
    {
      "cell_type": "markdown",
      "metadata": {
        "id": "3Yd3-_X9k2Gf"
      },
      "source": [
        "###  - `sort`"
      ]
    },
    {
      "cell_type": "code",
      "execution_count": null,
      "metadata": {
        "id": "YnUcw-RCk2Gg"
      },
      "outputs": [],
      "source": [
        "num_lst.sort()\n",
        "num_lst"
      ]
    },
    {
      "cell_type": "markdown",
      "metadata": {
        "id": "sKlSu0Cuk2Gg"
      },
      "source": [
        "### Métodos para listas numéricas"
      ]
    },
    {
      "cell_type": "code",
      "execution_count": null,
      "metadata": {
        "id": "yv0CxnuOk2Gg"
      },
      "outputs": [],
      "source": [
        "sum(num_lst)"
      ]
    },
    {
      "cell_type": "code",
      "execution_count": null,
      "metadata": {
        "id": "_d2K-21Hk2Gg"
      },
      "outputs": [],
      "source": [
        "min(num_lst)"
      ]
    },
    {
      "cell_type": "code",
      "execution_count": null,
      "metadata": {
        "id": "it21EP-ok2Gg"
      },
      "outputs": [],
      "source": [
        "max(num_lst)"
      ]
    },
    {
      "cell_type": "code",
      "execution_count": null,
      "metadata": {
        "id": "q7ZoATSEk2Gg"
      },
      "outputs": [],
      "source": [
        "len(num_lst)"
      ]
    },
    {
      "cell_type": "code",
      "execution_count": null,
      "metadata": {
        "id": "k4NVXwOIk2Gj"
      },
      "outputs": [],
      "source": [
        "sum(num_lst)/len(num_lst)"
      ]
    },
    {
      "cell_type": "code",
      "execution_count": null,
      "metadata": {
        "id": "rzcOXNxrk2Gj"
      },
      "outputs": [],
      "source": [
        "num_lst"
      ]
    },
    {
      "cell_type": "markdown",
      "metadata": {
        "id": "5QZYdM9Fk2Gj"
      },
      "source": [
        "Se pueden hacer operaciones con los elementos (numéricos) de una lista"
      ]
    },
    {
      "cell_type": "code",
      "execution_count": null,
      "metadata": {
        "id": "sNWfsSJwk2Gj"
      },
      "outputs": [],
      "source": [
        "print(num_lst)\n",
        "\n",
        "print(num_lst[1] * num_lst[2] * num_lst[3])"
      ]
    },
    {
      "cell_type": "markdown",
      "metadata": {
        "id": "-OH7RaQkk2Gk"
      },
      "source": [
        "###  Listas de listas"
      ]
    },
    {
      "cell_type": "code",
      "execution_count": null,
      "metadata": {
        "id": "kjQq9Ndik2Gk"
      },
      "outputs": [],
      "source": [
        "mat = [[1, 2, 3], [4, 5, 6], [7, 8, 9]]"
      ]
    },
    {
      "cell_type": "code",
      "execution_count": null,
      "metadata": {
        "id": "ExQc_7knk2Gk"
      },
      "outputs": [],
      "source": [
        "mat"
      ]
    },
    {
      "cell_type": "code",
      "execution_count": null,
      "metadata": {
        "id": "WWnQi4oCk2Gk"
      },
      "outputs": [],
      "source": [
        "mat[0][1]"
      ]
    },
    {
      "cell_type": "code",
      "execution_count": null,
      "metadata": {
        "id": "TLRGNdF5k2Gk"
      },
      "outputs": [],
      "source": [
        "mat[2][2]"
      ]
    },
    {
      "cell_type": "code",
      "execution_count": null,
      "metadata": {
        "id": "XkHY1lMOk2Gk"
      },
      "outputs": [],
      "source": [
        "lista_vacia = []\n",
        "lista_llena= [[1,2,3,4,5], [6,7,8,9,10], ['Economia', ['Psicologia', 'Antropologia'], 'RSP', 'Derecho']]"
      ]
    },
    {
      "cell_type": "code",
      "execution_count": null,
      "metadata": {
        "id": "qbG4VgwWk2Gk"
      },
      "outputs": [],
      "source": [
        "lista_llena[2][2]"
      ]
    },
    {
      "cell_type": "code",
      "execution_count": null,
      "metadata": {
        "id": "PSm0K4pHk2Gk"
      },
      "outputs": [],
      "source": [
        ""
      ]
    }
  ],
  "metadata": {
    "kernelspec": {
      "display_name": "Python 3",
      "language": "python",
      "name": "python3"
    },
    "language_info": {
      "codemirror_mode": {
        "name": "ipython",
        "version": 3
      },
      "file_extension": ".py",
      "mimetype": "text/x-python",
      "name": "python",
      "nbconvert_exporter": "python",
      "pygments_lexer": "ipython3",
      "version": "3.8.5"
    },
    "colab": {
      "name": "Listas.ipynb",
      "provenance": [],
      "include_colab_link": true
    }
  },
  "nbformat": 4,
  "nbformat_minor": 0
}